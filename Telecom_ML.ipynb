{
 "cells": [
  {
   "cell_type": "markdown",
   "metadata": {
    "id": "WWbqxNLZlFII"
   },
   "source": [
    "# Project 8: Machine Learning for Predictive Analytics"
   ]
  },
  {
   "cell_type": "markdown",
   "metadata": {
    "id": "RCrmVhYDlFIJ"
   },
   "source": [
    "## Packages and setup"
   ]
  },
  {
   "cell_type": "code",
   "execution_count": 1,
   "metadata": {
    "id": "duCWbBPRlFIK"
   },
   "outputs": [],
   "source": [
    "import numpy as np\n",
    "import pandas as pd \n",
    "import seaborn as sns\n",
    "import matplotlib.pyplot as plt\n",
    "import os\n",
    "\n",
    "from scipy.stats import shapiro\n",
    "import scipy.stats as stats\n",
    "\n",
    "#parameter settings\n",
    "from IPython.core.interactiveshell import InteractiveShell\n",
    "InteractiveShell.ast_node_interactivity = \"all\"\n",
    "import warnings\n",
    "warnings.filterwarnings(\"ignore\")\n",
    "warnings.simplefilter(action='ignore', category=FutureWarning)"
   ]
  },
  {
   "cell_type": "markdown",
   "metadata": {
    "id": "VoDtZpyJlFIK"
   },
   "source": [
    "## Reading data and initial processing"
   ]
  },
  {
   "cell_type": "code",
   "execution_count": 2,
   "metadata": {
    "id": "br8Y20g5lFIL"
   },
   "outputs": [],
   "source": [
    "#edit the file location of raw data set\n",
    "cust_df=pd.read_csv(\"F:/Neeyati/VIP_Internship/Telecom Data - Machine Learning/Telecom Data.csv\")\n",
    "pred_df=pd.read_csv(\"F:/Neeyati/VIP_Internship/Telecom Data - Machine Learning/Telecom - Prediction Data.csv\")"
   ]
  },
  {
   "cell_type": "code",
   "execution_count": 3,
   "metadata": {
    "id": "xDu2UNTvlFIO"
   },
   "outputs": [
    {
     "data": {
      "text/plain": [
       "(51047, 58)"
      ]
     },
     "execution_count": 3,
     "metadata": {},
     "output_type": "execute_result"
    },
    {
     "data": {
      "text/plain": [
       "(20000, 58)"
      ]
     },
     "execution_count": 3,
     "metadata": {},
     "output_type": "execute_result"
    }
   ],
   "source": [
    "#To explore and understand the data (Dimension)\n",
    "cust_df.shape\n",
    "pred_df.shape"
   ]
  },
  {
   "cell_type": "code",
   "execution_count": 4,
   "metadata": {},
   "outputs": [
    {
     "data": {
      "text/plain": [
       "Index(['CustomerID', 'Churn', 'MonthlyRevenue', 'MonthlyMinutes',\n",
       "       'TotalRecurringCharge', 'DirectorAssistedCalls', 'OverageMinutes',\n",
       "       'RoamingCalls', 'PercChangeMinutes', 'PercChangeRevenues',\n",
       "       'DroppedCalls', 'BlockedCalls', 'UnansweredCalls', 'CustomerCareCalls',\n",
       "       'ThreewayCalls', 'ReceivedCalls', 'OutboundCalls', 'InboundCalls',\n",
       "       'PeakCallsInOut', 'OffPeakCallsInOut', 'DroppedBlockedCalls',\n",
       "       'CallForwardingCalls', 'CallWaitingCalls', 'MonthsInService',\n",
       "       'UniqueSubs', 'ActiveSubs', 'ServiceArea', 'Handsets', 'HandsetModels',\n",
       "       'CurrentEquipmentDays', 'AgeHH1', 'AgeHH2', 'ChildrenInHH',\n",
       "       'HandsetRefurbished', 'HandsetWebCapable', 'TruckOwner', 'RVOwner',\n",
       "       'Homeownership', 'BuysViaMailOrder', 'RespondsToMailOffers',\n",
       "       'OptOutMailings', 'NonUSTravel', 'OwnsComputer', 'HasCreditCard',\n",
       "       'RetentionCalls', 'RetentionOffersAccepted', 'NewCellphoneUser',\n",
       "       'NotNewCellphoneUser', 'ReferralsMadeBySubscriber', 'IncomeGroup',\n",
       "       'OwnsMotorcycle', 'AdjustmentsToCreditRating', 'HandsetPrice',\n",
       "       'MadeCallToRetentionTeam', 'CreditRating', 'PrizmCode', 'Occupation',\n",
       "       'MaritalStatus'],\n",
       "      dtype='object')"
      ]
     },
     "execution_count": 4,
     "metadata": {},
     "output_type": "execute_result"
    }
   ],
   "source": [
    "cust_df.columns"
   ]
  },
  {
   "cell_type": "code",
   "execution_count": 5,
   "metadata": {},
   "outputs": [
    {
     "data": {
      "text/plain": [
       "(58, 58)"
      ]
     },
     "execution_count": 5,
     "metadata": {},
     "output_type": "execute_result"
    }
   ],
   "source": [
    "len(cust_df.columns),len(pred_df.columns)"
   ]
  },
  {
   "cell_type": "code",
   "execution_count": 6,
   "metadata": {},
   "outputs": [
    {
     "data": {
      "text/html": [
       "<div>\n",
       "<style scoped>\n",
       "    .dataframe tbody tr th:only-of-type {\n",
       "        vertical-align: middle;\n",
       "    }\n",
       "\n",
       "    .dataframe tbody tr th {\n",
       "        vertical-align: top;\n",
       "    }\n",
       "\n",
       "    .dataframe thead th {\n",
       "        text-align: right;\n",
       "    }\n",
       "</style>\n",
       "<table border=\"1\" class=\"dataframe\">\n",
       "  <thead>\n",
       "    <tr style=\"text-align: right;\">\n",
       "      <th></th>\n",
       "      <th>CustomerID</th>\n",
       "      <th>Churn</th>\n",
       "      <th>MonthlyRevenue</th>\n",
       "      <th>MonthlyMinutes</th>\n",
       "      <th>TotalRecurringCharge</th>\n",
       "      <th>DirectorAssistedCalls</th>\n",
       "      <th>OverageMinutes</th>\n",
       "      <th>RoamingCalls</th>\n",
       "      <th>PercChangeMinutes</th>\n",
       "      <th>PercChangeRevenues</th>\n",
       "      <th>...</th>\n",
       "      <th>ReferralsMadeBySubscriber</th>\n",
       "      <th>IncomeGroup</th>\n",
       "      <th>OwnsMotorcycle</th>\n",
       "      <th>AdjustmentsToCreditRating</th>\n",
       "      <th>HandsetPrice</th>\n",
       "      <th>MadeCallToRetentionTeam</th>\n",
       "      <th>CreditRating</th>\n",
       "      <th>PrizmCode</th>\n",
       "      <th>Occupation</th>\n",
       "      <th>MaritalStatus</th>\n",
       "    </tr>\n",
       "  </thead>\n",
       "  <tbody>\n",
       "    <tr>\n",
       "      <th>0</th>\n",
       "      <td>3000002</td>\n",
       "      <td>Yes</td>\n",
       "      <td>24.00</td>\n",
       "      <td>219.0</td>\n",
       "      <td>22.0</td>\n",
       "      <td>0.25</td>\n",
       "      <td>0.0</td>\n",
       "      <td>0.0</td>\n",
       "      <td>-157.0</td>\n",
       "      <td>-19.0</td>\n",
       "      <td>...</td>\n",
       "      <td>0</td>\n",
       "      <td>4</td>\n",
       "      <td>No</td>\n",
       "      <td>0</td>\n",
       "      <td>30</td>\n",
       "      <td>Yes</td>\n",
       "      <td>1-Highest</td>\n",
       "      <td>Suburban</td>\n",
       "      <td>Professional</td>\n",
       "      <td>No</td>\n",
       "    </tr>\n",
       "    <tr>\n",
       "      <th>1</th>\n",
       "      <td>3000010</td>\n",
       "      <td>Yes</td>\n",
       "      <td>16.99</td>\n",
       "      <td>10.0</td>\n",
       "      <td>17.0</td>\n",
       "      <td>0.00</td>\n",
       "      <td>0.0</td>\n",
       "      <td>0.0</td>\n",
       "      <td>-4.0</td>\n",
       "      <td>0.0</td>\n",
       "      <td>...</td>\n",
       "      <td>0</td>\n",
       "      <td>5</td>\n",
       "      <td>No</td>\n",
       "      <td>0</td>\n",
       "      <td>30</td>\n",
       "      <td>No</td>\n",
       "      <td>4-Medium</td>\n",
       "      <td>Suburban</td>\n",
       "      <td>Professional</td>\n",
       "      <td>Yes</td>\n",
       "    </tr>\n",
       "    <tr>\n",
       "      <th>2</th>\n",
       "      <td>3000014</td>\n",
       "      <td>No</td>\n",
       "      <td>38.00</td>\n",
       "      <td>8.0</td>\n",
       "      <td>38.0</td>\n",
       "      <td>0.00</td>\n",
       "      <td>0.0</td>\n",
       "      <td>0.0</td>\n",
       "      <td>-2.0</td>\n",
       "      <td>0.0</td>\n",
       "      <td>...</td>\n",
       "      <td>0</td>\n",
       "      <td>6</td>\n",
       "      <td>No</td>\n",
       "      <td>0</td>\n",
       "      <td>Unknown</td>\n",
       "      <td>No</td>\n",
       "      <td>3-Good</td>\n",
       "      <td>Town</td>\n",
       "      <td>Crafts</td>\n",
       "      <td>Yes</td>\n",
       "    </tr>\n",
       "    <tr>\n",
       "      <th>3</th>\n",
       "      <td>3000022</td>\n",
       "      <td>No</td>\n",
       "      <td>82.28</td>\n",
       "      <td>1312.0</td>\n",
       "      <td>75.0</td>\n",
       "      <td>1.24</td>\n",
       "      <td>0.0</td>\n",
       "      <td>0.0</td>\n",
       "      <td>157.0</td>\n",
       "      <td>8.1</td>\n",
       "      <td>...</td>\n",
       "      <td>0</td>\n",
       "      <td>6</td>\n",
       "      <td>No</td>\n",
       "      <td>0</td>\n",
       "      <td>10</td>\n",
       "      <td>No</td>\n",
       "      <td>4-Medium</td>\n",
       "      <td>Other</td>\n",
       "      <td>Other</td>\n",
       "      <td>No</td>\n",
       "    </tr>\n",
       "    <tr>\n",
       "      <th>4</th>\n",
       "      <td>3000026</td>\n",
       "      <td>Yes</td>\n",
       "      <td>17.14</td>\n",
       "      <td>0.0</td>\n",
       "      <td>17.0</td>\n",
       "      <td>0.00</td>\n",
       "      <td>0.0</td>\n",
       "      <td>0.0</td>\n",
       "      <td>0.0</td>\n",
       "      <td>-0.2</td>\n",
       "      <td>...</td>\n",
       "      <td>0</td>\n",
       "      <td>9</td>\n",
       "      <td>No</td>\n",
       "      <td>1</td>\n",
       "      <td>10</td>\n",
       "      <td>No</td>\n",
       "      <td>1-Highest</td>\n",
       "      <td>Other</td>\n",
       "      <td>Professional</td>\n",
       "      <td>Yes</td>\n",
       "    </tr>\n",
       "  </tbody>\n",
       "</table>\n",
       "<p>5 rows × 58 columns</p>\n",
       "</div>"
      ],
      "text/plain": [
       "   CustomerID Churn  MonthlyRevenue  MonthlyMinutes  TotalRecurringCharge  \\\n",
       "0     3000002   Yes           24.00           219.0                  22.0   \n",
       "1     3000010   Yes           16.99            10.0                  17.0   \n",
       "2     3000014    No           38.00             8.0                  38.0   \n",
       "3     3000022    No           82.28          1312.0                  75.0   \n",
       "4     3000026   Yes           17.14             0.0                  17.0   \n",
       "\n",
       "   DirectorAssistedCalls  OverageMinutes  RoamingCalls  PercChangeMinutes  \\\n",
       "0                   0.25             0.0           0.0             -157.0   \n",
       "1                   0.00             0.0           0.0               -4.0   \n",
       "2                   0.00             0.0           0.0               -2.0   \n",
       "3                   1.24             0.0           0.0              157.0   \n",
       "4                   0.00             0.0           0.0                0.0   \n",
       "\n",
       "   PercChangeRevenues  ...  ReferralsMadeBySubscriber  IncomeGroup  \\\n",
       "0               -19.0  ...                          0            4   \n",
       "1                 0.0  ...                          0            5   \n",
       "2                 0.0  ...                          0            6   \n",
       "3                 8.1  ...                          0            6   \n",
       "4                -0.2  ...                          0            9   \n",
       "\n",
       "   OwnsMotorcycle  AdjustmentsToCreditRating  HandsetPrice  \\\n",
       "0              No                          0            30   \n",
       "1              No                          0            30   \n",
       "2              No                          0       Unknown   \n",
       "3              No                          0            10   \n",
       "4              No                          1            10   \n",
       "\n",
       "   MadeCallToRetentionTeam  CreditRating  PrizmCode    Occupation  \\\n",
       "0                      Yes     1-Highest   Suburban  Professional   \n",
       "1                       No      4-Medium   Suburban  Professional   \n",
       "2                       No        3-Good       Town        Crafts   \n",
       "3                       No      4-Medium      Other         Other   \n",
       "4                       No     1-Highest      Other  Professional   \n",
       "\n",
       "   MaritalStatus  \n",
       "0             No  \n",
       "1            Yes  \n",
       "2            Yes  \n",
       "3             No  \n",
       "4            Yes  \n",
       "\n",
       "[5 rows x 58 columns]"
      ]
     },
     "execution_count": 6,
     "metadata": {},
     "output_type": "execute_result"
    },
    {
     "data": {
      "text/html": [
       "<div>\n",
       "<style scoped>\n",
       "    .dataframe tbody tr th:only-of-type {\n",
       "        vertical-align: middle;\n",
       "    }\n",
       "\n",
       "    .dataframe tbody tr th {\n",
       "        vertical-align: top;\n",
       "    }\n",
       "\n",
       "    .dataframe thead th {\n",
       "        text-align: right;\n",
       "    }\n",
       "</style>\n",
       "<table border=\"1\" class=\"dataframe\">\n",
       "  <thead>\n",
       "    <tr style=\"text-align: right;\">\n",
       "      <th></th>\n",
       "      <th>CustomerID</th>\n",
       "      <th>Churn</th>\n",
       "      <th>MonthlyRevenue</th>\n",
       "      <th>MonthlyMinutes</th>\n",
       "      <th>TotalRecurringCharge</th>\n",
       "      <th>DirectorAssistedCalls</th>\n",
       "      <th>OverageMinutes</th>\n",
       "      <th>RoamingCalls</th>\n",
       "      <th>PercChangeMinutes</th>\n",
       "      <th>PercChangeRevenues</th>\n",
       "      <th>...</th>\n",
       "      <th>ReferralsMadeBySubscriber</th>\n",
       "      <th>IncomeGroup</th>\n",
       "      <th>OwnsMotorcycle</th>\n",
       "      <th>AdjustmentsToCreditRating</th>\n",
       "      <th>HandsetPrice</th>\n",
       "      <th>MadeCallToRetentionTeam</th>\n",
       "      <th>CreditRating</th>\n",
       "      <th>PrizmCode</th>\n",
       "      <th>Occupation</th>\n",
       "      <th>MaritalStatus</th>\n",
       "    </tr>\n",
       "  </thead>\n",
       "  <tbody>\n",
       "    <tr>\n",
       "      <th>0</th>\n",
       "      <td>3000006</td>\n",
       "      <td>NaN</td>\n",
       "      <td>57.49</td>\n",
       "      <td>483.0</td>\n",
       "      <td>37.0</td>\n",
       "      <td>0.25</td>\n",
       "      <td>23.0</td>\n",
       "      <td>0.0</td>\n",
       "      <td>532.0</td>\n",
       "      <td>51.0</td>\n",
       "      <td>...</td>\n",
       "      <td>0</td>\n",
       "      <td>5</td>\n",
       "      <td>No</td>\n",
       "      <td>1</td>\n",
       "      <td>150</td>\n",
       "      <td>No</td>\n",
       "      <td>5-Low</td>\n",
       "      <td>Other</td>\n",
       "      <td>Other</td>\n",
       "      <td>No</td>\n",
       "    </tr>\n",
       "    <tr>\n",
       "      <th>1</th>\n",
       "      <td>3000018</td>\n",
       "      <td>NaN</td>\n",
       "      <td>55.23</td>\n",
       "      <td>570.0</td>\n",
       "      <td>72.0</td>\n",
       "      <td>0.00</td>\n",
       "      <td>0.0</td>\n",
       "      <td>0.0</td>\n",
       "      <td>38.0</td>\n",
       "      <td>0.0</td>\n",
       "      <td>...</td>\n",
       "      <td>0</td>\n",
       "      <td>6</td>\n",
       "      <td>No</td>\n",
       "      <td>2</td>\n",
       "      <td>80</td>\n",
       "      <td>No</td>\n",
       "      <td>1-Highest</td>\n",
       "      <td>Other</td>\n",
       "      <td>Professional</td>\n",
       "      <td>No</td>\n",
       "    </tr>\n",
       "    <tr>\n",
       "      <th>2</th>\n",
       "      <td>3000034</td>\n",
       "      <td>NaN</td>\n",
       "      <td>97.34</td>\n",
       "      <td>1039.0</td>\n",
       "      <td>50.0</td>\n",
       "      <td>4.95</td>\n",
       "      <td>420.0</td>\n",
       "      <td>0.0</td>\n",
       "      <td>198.0</td>\n",
       "      <td>23.3</td>\n",
       "      <td>...</td>\n",
       "      <td>0</td>\n",
       "      <td>4</td>\n",
       "      <td>No</td>\n",
       "      <td>3</td>\n",
       "      <td>10</td>\n",
       "      <td>No</td>\n",
       "      <td>3-Good</td>\n",
       "      <td>Suburban</td>\n",
       "      <td>Crafts</td>\n",
       "      <td>Yes</td>\n",
       "    </tr>\n",
       "    <tr>\n",
       "      <th>3</th>\n",
       "      <td>3000070</td>\n",
       "      <td>NaN</td>\n",
       "      <td>35.59</td>\n",
       "      <td>153.0</td>\n",
       "      <td>30.0</td>\n",
       "      <td>0.00</td>\n",
       "      <td>16.0</td>\n",
       "      <td>0.0</td>\n",
       "      <td>30.0</td>\n",
       "      <td>7.3</td>\n",
       "      <td>...</td>\n",
       "      <td>0</td>\n",
       "      <td>4</td>\n",
       "      <td>No</td>\n",
       "      <td>1</td>\n",
       "      <td>200</td>\n",
       "      <td>No</td>\n",
       "      <td>1-Highest</td>\n",
       "      <td>Other</td>\n",
       "      <td>Other</td>\n",
       "      <td>No</td>\n",
       "    </tr>\n",
       "    <tr>\n",
       "      <th>4</th>\n",
       "      <td>3000074</td>\n",
       "      <td>NaN</td>\n",
       "      <td>55.27</td>\n",
       "      <td>1213.0</td>\n",
       "      <td>50.0</td>\n",
       "      <td>0.74</td>\n",
       "      <td>0.0</td>\n",
       "      <td>1.3</td>\n",
       "      <td>169.0</td>\n",
       "      <td>1.0</td>\n",
       "      <td>...</td>\n",
       "      <td>0</td>\n",
       "      <td>3</td>\n",
       "      <td>No</td>\n",
       "      <td>0</td>\n",
       "      <td>10</td>\n",
       "      <td>No</td>\n",
       "      <td>1-Highest</td>\n",
       "      <td>Suburban</td>\n",
       "      <td>Other</td>\n",
       "      <td>No</td>\n",
       "    </tr>\n",
       "  </tbody>\n",
       "</table>\n",
       "<p>5 rows × 58 columns</p>\n",
       "</div>"
      ],
      "text/plain": [
       "   CustomerID  Churn  MonthlyRevenue  MonthlyMinutes  TotalRecurringCharge  \\\n",
       "0     3000006    NaN           57.49           483.0                  37.0   \n",
       "1     3000018    NaN           55.23           570.0                  72.0   \n",
       "2     3000034    NaN           97.34          1039.0                  50.0   \n",
       "3     3000070    NaN           35.59           153.0                  30.0   \n",
       "4     3000074    NaN           55.27          1213.0                  50.0   \n",
       "\n",
       "   DirectorAssistedCalls  OverageMinutes  RoamingCalls  PercChangeMinutes  \\\n",
       "0                   0.25            23.0           0.0              532.0   \n",
       "1                   0.00             0.0           0.0               38.0   \n",
       "2                   4.95           420.0           0.0              198.0   \n",
       "3                   0.00            16.0           0.0               30.0   \n",
       "4                   0.74             0.0           1.3              169.0   \n",
       "\n",
       "   PercChangeRevenues  ...  ReferralsMadeBySubscriber  IncomeGroup  \\\n",
       "0                51.0  ...                          0            5   \n",
       "1                 0.0  ...                          0            6   \n",
       "2                23.3  ...                          0            4   \n",
       "3                 7.3  ...                          0            4   \n",
       "4                 1.0  ...                          0            3   \n",
       "\n",
       "   OwnsMotorcycle  AdjustmentsToCreditRating  HandsetPrice  \\\n",
       "0              No                          1           150   \n",
       "1              No                          2            80   \n",
       "2              No                          3            10   \n",
       "3              No                          1           200   \n",
       "4              No                          0            10   \n",
       "\n",
       "   MadeCallToRetentionTeam  CreditRating  PrizmCode    Occupation  \\\n",
       "0                       No         5-Low      Other         Other   \n",
       "1                       No     1-Highest      Other  Professional   \n",
       "2                       No        3-Good   Suburban        Crafts   \n",
       "3                       No     1-Highest      Other         Other   \n",
       "4                       No     1-Highest   Suburban         Other   \n",
       "\n",
       "   MaritalStatus  \n",
       "0             No  \n",
       "1             No  \n",
       "2            Yes  \n",
       "3             No  \n",
       "4             No  \n",
       "\n",
       "[5 rows x 58 columns]"
      ]
     },
     "execution_count": 6,
     "metadata": {},
     "output_type": "execute_result"
    }
   ],
   "source": [
    "#Representaion of the dataset\n",
    "cust_df.head()\n",
    "pred_df.head()"
   ]
  },
  {
   "cell_type": "code",
   "execution_count": 7,
   "metadata": {},
   "outputs": [
    {
     "data": {
      "text/plain": [
       "1.0"
      ]
     },
     "execution_count": 7,
     "metadata": {},
     "output_type": "execute_result"
    },
    {
     "data": {
      "text/plain": [
       "1.0"
      ]
     },
     "execution_count": 7,
     "metadata": {},
     "output_type": "execute_result"
    }
   ],
   "source": [
    "#To check duplication is present in data or not\n",
    "cust_df.CustomerID.nunique()/cust_df.shape[0] \n",
    "pred_df.CustomerID.nunique()/pred_df.shape[0]\n",
    "#shape:To check dimension of the data, if data contain m rows and n cols then shape will be (m,n) \n",
    "#shape[i] ,i =0,1 \n",
    "#0 for rows and 1 for cols"
   ]
  },
  {
   "cell_type": "code",
   "execution_count": 8,
   "metadata": {},
   "outputs": [
    {
     "data": {
      "text/plain": [
       "No     36336\n",
       "Yes    14711\n",
       "Name: Churn, dtype: int64"
      ]
     },
     "execution_count": 8,
     "metadata": {},
     "output_type": "execute_result"
    }
   ],
   "source": [
    "cust_df.Churn.value_counts()\n",
    "#value_counts() function returns object containing counts of unique values.\n",
    "#The resulting object will be in descending order &  Excludes NA values by default."
   ]
  },
  {
   "cell_type": "code",
   "execution_count": 9,
   "metadata": {},
   "outputs": [
    {
     "data": {
      "text/plain": [
       "No     71.18146\n",
       "Yes    28.81854\n",
       "Name: Churn, dtype: float64"
      ]
     },
     "execution_count": 9,
     "metadata": {},
     "output_type": "execute_result"
    }
   ],
   "source": [
    "#Percentage count for Churn Customer.\n",
    "100*cust_df.Churn.value_counts()/cust_df.shape[0]"
   ]
  },
  {
   "cell_type": "markdown",
   "metadata": {},
   "source": [
    "#### From above count we can say that ,our data set is imbalanced.We will work on this in further stpes."
   ]
  },
  {
   "cell_type": "markdown",
   "metadata": {
    "id": "rsOVIvHSlFIO"
   },
   "source": [
    "## Detect and resolve problems in the data (Missing value, Outliers, Unexpected value, etc.)"
   ]
  },
  {
   "cell_type": "code",
   "execution_count": 10,
   "metadata": {
    "id": "qSmjZ8QQlFIP"
   },
   "outputs": [
    {
     "data": {
      "text/plain": [
       "(6, 58)"
      ]
     },
     "execution_count": 10,
     "metadata": {},
     "output_type": "execute_result"
    },
    {
     "data": {
      "text/plain": [
       "(50882, 58)"
      ]
     },
     "execution_count": 10,
     "metadata": {},
     "output_type": "execute_result"
    },
    {
     "data": {
      "text/plain": [
       "(50162, 58)"
      ]
     },
     "execution_count": 10,
     "metadata": {},
     "output_type": "execute_result"
    }
   ],
   "source": [
    "#To check How many customers had zero monthly revenue. As they are not contributing any revenue to the company we can exclude them here.\n",
    "cust_df[cust_df.MonthlyRevenue == 0].shape\n",
    "cust_df = cust_df[cust_df.MonthlyRevenue > 0.0]\n",
    "cust_df.shape\n",
    "cust_df = cust_df[cust_df[\"MonthlyMinutes\"]>0.0]\n",
    "cust_df.shape"
   ]
  },
  {
   "cell_type": "code",
   "execution_count": 11,
   "metadata": {
    "id": "9r1UrF0PlFIQ"
   },
   "outputs": [
    {
     "data": {
      "text/plain": [
       "CustomerID                   0.000000\n",
       "Churn                        0.000000\n",
       "MonthlyRevenue               0.000000\n",
       "MonthlyMinutes               0.000000\n",
       "TotalRecurringCharge         0.000000\n",
       "DirectorAssistedCalls        0.000000\n",
       "OverageMinutes               0.000000\n",
       "RoamingCalls                 0.000000\n",
       "PercChangeMinutes            0.344883\n",
       "PercChangeRevenues           0.344883\n",
       "DroppedCalls                 0.000000\n",
       "BlockedCalls                 0.000000\n",
       "UnansweredCalls              0.000000\n",
       "CustomerCareCalls            0.000000\n",
       "ThreewayCalls                0.000000\n",
       "ReceivedCalls                0.000000\n",
       "OutboundCalls                0.000000\n",
       "InboundCalls                 0.000000\n",
       "PeakCallsInOut               0.000000\n",
       "OffPeakCallsInOut            0.000000\n",
       "DroppedBlockedCalls          0.000000\n",
       "CallForwardingCalls          0.000000\n",
       "CallWaitingCalls             0.000000\n",
       "MonthsInService              0.000000\n",
       "UniqueSubs                   0.000000\n",
       "ActiveSubs                   0.000000\n",
       "ServiceArea                  0.047845\n",
       "Handsets                     0.000000\n",
       "HandsetModels                0.000000\n",
       "CurrentEquipmentDays         0.000000\n",
       "AgeHH1                       1.772258\n",
       "AgeHH2                       1.772258\n",
       "ChildrenInHH                 0.000000\n",
       "HandsetRefurbished           0.000000\n",
       "HandsetWebCapable            0.000000\n",
       "TruckOwner                   0.000000\n",
       "RVOwner                      0.000000\n",
       "Homeownership                0.000000\n",
       "BuysViaMailOrder             0.000000\n",
       "RespondsToMailOffers         0.000000\n",
       "OptOutMailings               0.000000\n",
       "NonUSTravel                  0.000000\n",
       "OwnsComputer                 0.000000\n",
       "HasCreditCard                0.000000\n",
       "RetentionCalls               0.000000\n",
       "RetentionOffersAccepted      0.000000\n",
       "NewCellphoneUser             0.000000\n",
       "NotNewCellphoneUser          0.000000\n",
       "ReferralsMadeBySubscriber    0.000000\n",
       "IncomeGroup                  0.000000\n",
       "OwnsMotorcycle               0.000000\n",
       "AdjustmentsToCreditRating    0.000000\n",
       "HandsetPrice                 0.000000\n",
       "MadeCallToRetentionTeam      0.000000\n",
       "CreditRating                 0.000000\n",
       "PrizmCode                    0.000000\n",
       "Occupation                   0.000000\n",
       "MaritalStatus                0.000000\n",
       "dtype: float64"
      ]
     },
     "execution_count": 11,
     "metadata": {},
     "output_type": "execute_result"
    },
    {
     "data": {
      "text/plain": [
       "49078"
      ]
     },
     "execution_count": 11,
     "metadata": {},
     "output_type": "execute_result"
    }
   ],
   "source": [
    "#Calculate for each column % of missing value in the data and if the missing data is less than 5 % we can exclude them row-wise.\n",
    "100*(cust_df.isnull().sum()/cust_df.shape[0])\n",
    "#To remove data\n",
    "cust_df.dropna(axis=0,inplace=True)\n",
    "cust_df.shape[0]\n"
   ]
  },
  {
   "cell_type": "markdown",
   "metadata": {
    "id": "wtaCwTMqlFIQ"
   },
   "source": [
    "#### As no column contain misiing data more than 5% we can remove missing rows of our data."
   ]
  },
  {
   "cell_type": "code",
   "execution_count": 12,
   "metadata": {
    "id": "RurTZpXRlFIR",
    "outputId": "79b9bba5-8ccb-47ef-db45-a49f5e4f1168"
   },
   "outputs": [
    {
     "data": {
      "text/plain": [
       "<AxesSubplot:>"
      ]
     },
     "execution_count": 12,
     "metadata": {},
     "output_type": "execute_result"
    },
    {
     "data": {
      "image/png": "[encoded data removed]",
      "text/plain": [
       "<Figure size 432x288 with 1 Axes>"
      ]
     },
     "metadata": {
      "needs_background": "light"
     },
     "output_type": "display_data"
    }
   ],
   "source": [
    "#Box plot using pandas for columns \"UniqueSubs\" and \"DirectorAssistedCalls\"\n",
    "cols=[\"UniqueSubs\",\"DirectorAssistedCalls\"]\n",
    "cust_df.boxplot(column=cols)"
   ]
  },
  {
   "cell_type": "code",
   "execution_count": 13,
   "metadata": {
    "id": "MXMbtk5TlFIS"
   },
   "outputs": [
    {
     "data": {
      "text/html": [
       "<div>\n",
       "<style scoped>\n",
       "    .dataframe tbody tr th:only-of-type {\n",
       "        vertical-align: middle;\n",
       "    }\n",
       "\n",
       "    .dataframe tbody tr th {\n",
       "        vertical-align: top;\n",
       "    }\n",
       "\n",
       "    .dataframe thead th {\n",
       "        text-align: right;\n",
       "    }\n",
       "</style>\n",
       "<table border=\"1\" class=\"dataframe\">\n",
       "  <thead>\n",
       "    <tr style=\"text-align: right;\">\n",
       "      <th></th>\n",
       "      <th>UniqueSubs</th>\n",
       "      <th>DirectorAssistedCalls</th>\n",
       "    </tr>\n",
       "  </thead>\n",
       "  <tbody>\n",
       "    <tr>\n",
       "      <th>0.95</th>\n",
       "      <td>3.0</td>\n",
       "      <td>4.21</td>\n",
       "    </tr>\n",
       "    <tr>\n",
       "      <th>0.96</th>\n",
       "      <td>3.0</td>\n",
       "      <td>4.70</td>\n",
       "    </tr>\n",
       "    <tr>\n",
       "      <th>0.97</th>\n",
       "      <td>4.0</td>\n",
       "      <td>5.69</td>\n",
       "    </tr>\n",
       "    <tr>\n",
       "      <th>0.98</th>\n",
       "      <td>4.0</td>\n",
       "      <td>6.93</td>\n",
       "    </tr>\n",
       "    <tr>\n",
       "      <th>0.99</th>\n",
       "      <td>5.0</td>\n",
       "      <td>9.65</td>\n",
       "    </tr>\n",
       "    <tr>\n",
       "      <th>1.00</th>\n",
       "      <td>18.0</td>\n",
       "      <td>159.39</td>\n",
       "    </tr>\n",
       "  </tbody>\n",
       "</table>\n",
       "</div>"
      ],
      "text/plain": [
       "      UniqueSubs  DirectorAssistedCalls\n",
       "0.95         3.0                   4.21\n",
       "0.96         3.0                   4.70\n",
       "0.97         4.0                   5.69\n",
       "0.98         4.0                   6.93\n",
       "0.99         5.0                   9.65\n",
       "1.00        18.0                 159.39"
      ]
     },
     "execution_count": 13,
     "metadata": {},
     "output_type": "execute_result"
    }
   ],
   "source": [
    "#wRemove top 1% outliers from the above mentioned two columns and plot the box plot again\n",
    "#Use \"quantile\" function to identify top 1% outliers\n",
    "q_value=[i/100 for i in range(95,101,1)] #range(6) means 0 to 5 \n",
    "cust_df[cols].quantile(q_value)\n"
   ]
  },
  {
   "cell_type": "code",
   "execution_count": 14,
   "metadata": {},
   "outputs": [
    {
     "data": {
      "text/plain": [
       "<AxesSubplot:>"
      ]
     },
     "execution_count": 14,
     "metadata": {},
     "output_type": "execute_result"
    },
    {
     "data": {
      "image/png": "[encoded data removed]",
      "text/plain": [
       "<Figure size 432x288 with 1 Axes>"
      ]
     },
     "metadata": {
      "needs_background": "light"
     },
     "output_type": "display_data"
    }
   ],
   "source": [
    "# From Above 1 % values are 5 AND 9.65\n",
    "cust_df= cust_df[(cust_df.UniqueSubs <= 5) & (cust_df.DirectorAssistedCalls <= 9.65)]\n",
    "cols=[\"UniqueSubs\",\"DirectorAssistedCalls\"]\n",
    "cust_df.boxplot(column=cols)"
   ]
  },
  {
   "cell_type": "markdown",
   "metadata": {
    "id": "j9nGdg_jlFIS"
   },
   "source": [
    "## Exploratory analysis to analyze customer churn"
   ]
  },
  {
   "cell_type": "markdown",
   "metadata": {
    "id": "kuLvZj8LlFIS"
   },
   "source": [
    "### Q2.1 Does customers with high overage minutes also have high revenue?"
   ]
  },
  {
   "cell_type": "code",
   "execution_count": 15,
   "metadata": {
    "id": "9iwrU-MelFIT"
   },
   "outputs": [
    {
     "data": {
      "text/plain": [
       "<AxesSubplot:xlabel='MonthlyRevenue', ylabel='OverageMinutes'>"
      ]
     },
     "execution_count": 15,
     "metadata": {},
     "output_type": "execute_result"
    },
    {
     "data": {
      "image/png": "[encoded data removed]",
      "text/plain": [
       "<Figure size 432x288 with 1 Axes>"
      ]
     },
     "metadata": {
      "needs_background": "light"
     },
     "output_type": "display_data"
    }
   ],
   "source": [
    "#To check customer with high overage minutes also have high revenue.\n",
    "sns.scatterplot(x = 'MonthlyRevenue', y = 'OverageMinutes', data = cust_df )"
   ]
  },
  {
   "cell_type": "markdown",
   "metadata": {
    "id": "p0c7mh47lFIT"
   },
   "source": [
    "##### From above scatter plot we can see that there is positive correlation between Overage Minutes and Monthly revenue i.e as Overage minutes increase Monthly Revneue will may increase.\n"
   ]
  },
  {
   "cell_type": "markdown",
   "metadata": {
    "id": "ypcm12s6lFIT"
   },
   "source": [
    "### Q2.2 Does high number of active subscribers lead to low monthly revenue?"
   ]
  },
  {
   "cell_type": "code",
   "execution_count": 16,
   "metadata": {
    "id": "K_Hbu6DvlFIU"
   },
   "outputs": [
    {
     "data": {
      "text/plain": [
       "<seaborn.axisgrid.FacetGrid at 0x1d2334fbb20>"
      ]
     },
     "execution_count": 16,
     "metadata": {},
     "output_type": "execute_result"
    },
    {
     "data": {
      "image/png": "[encoded data removed]",
      "text/plain": [
       "<Figure size 360x360 with 1 Axes>"
      ]
     },
     "metadata": {
      "needs_background": "light"
     },
     "output_type": "display_data"
    }
   ],
   "source": [
    "#use category plot to plot monthly revenue for each active subs category\n",
    "sns.catplot(x= \"ActiveSubs\",y=\"MonthlyRevenue\", data = cust_df) "
   ]
  },
  {
   "cell_type": "markdown",
   "metadata": {
    "id": "mkrnwbZhlFIU"
   },
   "source": [
    "#### Result:\n",
    "As active Subscribers increases Monthly Revenue Decreases."
   ]
  },
  {
   "cell_type": "code",
   "execution_count": 17,
   "metadata": {
    "id": "VLQbrOxulFIU"
   },
   "outputs": [
    {
     "data": {
      "text/html": [
       "<div>\n",
       "<style scoped>\n",
       "    .dataframe tbody tr th:only-of-type {\n",
       "        vertical-align: middle;\n",
       "    }\n",
       "\n",
       "    .dataframe tbody tr th {\n",
       "        vertical-align: top;\n",
       "    }\n",
       "\n",
       "    .dataframe thead th {\n",
       "        text-align: right;\n",
       "    }\n",
       "</style>\n",
       "<table border=\"1\" class=\"dataframe\">\n",
       "  <thead>\n",
       "    <tr style=\"text-align: right;\">\n",
       "      <th>CreditRating</th>\n",
       "      <th>1-Highest</th>\n",
       "      <th>2-High</th>\n",
       "      <th>3-Good</th>\n",
       "      <th>4-Medium</th>\n",
       "      <th>5-Low</th>\n",
       "      <th>6-VeryLow</th>\n",
       "      <th>7-Lowest</th>\n",
       "    </tr>\n",
       "    <tr>\n",
       "      <th>Churn</th>\n",
       "      <th></th>\n",
       "      <th></th>\n",
       "      <th></th>\n",
       "      <th></th>\n",
       "      <th></th>\n",
       "      <th></th>\n",
       "      <th></th>\n",
       "    </tr>\n",
       "  </thead>\n",
       "  <tbody>\n",
       "    <tr>\n",
       "      <th>No</th>\n",
       "      <td>0.69872</td>\n",
       "      <td>0.703981</td>\n",
       "      <td>0.697558</td>\n",
       "      <td>0.745779</td>\n",
       "      <td>0.786099</td>\n",
       "      <td>0.739027</td>\n",
       "      <td>0.718026</td>\n",
       "    </tr>\n",
       "    <tr>\n",
       "      <th>Yes</th>\n",
       "      <td>0.30128</td>\n",
       "      <td>0.296019</td>\n",
       "      <td>0.302442</td>\n",
       "      <td>0.254221</td>\n",
       "      <td>0.213901</td>\n",
       "      <td>0.260973</td>\n",
       "      <td>0.281974</td>\n",
       "    </tr>\n",
       "  </tbody>\n",
       "</table>\n",
       "</div>"
      ],
      "text/plain": [
       "CreditRating  1-Highest    2-High    3-Good  4-Medium     5-Low  6-VeryLow  \\\n",
       "Churn                                                                        \n",
       "No              0.69872  0.703981  0.697558  0.745779  0.786099   0.739027   \n",
       "Yes             0.30128  0.296019  0.302442  0.254221  0.213901   0.260973   \n",
       "\n",
       "CreditRating  7-Lowest  \n",
       "Churn                   \n",
       "No            0.718026  \n",
       "Yes           0.281974  "
      ]
     },
     "execution_count": 17,
     "metadata": {},
     "output_type": "execute_result"
    },
    {
     "data": {
      "text/html": [
       "<div>\n",
       "<style scoped>\n",
       "    .dataframe tbody tr th:only-of-type {\n",
       "        vertical-align: middle;\n",
       "    }\n",
       "\n",
       "    .dataframe tbody tr th {\n",
       "        vertical-align: top;\n",
       "    }\n",
       "\n",
       "    .dataframe thead th {\n",
       "        text-align: right;\n",
       "    }\n",
       "</style>\n",
       "<table border=\"1\" class=\"dataframe\">\n",
       "  <thead>\n",
       "    <tr style=\"text-align: right;\">\n",
       "      <th>CreditRating</th>\n",
       "      <th>1-Highest</th>\n",
       "      <th>2-High</th>\n",
       "      <th>3-Good</th>\n",
       "      <th>4-Medium</th>\n",
       "      <th>5-Low</th>\n",
       "      <th>6-VeryLow</th>\n",
       "      <th>7-Lowest</th>\n",
       "    </tr>\n",
       "    <tr>\n",
       "      <th>Churn</th>\n",
       "      <th></th>\n",
       "      <th></th>\n",
       "      <th></th>\n",
       "      <th></th>\n",
       "      <th></th>\n",
       "      <th></th>\n",
       "      <th></th>\n",
       "    </tr>\n",
       "  </thead>\n",
       "  <tbody>\n",
       "    <tr>\n",
       "      <th>No</th>\n",
       "      <td>0.161832</td>\n",
       "      <td>0.370971</td>\n",
       "      <td>0.160279</td>\n",
       "      <td>0.109317</td>\n",
       "      <td>0.138640</td>\n",
       "      <td>0.017927</td>\n",
       "      <td>0.041034</td>\n",
       "    </tr>\n",
       "    <tr>\n",
       "      <th>Yes</th>\n",
       "      <td>0.177695</td>\n",
       "      <td>0.397230</td>\n",
       "      <td>0.176962</td>\n",
       "      <td>0.094893</td>\n",
       "      <td>0.096065</td>\n",
       "      <td>0.016121</td>\n",
       "      <td>0.041035</td>\n",
       "    </tr>\n",
       "  </tbody>\n",
       "</table>\n",
       "</div>"
      ],
      "text/plain": [
       "CreditRating  1-Highest    2-High    3-Good  4-Medium     5-Low  6-VeryLow  \\\n",
       "Churn                                                                        \n",
       "No             0.161832  0.370971  0.160279  0.109317  0.138640   0.017927   \n",
       "Yes            0.177695  0.397230  0.176962  0.094893  0.096065   0.016121   \n",
       "\n",
       "CreditRating  7-Lowest  \n",
       "Churn                   \n",
       "No            0.041034  \n",
       "Yes           0.041035  "
      ]
     },
     "execution_count": 17,
     "metadata": {},
     "output_type": "execute_result"
    }
   ],
   "source": [
    "#To check credit rating impact on churt rate.\n",
    "pd.crosstab(cust_df.Churn,cust_df.CreditRating).apply(lambda r: r/r.sum(), axis=0)\n",
    "pd.crosstab(cust_df.Churn,cust_df.CreditRating).apply(lambda r: r/r.sum(), axis=1)"
   ]
  },
  {
   "cell_type": "markdown",
   "metadata": {
    "id": "Tm9Kkol0lFIV"
   },
   "source": [
    "#### Result:\n",
    "    \n",
    "No deifinite trend is obsereved in churn due to Credit Card Score."
   ]
  },
  {
   "cell_type": "markdown",
   "metadata": {
    "id": "okgnaKbclFIV"
   },
   "source": [
    "### Placeholder for additional exploratory analysis"
   ]
  },
  {
   "cell_type": "markdown",
   "metadata": {
    "id": "1v8DwkhPlFIV"
   },
   "source": [
    "## Q3. Create additional features to help predict churn"
   ]
  },
  {
   "cell_type": "code",
   "execution_count": 18,
   "metadata": {
    "id": "Qtk8mg8OlFIW"
   },
   "outputs": [],
   "source": [
    "#wrapper function to create additional features for churn prediction\n",
    "def create_features(cust_df):\n",
    "    cust_df['perc_active_subs'] = cust_df['ActiveSubs'] / cust_df['UniqueSubs']\n",
    "    cust_df['perc_recurrent_charge']=cust_df['TotalRecurringCharge'] / cust_df['MonthlyRevenue']\n",
    "    cust_df['perc_Overage_min'] = cust_df['OverageMinutes']/cust_df['MonthlyMinutes']\n",
    "    cust_df['perc_RoamingCalls_min'] = cust_df['RoamingCalls']/cust_df['MonthlyMinutes']\n",
    "    cust_df['perc_DroppedCalls_min'] = cust_df['DroppedCalls']/cust_df['MonthlyMinutes']\n",
    "    cust_df['perc_BlockedCalls_min'] = cust_df['BlockedCalls']/cust_df['MonthlyMinutes']\n",
    "    cust_df['perc_UnansweredCalls_min'] = cust_df['UnansweredCalls']/cust_df['MonthlyMinutes']\n",
    "    cust_df['perc_CustomerCareCalls_min'] = cust_df['CustomerCareCalls']/cust_df['MonthlyMinutes']\n",
    "    cust_df['perc_ThreewayCalls_min'] = cust_df['ThreewayCalls']/cust_df['MonthlyMinutes']\n",
    "    cust_df['perc_ReceivedCalls_min'] = cust_df['ReceivedCalls']/cust_df['MonthlyMinutes']\n",
    "    cust_df['perc_OutboundsCalls_min'] = cust_df['OutboundCalls']/cust_df['MonthlyMinutes']\n",
    "    cust_df['perc_InboundsCalls_min'] = cust_df['InboundCalls']/cust_df['MonthlyMinutes']\n",
    "    cust_df['perc_PeackCalls_InOut'] = cust_df['PeakCallsInOut']/cust_df['MonthlyMinutes']\n",
    "    cust_df['perc_Off_PeakCalls_InOut'] = cust_df['OffPeakCallsInOut']/cust_df['MonthlyMinutes']\n",
    "    return cust_df  \n"
   ]
  },
  {
   "cell_type": "code",
   "execution_count": 19,
   "metadata": {
    "id": "aVqGUbRIlFIW"
   },
   "outputs": [
    {
     "data": {
      "text/html": [
       "<div>\n",
       "<style scoped>\n",
       "    .dataframe tbody tr th:only-of-type {\n",
       "        vertical-align: middle;\n",
       "    }\n",
       "\n",
       "    .dataframe tbody tr th {\n",
       "        vertical-align: top;\n",
       "    }\n",
       "\n",
       "    .dataframe thead th {\n",
       "        text-align: right;\n",
       "    }\n",
       "</style>\n",
       "<table border=\"1\" class=\"dataframe\">\n",
       "  <thead>\n",
       "    <tr style=\"text-align: right;\">\n",
       "      <th></th>\n",
       "      <th>CustomerID</th>\n",
       "      <th>Churn</th>\n",
       "      <th>MonthlyRevenue</th>\n",
       "      <th>MonthlyMinutes</th>\n",
       "      <th>TotalRecurringCharge</th>\n",
       "      <th>DirectorAssistedCalls</th>\n",
       "      <th>OverageMinutes</th>\n",
       "      <th>RoamingCalls</th>\n",
       "      <th>PercChangeMinutes</th>\n",
       "      <th>PercChangeRevenues</th>\n",
       "      <th>...</th>\n",
       "      <th>perc_DroppedCalls_min</th>\n",
       "      <th>perc_BlockedCalls_min</th>\n",
       "      <th>perc_UnansweredCalls_min</th>\n",
       "      <th>perc_CustomerCareCalls_min</th>\n",
       "      <th>perc_ThreewayCalls_min</th>\n",
       "      <th>perc_ReceivedCalls_min</th>\n",
       "      <th>perc_OutboundsCalls_min</th>\n",
       "      <th>perc_InboundsCalls_min</th>\n",
       "      <th>perc_PeackCalls_InOut</th>\n",
       "      <th>perc_Off_PeakCalls_InOut</th>\n",
       "    </tr>\n",
       "  </thead>\n",
       "  <tbody>\n",
       "    <tr>\n",
       "      <th>0</th>\n",
       "      <td>3000002</td>\n",
       "      <td>Yes</td>\n",
       "      <td>24.00</td>\n",
       "      <td>219.0</td>\n",
       "      <td>22.0</td>\n",
       "      <td>0.25</td>\n",
       "      <td>0.0</td>\n",
       "      <td>0.0</td>\n",
       "      <td>-157.0</td>\n",
       "      <td>-19.0</td>\n",
       "      <td>...</td>\n",
       "      <td>0.003196</td>\n",
       "      <td>0.003196</td>\n",
       "      <td>0.028767</td>\n",
       "      <td>0.000000</td>\n",
       "      <td>0.000000</td>\n",
       "      <td>0.443836</td>\n",
       "      <td>0.000000</td>\n",
       "      <td>0.000000</td>\n",
       "      <td>0.264840</td>\n",
       "      <td>0.109589</td>\n",
       "    </tr>\n",
       "    <tr>\n",
       "      <th>1</th>\n",
       "      <td>3000010</td>\n",
       "      <td>Yes</td>\n",
       "      <td>16.99</td>\n",
       "      <td>10.0</td>\n",
       "      <td>17.0</td>\n",
       "      <td>0.00</td>\n",
       "      <td>0.0</td>\n",
       "      <td>0.0</td>\n",
       "      <td>-4.0</td>\n",
       "      <td>0.0</td>\n",
       "      <td>...</td>\n",
       "      <td>0.030000</td>\n",
       "      <td>0.000000</td>\n",
       "      <td>0.270000</td>\n",
       "      <td>0.000000</td>\n",
       "      <td>0.000000</td>\n",
       "      <td>0.000000</td>\n",
       "      <td>0.000000</td>\n",
       "      <td>0.000000</td>\n",
       "      <td>0.500000</td>\n",
       "      <td>0.100000</td>\n",
       "    </tr>\n",
       "    <tr>\n",
       "      <th>2</th>\n",
       "      <td>3000014</td>\n",
       "      <td>No</td>\n",
       "      <td>38.00</td>\n",
       "      <td>8.0</td>\n",
       "      <td>38.0</td>\n",
       "      <td>0.00</td>\n",
       "      <td>0.0</td>\n",
       "      <td>0.0</td>\n",
       "      <td>-2.0</td>\n",
       "      <td>0.0</td>\n",
       "      <td>...</td>\n",
       "      <td>0.000000</td>\n",
       "      <td>0.000000</td>\n",
       "      <td>0.000000</td>\n",
       "      <td>0.000000</td>\n",
       "      <td>0.000000</td>\n",
       "      <td>0.050000</td>\n",
       "      <td>0.037500</td>\n",
       "      <td>0.000000</td>\n",
       "      <td>0.162500</td>\n",
       "      <td>0.462500</td>\n",
       "    </tr>\n",
       "    <tr>\n",
       "      <th>3</th>\n",
       "      <td>3000022</td>\n",
       "      <td>No</td>\n",
       "      <td>82.28</td>\n",
       "      <td>1312.0</td>\n",
       "      <td>75.0</td>\n",
       "      <td>1.24</td>\n",
       "      <td>0.0</td>\n",
       "      <td>0.0</td>\n",
       "      <td>157.0</td>\n",
       "      <td>8.1</td>\n",
       "      <td>...</td>\n",
       "      <td>0.039634</td>\n",
       "      <td>0.005869</td>\n",
       "      <td>0.057927</td>\n",
       "      <td>0.003277</td>\n",
       "      <td>0.000991</td>\n",
       "      <td>0.152668</td>\n",
       "      <td>0.282241</td>\n",
       "      <td>0.112043</td>\n",
       "      <td>0.423552</td>\n",
       "      <td>0.231479</td>\n",
       "    </tr>\n",
       "    <tr>\n",
       "      <th>5</th>\n",
       "      <td>3000030</td>\n",
       "      <td>No</td>\n",
       "      <td>38.05</td>\n",
       "      <td>682.0</td>\n",
       "      <td>52.0</td>\n",
       "      <td>0.25</td>\n",
       "      <td>0.0</td>\n",
       "      <td>0.0</td>\n",
       "      <td>148.0</td>\n",
       "      <td>-3.1</td>\n",
       "      <td>...</td>\n",
       "      <td>0.013196</td>\n",
       "      <td>0.002493</td>\n",
       "      <td>0.019062</td>\n",
       "      <td>0.001026</td>\n",
       "      <td>0.000000</td>\n",
       "      <td>0.061877</td>\n",
       "      <td>0.009824</td>\n",
       "      <td>0.000000</td>\n",
       "      <td>0.048827</td>\n",
       "      <td>0.077713</td>\n",
       "    </tr>\n",
       "  </tbody>\n",
       "</table>\n",
       "<p>5 rows × 72 columns</p>\n",
       "</div>"
      ],
      "text/plain": [
       "   CustomerID Churn  MonthlyRevenue  MonthlyMinutes  TotalRecurringCharge  \\\n",
       "0     3000002   Yes           24.00           219.0                  22.0   \n",
       "1     3000010   Yes           16.99            10.0                  17.0   \n",
       "2     3000014    No           38.00             8.0                  38.0   \n",
       "3     3000022    No           82.28          1312.0                  75.0   \n",
       "5     3000030    No           38.05           682.0                  52.0   \n",
       "\n",
       "   DirectorAssistedCalls  OverageMinutes  RoamingCalls  PercChangeMinutes  \\\n",
       "0                   0.25             0.0           0.0             -157.0   \n",
       "1                   0.00             0.0           0.0               -4.0   \n",
       "2                   0.00             0.0           0.0               -2.0   \n",
       "3                   1.24             0.0           0.0              157.0   \n",
       "5                   0.25             0.0           0.0              148.0   \n",
       "\n",
       "   PercChangeRevenues  ...  perc_DroppedCalls_min  perc_BlockedCalls_min  \\\n",
       "0               -19.0  ...               0.003196               0.003196   \n",
       "1                 0.0  ...               0.030000               0.000000   \n",
       "2                 0.0  ...               0.000000               0.000000   \n",
       "3                 8.1  ...               0.039634               0.005869   \n",
       "5                -3.1  ...               0.013196               0.002493   \n",
       "\n",
       "   perc_UnansweredCalls_min  perc_CustomerCareCalls_min  \\\n",
       "0                  0.028767                    0.000000   \n",
       "1                  0.270000                    0.000000   \n",
       "2                  0.000000                    0.000000   \n",
       "3                  0.057927                    0.003277   \n",
       "5                  0.019062                    0.001026   \n",
       "\n",
       "   perc_ThreewayCalls_min  perc_ReceivedCalls_min  perc_OutboundsCalls_min  \\\n",
       "0                0.000000                0.443836                 0.000000   \n",
       "1                0.000000                0.000000                 0.000000   \n",
       "2                0.000000                0.050000                 0.037500   \n",
       "3                0.000991                0.152668                 0.282241   \n",
       "5                0.000000                0.061877                 0.009824   \n",
       "\n",
       "   perc_InboundsCalls_min  perc_PeackCalls_InOut  perc_Off_PeakCalls_InOut  \n",
       "0                0.000000               0.264840                  0.109589  \n",
       "1                0.000000               0.500000                  0.100000  \n",
       "2                0.000000               0.162500                  0.462500  \n",
       "3                0.112043               0.423552                  0.231479  \n",
       "5                0.000000               0.048827                  0.077713  \n",
       "\n",
       "[5 rows x 72 columns]"
      ]
     },
     "execution_count": 19,
     "metadata": {},
     "output_type": "execute_result"
    },
    {
     "data": {
      "text/html": [
       "<div>\n",
       "<style scoped>\n",
       "    .dataframe tbody tr th:only-of-type {\n",
       "        vertical-align: middle;\n",
       "    }\n",
       "\n",
       "    .dataframe tbody tr th {\n",
       "        vertical-align: top;\n",
       "    }\n",
       "\n",
       "    .dataframe thead th {\n",
       "        text-align: right;\n",
       "    }\n",
       "</style>\n",
       "<table border=\"1\" class=\"dataframe\">\n",
       "  <thead>\n",
       "    <tr style=\"text-align: right;\">\n",
       "      <th></th>\n",
       "      <th>CustomerID</th>\n",
       "      <th>Churn</th>\n",
       "      <th>MonthlyRevenue</th>\n",
       "      <th>MonthlyMinutes</th>\n",
       "      <th>TotalRecurringCharge</th>\n",
       "      <th>DirectorAssistedCalls</th>\n",
       "      <th>OverageMinutes</th>\n",
       "      <th>RoamingCalls</th>\n",
       "      <th>PercChangeMinutes</th>\n",
       "      <th>PercChangeRevenues</th>\n",
       "      <th>...</th>\n",
       "      <th>perc_DroppedCalls_min</th>\n",
       "      <th>perc_BlockedCalls_min</th>\n",
       "      <th>perc_UnansweredCalls_min</th>\n",
       "      <th>perc_CustomerCareCalls_min</th>\n",
       "      <th>perc_ThreewayCalls_min</th>\n",
       "      <th>perc_ReceivedCalls_min</th>\n",
       "      <th>perc_OutboundsCalls_min</th>\n",
       "      <th>perc_InboundsCalls_min</th>\n",
       "      <th>perc_PeackCalls_InOut</th>\n",
       "      <th>perc_Off_PeakCalls_InOut</th>\n",
       "    </tr>\n",
       "  </thead>\n",
       "  <tbody>\n",
       "    <tr>\n",
       "      <th>0</th>\n",
       "      <td>3000006</td>\n",
       "      <td>NaN</td>\n",
       "      <td>57.49</td>\n",
       "      <td>483.0</td>\n",
       "      <td>37.0</td>\n",
       "      <td>0.25</td>\n",
       "      <td>23.0</td>\n",
       "      <td>0.0</td>\n",
       "      <td>532.0</td>\n",
       "      <td>51.0</td>\n",
       "      <td>...</td>\n",
       "      <td>0.017184</td>\n",
       "      <td>0.002070</td>\n",
       "      <td>0.126915</td>\n",
       "      <td>0.003520</td>\n",
       "      <td>0.000621</td>\n",
       "      <td>0.114493</td>\n",
       "      <td>0.095859</td>\n",
       "      <td>0.013043</td>\n",
       "      <td>0.173292</td>\n",
       "      <td>0.325052</td>\n",
       "    </tr>\n",
       "    <tr>\n",
       "      <th>1</th>\n",
       "      <td>3000018</td>\n",
       "      <td>NaN</td>\n",
       "      <td>55.23</td>\n",
       "      <td>570.0</td>\n",
       "      <td>72.0</td>\n",
       "      <td>0.00</td>\n",
       "      <td>0.0</td>\n",
       "      <td>0.0</td>\n",
       "      <td>38.0</td>\n",
       "      <td>0.0</td>\n",
       "      <td>...</td>\n",
       "      <td>0.017018</td>\n",
       "      <td>0.001228</td>\n",
       "      <td>0.135088</td>\n",
       "      <td>0.015263</td>\n",
       "      <td>0.000000</td>\n",
       "      <td>0.186491</td>\n",
       "      <td>0.025789</td>\n",
       "      <td>0.001228</td>\n",
       "      <td>0.170702</td>\n",
       "      <td>0.158421</td>\n",
       "    </tr>\n",
       "    <tr>\n",
       "      <th>2</th>\n",
       "      <td>3000034</td>\n",
       "      <td>NaN</td>\n",
       "      <td>97.34</td>\n",
       "      <td>1039.0</td>\n",
       "      <td>50.0</td>\n",
       "      <td>4.95</td>\n",
       "      <td>420.0</td>\n",
       "      <td>0.0</td>\n",
       "      <td>198.0</td>\n",
       "      <td>23.3</td>\n",
       "      <td>...</td>\n",
       "      <td>0.012223</td>\n",
       "      <td>0.002887</td>\n",
       "      <td>0.169394</td>\n",
       "      <td>0.010876</td>\n",
       "      <td>0.000289</td>\n",
       "      <td>0.205871</td>\n",
       "      <td>0.099423</td>\n",
       "      <td>0.000289</td>\n",
       "      <td>0.229355</td>\n",
       "      <td>0.185082</td>\n",
       "    </tr>\n",
       "    <tr>\n",
       "      <th>3</th>\n",
       "      <td>3000070</td>\n",
       "      <td>NaN</td>\n",
       "      <td>35.59</td>\n",
       "      <td>153.0</td>\n",
       "      <td>30.0</td>\n",
       "      <td>0.00</td>\n",
       "      <td>16.0</td>\n",
       "      <td>0.0</td>\n",
       "      <td>30.0</td>\n",
       "      <td>7.3</td>\n",
       "      <td>...</td>\n",
       "      <td>0.013072</td>\n",
       "      <td>0.004575</td>\n",
       "      <td>0.113072</td>\n",
       "      <td>0.000000</td>\n",
       "      <td>0.000000</td>\n",
       "      <td>0.216340</td>\n",
       "      <td>0.052288</td>\n",
       "      <td>0.030719</td>\n",
       "      <td>0.315686</td>\n",
       "      <td>0.045752</td>\n",
       "    </tr>\n",
       "    <tr>\n",
       "      <th>4</th>\n",
       "      <td>3000074</td>\n",
       "      <td>NaN</td>\n",
       "      <td>55.27</td>\n",
       "      <td>1213.0</td>\n",
       "      <td>50.0</td>\n",
       "      <td>0.74</td>\n",
       "      <td>0.0</td>\n",
       "      <td>1.3</td>\n",
       "      <td>169.0</td>\n",
       "      <td>1.0</td>\n",
       "      <td>...</td>\n",
       "      <td>0.002226</td>\n",
       "      <td>0.004946</td>\n",
       "      <td>0.036026</td>\n",
       "      <td>0.003545</td>\n",
       "      <td>0.000000</td>\n",
       "      <td>0.404040</td>\n",
       "      <td>0.041797</td>\n",
       "      <td>0.006843</td>\n",
       "      <td>0.156059</td>\n",
       "      <td>0.086562</td>\n",
       "    </tr>\n",
       "  </tbody>\n",
       "</table>\n",
       "<p>5 rows × 72 columns</p>\n",
       "</div>"
      ],
      "text/plain": [
       "   CustomerID  Churn  MonthlyRevenue  MonthlyMinutes  TotalRecurringCharge  \\\n",
       "0     3000006    NaN           57.49           483.0                  37.0   \n",
       "1     3000018    NaN           55.23           570.0                  72.0   \n",
       "2     3000034    NaN           97.34          1039.0                  50.0   \n",
       "3     3000070    NaN           35.59           153.0                  30.0   \n",
       "4     3000074    NaN           55.27          1213.0                  50.0   \n",
       "\n",
       "   DirectorAssistedCalls  OverageMinutes  RoamingCalls  PercChangeMinutes  \\\n",
       "0                   0.25            23.0           0.0              532.0   \n",
       "1                   0.00             0.0           0.0               38.0   \n",
       "2                   4.95           420.0           0.0              198.0   \n",
       "3                   0.00            16.0           0.0               30.0   \n",
       "4                   0.74             0.0           1.3              169.0   \n",
       "\n",
       "   PercChangeRevenues  ...  perc_DroppedCalls_min  perc_BlockedCalls_min  \\\n",
       "0                51.0  ...               0.017184               0.002070   \n",
       "1                 0.0  ...               0.017018               0.001228   \n",
       "2                23.3  ...               0.012223               0.002887   \n",
       "3                 7.3  ...               0.013072               0.004575   \n",
       "4                 1.0  ...               0.002226               0.004946   \n",
       "\n",
       "   perc_UnansweredCalls_min  perc_CustomerCareCalls_min  \\\n",
       "0                  0.126915                    0.003520   \n",
       "1                  0.135088                    0.015263   \n",
       "2                  0.169394                    0.010876   \n",
       "3                  0.113072                    0.000000   \n",
       "4                  0.036026                    0.003545   \n",
       "\n",
       "   perc_ThreewayCalls_min  perc_ReceivedCalls_min  perc_OutboundsCalls_min  \\\n",
       "0                0.000621                0.114493                 0.095859   \n",
       "1                0.000000                0.186491                 0.025789   \n",
       "2                0.000289                0.205871                 0.099423   \n",
       "3                0.000000                0.216340                 0.052288   \n",
       "4                0.000000                0.404040                 0.041797   \n",
       "\n",
       "   perc_InboundsCalls_min  perc_PeackCalls_InOut  perc_Off_PeakCalls_InOut  \n",
       "0                0.013043               0.173292                  0.325052  \n",
       "1                0.001228               0.170702                  0.158421  \n",
       "2                0.000289               0.229355                  0.185082  \n",
       "3                0.030719               0.315686                  0.045752  \n",
       "4                0.006843               0.156059                  0.086562  \n",
       "\n",
       "[5 rows x 72 columns]"
      ]
     },
     "execution_count": 19,
     "metadata": {},
     "output_type": "execute_result"
    }
   ],
   "source": [
    "#call to the feature engineering wrapper function for churn prediction\n",
    "cust_df=create_features(cust_df)\n",
    "cust_df.head()\n",
    "pred_df=create_features(pred_df)\n",
    "pred_df.head()"
   ]
  },
  {
   "cell_type": "code",
   "execution_count": 20,
   "metadata": {},
   "outputs": [],
   "source": [
    "#To classify between categorical and continuous variable.\n",
    "def check_cat (cust_df):\n",
    "    colnames=cust_df.columns\n",
    "    categorical_cols=[]\n",
    "    cotinuous_cols=[]\n",
    "    \n",
    "    for i in colnames:\n",
    "        \n",
    "        if cust_df[i].nunique() < 20:\n",
    "            if i !=\"Churn\":\n",
    "                categorical_cols.append(i)\n",
    "        else:\n",
    "            if i not in [\"CustomerID\",\"ServiceArea\"]:\n",
    "                 cotinuous_cols.append(i)\n",
    "    return( categorical_cols, cotinuous_cols)\n",
    "\n"
   ]
  },
  {
   "cell_type": "code",
   "execution_count": 21,
   "metadata": {},
   "outputs": [],
   "source": [
    "categorical_cols , continuous_cols = check_cat(cust_df)\n"
   ]
  },
  {
   "cell_type": "code",
   "execution_count": 22,
   "metadata": {},
   "outputs": [
    {
     "data": {
      "text/plain": [
       "['UniqueSubs',\n",
       " 'ActiveSubs',\n",
       " 'HandsetModels',\n",
       " 'ChildrenInHH',\n",
       " 'HandsetRefurbished',\n",
       " 'HandsetWebCapable',\n",
       " 'TruckOwner',\n",
       " 'RVOwner',\n",
       " 'Homeownership',\n",
       " 'BuysViaMailOrder',\n",
       " 'RespondsToMailOffers',\n",
       " 'OptOutMailings',\n",
       " 'NonUSTravel',\n",
       " 'OwnsComputer',\n",
       " 'HasCreditCard',\n",
       " 'RetentionCalls',\n",
       " 'RetentionOffersAccepted',\n",
       " 'NewCellphoneUser',\n",
       " 'NotNewCellphoneUser',\n",
       " 'ReferralsMadeBySubscriber',\n",
       " 'IncomeGroup',\n",
       " 'OwnsMotorcycle',\n",
       " 'AdjustmentsToCreditRating',\n",
       " 'HandsetPrice',\n",
       " 'MadeCallToRetentionTeam',\n",
       " 'CreditRating',\n",
       " 'PrizmCode',\n",
       " 'Occupation',\n",
       " 'MaritalStatus',\n",
       " 'perc_active_subs']"
      ]
     },
     "execution_count": 22,
     "metadata": {},
     "output_type": "execute_result"
    }
   ],
   "source": [
    "categorical_cols"
   ]
  },
  {
   "cell_type": "code",
   "execution_count": 23,
   "metadata": {},
   "outputs": [
    {
     "data": {
      "text/plain": [
       "['MonthlyRevenue',\n",
       " 'MonthlyMinutes',\n",
       " 'TotalRecurringCharge',\n",
       " 'DirectorAssistedCalls',\n",
       " 'OverageMinutes',\n",
       " 'RoamingCalls',\n",
       " 'PercChangeMinutes',\n",
       " 'PercChangeRevenues',\n",
       " 'DroppedCalls',\n",
       " 'BlockedCalls',\n",
       " 'UnansweredCalls',\n",
       " 'CustomerCareCalls',\n",
       " 'ThreewayCalls',\n",
       " 'ReceivedCalls',\n",
       " 'OutboundCalls',\n",
       " 'InboundCalls',\n",
       " 'PeakCallsInOut',\n",
       " 'OffPeakCallsInOut',\n",
       " 'DroppedBlockedCalls',\n",
       " 'CallForwardingCalls',\n",
       " 'CallWaitingCalls',\n",
       " 'MonthsInService',\n",
       " 'Handsets',\n",
       " 'CurrentEquipmentDays',\n",
       " 'AgeHH1',\n",
       " 'AgeHH2',\n",
       " 'perc_recurrent_charge',\n",
       " 'perc_Overage_min',\n",
       " 'perc_RoamingCalls_min',\n",
       " 'perc_DroppedCalls_min',\n",
       " 'perc_BlockedCalls_min',\n",
       " 'perc_UnansweredCalls_min',\n",
       " 'perc_CustomerCareCalls_min',\n",
       " 'perc_ThreewayCalls_min',\n",
       " 'perc_ReceivedCalls_min',\n",
       " 'perc_OutboundsCalls_min',\n",
       " 'perc_InboundsCalls_min',\n",
       " 'perc_PeackCalls_InOut',\n",
       " 'perc_Off_PeakCalls_InOut']"
      ]
     },
     "execution_count": 23,
     "metadata": {},
     "output_type": "execute_result"
    }
   ],
   "source": [
    "continuous_cols"
   ]
  },
  {
   "cell_type": "code",
   "execution_count": 24,
   "metadata": {},
   "outputs": [],
   "source": [
    "#Filter out the categorical variable that have impact on Churn rate using chi square  independece test with \n",
    "#NULL Hypothesis: Varibles are independent.\n",
    "def check_categorical_imp(cust_df, categorical_cols):\n",
    "    new_cat_cols=[]\n",
    "    for i in categorical_cols:\n",
    "        if stats.chi2_contingency(pd.crosstab(cust_df.Churn,cust_df[i]))[1]>0.05:\n",
    "            pass\n",
    "        else:\n",
    "            new_cat_cols.append(i)\n",
    "    return new_cat_cols"
   ]
  },
  {
   "cell_type": "code",
   "execution_count": 25,
   "metadata": {},
   "outputs": [],
   "source": [
    "imp_categorical_cols= check_categorical_imp(cust_df,categorical_cols)"
   ]
  },
  {
   "cell_type": "code",
   "execution_count": 26,
   "metadata": {},
   "outputs": [
    {
     "data": {
      "text/plain": [
       "30"
      ]
     },
     "execution_count": 26,
     "metadata": {},
     "output_type": "execute_result"
    },
    {
     "data": {
      "text/plain": [
       "18"
      ]
     },
     "execution_count": 26,
     "metadata": {},
     "output_type": "execute_result"
    }
   ],
   "source": [
    "len(categorical_cols)\n",
    "len(imp_categorical_cols)"
   ]
  },
  {
   "cell_type": "markdown",
   "metadata": {},
   "source": [
    "#### From 30 variables 18 varibles have impact on Churn rate from chi square test."
   ]
  },
  {
   "cell_type": "code",
   "execution_count": 27,
   "metadata": {},
   "outputs": [
    {
     "data": {
      "text/plain": [
       "(48399, 72)"
      ]
     },
     "execution_count": 27,
     "metadata": {},
     "output_type": "execute_result"
    }
   ],
   "source": [
    "cust_df.shape"
   ]
  },
  {
   "cell_type": "code",
   "execution_count": 28,
   "metadata": {},
   "outputs": [
    {
     "data": {
      "text/plain": [
       "No     34752\n",
       "Yes    13647\n",
       "Name: Churn, dtype: int64"
      ]
     },
     "execution_count": 28,
     "metadata": {},
     "output_type": "execute_result"
    }
   ],
   "source": [
    "cust_df.Churn.value_counts()"
   ]
  },
  {
   "cell_type": "code",
   "execution_count": 29,
   "metadata": {},
   "outputs": [
    {
     "data": {
      "text/plain": [
       "0    50.0\n",
       "1    50.0\n",
       "Name: Churn, dtype: float64"
      ]
     },
     "execution_count": 29,
     "metadata": {},
     "output_type": "execute_result"
    }
   ],
   "source": [
    "#Balancing Data Set by oversampling.\n",
    "cust_df[\"Churn\"]= cust_df[\"Churn\"].replace([\"Yes\",\"No\"],[1,0])\n",
    "class_count_0,class_count_1 = cust_df[\"Churn\"].value_counts()\n",
    "\n",
    "class_0 = cust_df[cust_df['Churn'] == 0]\n",
    "class_1 = cust_df[cust_df['Churn'] == 1]\n",
    "\n",
    "class_1_over = class_1.sample(class_count_0, replace=True)\n",
    "test_over = pd.concat([class_1_over,class_0],axis=0)\n",
    "\n",
    "cust_df = test_over\n",
    "y = cust_df.Churn\n",
    "y.value_counts()/len(y)*100"
   ]
  },
  {
   "cell_type": "code",
   "execution_count": 30,
   "metadata": {},
   "outputs": [
    {
     "data": {
      "text/plain": [
       "0    34752\n",
       "1    34752\n",
       "Name: Churn, dtype: int64"
      ]
     },
     "execution_count": 30,
     "metadata": {},
     "output_type": "execute_result"
    }
   ],
   "source": [
    " cust_df[\"Churn\"].value_counts()\n"
   ]
  },
  {
   "cell_type": "markdown",
   "metadata": {
    "id": "VE-kdD_YlFIX"
   },
   "source": [
    "## Q4. Build classification model to predict customer churn month in advance"
   ]
  },
  {
   "cell_type": "markdown",
   "metadata": {
    "id": "-EqcNv6rlFIX"
   },
   "source": [
    "### Initial data processing for model building exercise"
   ]
  },
  {
   "cell_type": "code",
   "execution_count": 31,
   "metadata": {},
   "outputs": [],
   "source": [
    "cols_to_be_drop=[]\n",
    "for col in categorical_cols:\n",
    "    if col not in imp_categorical_cols:\n",
    "            cols_to_be_drop.append(col)\n"
   ]
  },
  {
   "cell_type": "code",
   "execution_count": 32,
   "metadata": {},
   "outputs": [],
   "source": [
    "cust_df[\"Churn\"]=cust_df[\"Churn\"].replace([\"Yes\",\"No\"],[1,0])"
   ]
  },
  {
   "cell_type": "code",
   "execution_count": 33,
   "metadata": {},
   "outputs": [
    {
     "data": {
      "text/plain": [
       "(69504, 72)"
      ]
     },
     "execution_count": 33,
     "metadata": {},
     "output_type": "execute_result"
    }
   ],
   "source": [
    "cust_df.shape\n"
   ]
  },
  {
   "cell_type": "code",
   "execution_count": 34,
   "metadata": {},
   "outputs": [
    {
     "data": {
      "text/html": [
       "<div>\n",
       "<style scoped>\n",
       "    .dataframe tbody tr th:only-of-type {\n",
       "        vertical-align: middle;\n",
       "    }\n",
       "\n",
       "    .dataframe tbody tr th {\n",
       "        vertical-align: top;\n",
       "    }\n",
       "\n",
       "    .dataframe thead th {\n",
       "        text-align: right;\n",
       "    }\n",
       "</style>\n",
       "<table border=\"1\" class=\"dataframe\">\n",
       "  <thead>\n",
       "    <tr style=\"text-align: right;\">\n",
       "      <th></th>\n",
       "      <th>MonthlyRevenue</th>\n",
       "      <th>MonthlyMinutes</th>\n",
       "      <th>TotalRecurringCharge</th>\n",
       "      <th>DirectorAssistedCalls</th>\n",
       "      <th>OverageMinutes</th>\n",
       "      <th>RoamingCalls</th>\n",
       "      <th>PercChangeMinutes</th>\n",
       "      <th>PercChangeRevenues</th>\n",
       "      <th>DroppedCalls</th>\n",
       "      <th>BlockedCalls</th>\n",
       "      <th>...</th>\n",
       "      <th>perc_DroppedCalls_min</th>\n",
       "      <th>perc_BlockedCalls_min</th>\n",
       "      <th>perc_UnansweredCalls_min</th>\n",
       "      <th>perc_CustomerCareCalls_min</th>\n",
       "      <th>perc_ThreewayCalls_min</th>\n",
       "      <th>perc_ReceivedCalls_min</th>\n",
       "      <th>perc_OutboundsCalls_min</th>\n",
       "      <th>perc_InboundsCalls_min</th>\n",
       "      <th>perc_PeackCalls_InOut</th>\n",
       "      <th>perc_Off_PeakCalls_InOut</th>\n",
       "    </tr>\n",
       "  </thead>\n",
       "  <tbody>\n",
       "    <tr>\n",
       "      <th>0</th>\n",
       "      <td>57.49</td>\n",
       "      <td>483.0</td>\n",
       "      <td>37.0</td>\n",
       "      <td>0.25</td>\n",
       "      <td>23.0</td>\n",
       "      <td>0.0</td>\n",
       "      <td>532.0</td>\n",
       "      <td>51.0</td>\n",
       "      <td>8.3</td>\n",
       "      <td>1.0</td>\n",
       "      <td>...</td>\n",
       "      <td>0.017184</td>\n",
       "      <td>0.002070</td>\n",
       "      <td>0.126915</td>\n",
       "      <td>0.003520</td>\n",
       "      <td>0.000621</td>\n",
       "      <td>0.114493</td>\n",
       "      <td>0.095859</td>\n",
       "      <td>0.013043</td>\n",
       "      <td>0.173292</td>\n",
       "      <td>0.325052</td>\n",
       "    </tr>\n",
       "    <tr>\n",
       "      <th>1</th>\n",
       "      <td>55.23</td>\n",
       "      <td>570.0</td>\n",
       "      <td>72.0</td>\n",
       "      <td>0.00</td>\n",
       "      <td>0.0</td>\n",
       "      <td>0.0</td>\n",
       "      <td>38.0</td>\n",
       "      <td>0.0</td>\n",
       "      <td>9.7</td>\n",
       "      <td>0.7</td>\n",
       "      <td>...</td>\n",
       "      <td>0.017018</td>\n",
       "      <td>0.001228</td>\n",
       "      <td>0.135088</td>\n",
       "      <td>0.015263</td>\n",
       "      <td>0.000000</td>\n",
       "      <td>0.186491</td>\n",
       "      <td>0.025789</td>\n",
       "      <td>0.001228</td>\n",
       "      <td>0.170702</td>\n",
       "      <td>0.158421</td>\n",
       "    </tr>\n",
       "    <tr>\n",
       "      <th>2</th>\n",
       "      <td>97.34</td>\n",
       "      <td>1039.0</td>\n",
       "      <td>50.0</td>\n",
       "      <td>4.95</td>\n",
       "      <td>420.0</td>\n",
       "      <td>0.0</td>\n",
       "      <td>198.0</td>\n",
       "      <td>23.3</td>\n",
       "      <td>12.7</td>\n",
       "      <td>3.0</td>\n",
       "      <td>...</td>\n",
       "      <td>0.012223</td>\n",
       "      <td>0.002887</td>\n",
       "      <td>0.169394</td>\n",
       "      <td>0.010876</td>\n",
       "      <td>0.000289</td>\n",
       "      <td>0.205871</td>\n",
       "      <td>0.099423</td>\n",
       "      <td>0.000289</td>\n",
       "      <td>0.229355</td>\n",
       "      <td>0.185082</td>\n",
       "    </tr>\n",
       "    <tr>\n",
       "      <th>3</th>\n",
       "      <td>35.59</td>\n",
       "      <td>153.0</td>\n",
       "      <td>30.0</td>\n",
       "      <td>0.00</td>\n",
       "      <td>16.0</td>\n",
       "      <td>0.0</td>\n",
       "      <td>30.0</td>\n",
       "      <td>7.3</td>\n",
       "      <td>2.0</td>\n",
       "      <td>0.7</td>\n",
       "      <td>...</td>\n",
       "      <td>0.013072</td>\n",
       "      <td>0.004575</td>\n",
       "      <td>0.113072</td>\n",
       "      <td>0.000000</td>\n",
       "      <td>0.000000</td>\n",
       "      <td>0.216340</td>\n",
       "      <td>0.052288</td>\n",
       "      <td>0.030719</td>\n",
       "      <td>0.315686</td>\n",
       "      <td>0.045752</td>\n",
       "    </tr>\n",
       "    <tr>\n",
       "      <th>4</th>\n",
       "      <td>55.27</td>\n",
       "      <td>1213.0</td>\n",
       "      <td>50.0</td>\n",
       "      <td>0.74</td>\n",
       "      <td>0.0</td>\n",
       "      <td>1.3</td>\n",
       "      <td>169.0</td>\n",
       "      <td>1.0</td>\n",
       "      <td>2.7</td>\n",
       "      <td>6.0</td>\n",
       "      <td>...</td>\n",
       "      <td>0.002226</td>\n",
       "      <td>0.004946</td>\n",
       "      <td>0.036026</td>\n",
       "      <td>0.003545</td>\n",
       "      <td>0.000000</td>\n",
       "      <td>0.404040</td>\n",
       "      <td>0.041797</td>\n",
       "      <td>0.006843</td>\n",
       "      <td>0.156059</td>\n",
       "      <td>0.086562</td>\n",
       "    </tr>\n",
       "    <tr>\n",
       "      <th>...</th>\n",
       "      <td>...</td>\n",
       "      <td>...</td>\n",
       "      <td>...</td>\n",
       "      <td>...</td>\n",
       "      <td>...</td>\n",
       "      <td>...</td>\n",
       "      <td>...</td>\n",
       "      <td>...</td>\n",
       "      <td>...</td>\n",
       "      <td>...</td>\n",
       "      <td>...</td>\n",
       "      <td>...</td>\n",
       "      <td>...</td>\n",
       "      <td>...</td>\n",
       "      <td>...</td>\n",
       "      <td>...</td>\n",
       "      <td>...</td>\n",
       "      <td>...</td>\n",
       "      <td>...</td>\n",
       "      <td>...</td>\n",
       "      <td>...</td>\n",
       "    </tr>\n",
       "    <tr>\n",
       "      <th>19995</th>\n",
       "      <td>85.15</td>\n",
       "      <td>815.0</td>\n",
       "      <td>88.0</td>\n",
       "      <td>0.00</td>\n",
       "      <td>1.0</td>\n",
       "      <td>0.4</td>\n",
       "      <td>0.0</td>\n",
       "      <td>0.0</td>\n",
       "      <td>12.0</td>\n",
       "      <td>0.0</td>\n",
       "      <td>...</td>\n",
       "      <td>0.014724</td>\n",
       "      <td>0.000000</td>\n",
       "      <td>0.018773</td>\n",
       "      <td>0.000000</td>\n",
       "      <td>0.001595</td>\n",
       "      <td>0.173006</td>\n",
       "      <td>0.011043</td>\n",
       "      <td>0.004049</td>\n",
       "      <td>0.088344</td>\n",
       "      <td>0.047485</td>\n",
       "    </tr>\n",
       "    <tr>\n",
       "      <th>19996</th>\n",
       "      <td>NaN</td>\n",
       "      <td>NaN</td>\n",
       "      <td>NaN</td>\n",
       "      <td>NaN</td>\n",
       "      <td>NaN</td>\n",
       "      <td>NaN</td>\n",
       "      <td>NaN</td>\n",
       "      <td>NaN</td>\n",
       "      <td>0.0</td>\n",
       "      <td>0.0</td>\n",
       "      <td>...</td>\n",
       "      <td>NaN</td>\n",
       "      <td>NaN</td>\n",
       "      <td>NaN</td>\n",
       "      <td>NaN</td>\n",
       "      <td>NaN</td>\n",
       "      <td>NaN</td>\n",
       "      <td>NaN</td>\n",
       "      <td>NaN</td>\n",
       "      <td>NaN</td>\n",
       "      <td>NaN</td>\n",
       "    </tr>\n",
       "    <tr>\n",
       "      <th>19997</th>\n",
       "      <td>NaN</td>\n",
       "      <td>NaN</td>\n",
       "      <td>NaN</td>\n",
       "      <td>NaN</td>\n",
       "      <td>NaN</td>\n",
       "      <td>NaN</td>\n",
       "      <td>NaN</td>\n",
       "      <td>NaN</td>\n",
       "      <td>0.0</td>\n",
       "      <td>0.0</td>\n",
       "      <td>...</td>\n",
       "      <td>NaN</td>\n",
       "      <td>NaN</td>\n",
       "      <td>NaN</td>\n",
       "      <td>NaN</td>\n",
       "      <td>NaN</td>\n",
       "      <td>NaN</td>\n",
       "      <td>NaN</td>\n",
       "      <td>NaN</td>\n",
       "      <td>NaN</td>\n",
       "      <td>NaN</td>\n",
       "    </tr>\n",
       "    <tr>\n",
       "      <th>19998</th>\n",
       "      <td>NaN</td>\n",
       "      <td>NaN</td>\n",
       "      <td>NaN</td>\n",
       "      <td>NaN</td>\n",
       "      <td>NaN</td>\n",
       "      <td>NaN</td>\n",
       "      <td>NaN</td>\n",
       "      <td>NaN</td>\n",
       "      <td>19.0</td>\n",
       "      <td>3.3</td>\n",
       "      <td>...</td>\n",
       "      <td>NaN</td>\n",
       "      <td>NaN</td>\n",
       "      <td>NaN</td>\n",
       "      <td>NaN</td>\n",
       "      <td>NaN</td>\n",
       "      <td>NaN</td>\n",
       "      <td>NaN</td>\n",
       "      <td>NaN</td>\n",
       "      <td>NaN</td>\n",
       "      <td>NaN</td>\n",
       "    </tr>\n",
       "    <tr>\n",
       "      <th>19999</th>\n",
       "      <td>NaN</td>\n",
       "      <td>NaN</td>\n",
       "      <td>NaN</td>\n",
       "      <td>NaN</td>\n",
       "      <td>NaN</td>\n",
       "      <td>NaN</td>\n",
       "      <td>NaN</td>\n",
       "      <td>NaN</td>\n",
       "      <td>3.0</td>\n",
       "      <td>1.0</td>\n",
       "      <td>...</td>\n",
       "      <td>NaN</td>\n",
       "      <td>NaN</td>\n",
       "      <td>NaN</td>\n",
       "      <td>NaN</td>\n",
       "      <td>NaN</td>\n",
       "      <td>NaN</td>\n",
       "      <td>NaN</td>\n",
       "      <td>NaN</td>\n",
       "      <td>NaN</td>\n",
       "      <td>NaN</td>\n",
       "    </tr>\n",
       "  </tbody>\n",
       "</table>\n",
       "<p>20000 rows × 69 columns</p>\n",
       "</div>"
      ],
      "text/plain": [
       "       MonthlyRevenue  MonthlyMinutes  TotalRecurringCharge  \\\n",
       "0               57.49           483.0                  37.0   \n",
       "1               55.23           570.0                  72.0   \n",
       "2               97.34          1039.0                  50.0   \n",
       "3               35.59           153.0                  30.0   \n",
       "4               55.27          1213.0                  50.0   \n",
       "...               ...             ...                   ...   \n",
       "19995           85.15           815.0                  88.0   \n",
       "19996             NaN             NaN                   NaN   \n",
       "19997             NaN             NaN                   NaN   \n",
       "19998             NaN             NaN                   NaN   \n",
       "19999             NaN             NaN                   NaN   \n",
       "\n",
       "       DirectorAssistedCalls  OverageMinutes  RoamingCalls  PercChangeMinutes  \\\n",
       "0                       0.25            23.0           0.0              532.0   \n",
       "1                       0.00             0.0           0.0               38.0   \n",
       "2                       4.95           420.0           0.0              198.0   \n",
       "3                       0.00            16.0           0.0               30.0   \n",
       "4                       0.74             0.0           1.3              169.0   \n",
       "...                      ...             ...           ...                ...   \n",
       "19995                   0.00             1.0           0.4                0.0   \n",
       "19996                    NaN             NaN           NaN                NaN   \n",
       "19997                    NaN             NaN           NaN                NaN   \n",
       "19998                    NaN             NaN           NaN                NaN   \n",
       "19999                    NaN             NaN           NaN                NaN   \n",
       "\n",
       "       PercChangeRevenues  DroppedCalls  BlockedCalls  ...  \\\n",
       "0                    51.0           8.3           1.0  ...   \n",
       "1                     0.0           9.7           0.7  ...   \n",
       "2                    23.3          12.7           3.0  ...   \n",
       "3                     7.3           2.0           0.7  ...   \n",
       "4                     1.0           2.7           6.0  ...   \n",
       "...                   ...           ...           ...  ...   \n",
       "19995                 0.0          12.0           0.0  ...   \n",
       "19996                 NaN           0.0           0.0  ...   \n",
       "19997                 NaN           0.0           0.0  ...   \n",
       "19998                 NaN          19.0           3.3  ...   \n",
       "19999                 NaN           3.0           1.0  ...   \n",
       "\n",
       "       perc_DroppedCalls_min  perc_BlockedCalls_min  perc_UnansweredCalls_min  \\\n",
       "0                   0.017184               0.002070                  0.126915   \n",
       "1                   0.017018               0.001228                  0.135088   \n",
       "2                   0.012223               0.002887                  0.169394   \n",
       "3                   0.013072               0.004575                  0.113072   \n",
       "4                   0.002226               0.004946                  0.036026   \n",
       "...                      ...                    ...                       ...   \n",
       "19995               0.014724               0.000000                  0.018773   \n",
       "19996                    NaN                    NaN                       NaN   \n",
       "19997                    NaN                    NaN                       NaN   \n",
       "19998                    NaN                    NaN                       NaN   \n",
       "19999                    NaN                    NaN                       NaN   \n",
       "\n",
       "       perc_CustomerCareCalls_min  perc_ThreewayCalls_min  \\\n",
       "0                        0.003520                0.000621   \n",
       "1                        0.015263                0.000000   \n",
       "2                        0.010876                0.000289   \n",
       "3                        0.000000                0.000000   \n",
       "4                        0.003545                0.000000   \n",
       "...                           ...                     ...   \n",
       "19995                    0.000000                0.001595   \n",
       "19996                         NaN                     NaN   \n",
       "19997                         NaN                     NaN   \n",
       "19998                         NaN                     NaN   \n",
       "19999                         NaN                     NaN   \n",
       "\n",
       "       perc_ReceivedCalls_min  perc_OutboundsCalls_min  \\\n",
       "0                    0.114493                 0.095859   \n",
       "1                    0.186491                 0.025789   \n",
       "2                    0.205871                 0.099423   \n",
       "3                    0.216340                 0.052288   \n",
       "4                    0.404040                 0.041797   \n",
       "...                       ...                      ...   \n",
       "19995                0.173006                 0.011043   \n",
       "19996                     NaN                      NaN   \n",
       "19997                     NaN                      NaN   \n",
       "19998                     NaN                      NaN   \n",
       "19999                     NaN                      NaN   \n",
       "\n",
       "       perc_InboundsCalls_min  perc_PeackCalls_InOut  perc_Off_PeakCalls_InOut  \n",
       "0                    0.013043               0.173292                  0.325052  \n",
       "1                    0.001228               0.170702                  0.158421  \n",
       "2                    0.000289               0.229355                  0.185082  \n",
       "3                    0.030719               0.315686                  0.045752  \n",
       "4                    0.006843               0.156059                  0.086562  \n",
       "...                       ...                    ...                       ...  \n",
       "19995                0.004049               0.088344                  0.047485  \n",
       "19996                     NaN                    NaN                       NaN  \n",
       "19997                     NaN                    NaN                       NaN  \n",
       "19998                     NaN                    NaN                       NaN  \n",
       "19999                     NaN                    NaN                       NaN  \n",
       "\n",
       "[20000 rows x 69 columns]"
      ]
     },
     "execution_count": 34,
     "metadata": {},
     "output_type": "execute_result"
    }
   ],
   "source": [
    "#Storingchurn flag variable in y\n",
    "y = cust_df.Churn\n",
    "customerid= cust_df.CustomerID\n",
    "monthlyrevenue = cust_df.MonthlyRevenue\n",
    "#Drop Un-important cols\n",
    "pred_df.drop([\"CustomerID\",\"ServiceArea\",\"Churn\"],axis=1)"
   ]
  },
  {
   "cell_type": "code",
   "execution_count": 35,
   "metadata": {},
   "outputs": [
    {
     "data": {
      "text/plain": [
       "(69504, 57)"
      ]
     },
     "execution_count": 35,
     "metadata": {},
     "output_type": "execute_result"
    },
    {
     "data": {
      "text/plain": [
       "(20000, 57)"
      ]
     },
     "execution_count": 35,
     "metadata": {},
     "output_type": "execute_result"
    },
    {
     "data": {
      "text/html": [
       "<div>\n",
       "<style scoped>\n",
       "    .dataframe tbody tr th:only-of-type {\n",
       "        vertical-align: middle;\n",
       "    }\n",
       "\n",
       "    .dataframe tbody tr th {\n",
       "        vertical-align: top;\n",
       "    }\n",
       "\n",
       "    .dataframe thead th {\n",
       "        text-align: right;\n",
       "    }\n",
       "</style>\n",
       "<table border=\"1\" class=\"dataframe\">\n",
       "  <thead>\n",
       "    <tr style=\"text-align: right;\">\n",
       "      <th></th>\n",
       "      <th>UniqueSubs</th>\n",
       "      <th>ActiveSubs</th>\n",
       "      <th>HandsetModels</th>\n",
       "      <th>HandsetRefurbished</th>\n",
       "      <th>HandsetWebCapable</th>\n",
       "      <th>Homeownership</th>\n",
       "      <th>BuysViaMailOrder</th>\n",
       "      <th>RespondsToMailOffers</th>\n",
       "      <th>HasCreditCard</th>\n",
       "      <th>RetentionCalls</th>\n",
       "      <th>...</th>\n",
       "      <th>perc_DroppedCalls_min</th>\n",
       "      <th>perc_BlockedCalls_min</th>\n",
       "      <th>perc_UnansweredCalls_min</th>\n",
       "      <th>perc_CustomerCareCalls_min</th>\n",
       "      <th>perc_ThreewayCalls_min</th>\n",
       "      <th>perc_ReceivedCalls_min</th>\n",
       "      <th>perc_OutboundsCalls_min</th>\n",
       "      <th>perc_InboundsCalls_min</th>\n",
       "      <th>perc_PeackCalls_InOut</th>\n",
       "      <th>perc_Off_PeakCalls_InOut</th>\n",
       "    </tr>\n",
       "  </thead>\n",
       "  <tbody>\n",
       "    <tr>\n",
       "      <th>1293</th>\n",
       "      <td>1</td>\n",
       "      <td>1</td>\n",
       "      <td>2.0</td>\n",
       "      <td>Yes</td>\n",
       "      <td>Yes</td>\n",
       "      <td>Known</td>\n",
       "      <td>Yes</td>\n",
       "      <td>Yes</td>\n",
       "      <td>Yes</td>\n",
       "      <td>0</td>\n",
       "      <td>...</td>\n",
       "      <td>0.006643</td>\n",
       "      <td>0.021005</td>\n",
       "      <td>0.057451</td>\n",
       "      <td>0.000000</td>\n",
       "      <td>0.000000</td>\n",
       "      <td>0.141652</td>\n",
       "      <td>0.032316</td>\n",
       "      <td>0.000539</td>\n",
       "      <td>0.199820</td>\n",
       "      <td>0.168223</td>\n",
       "    </tr>\n",
       "    <tr>\n",
       "      <th>647</th>\n",
       "      <td>1</td>\n",
       "      <td>1</td>\n",
       "      <td>1.0</td>\n",
       "      <td>No</td>\n",
       "      <td>No</td>\n",
       "      <td>Known</td>\n",
       "      <td>Yes</td>\n",
       "      <td>Yes</td>\n",
       "      <td>Yes</td>\n",
       "      <td>0</td>\n",
       "      <td>...</td>\n",
       "      <td>0.000000</td>\n",
       "      <td>0.000000</td>\n",
       "      <td>0.000000</td>\n",
       "      <td>0.000000</td>\n",
       "      <td>0.000000</td>\n",
       "      <td>0.000000</td>\n",
       "      <td>0.000000</td>\n",
       "      <td>0.000000</td>\n",
       "      <td>0.000000</td>\n",
       "      <td>0.000000</td>\n",
       "    </tr>\n",
       "    <tr>\n",
       "      <th>3237</th>\n",
       "      <td>1</td>\n",
       "      <td>1</td>\n",
       "      <td>3.0</td>\n",
       "      <td>No</td>\n",
       "      <td>Yes</td>\n",
       "      <td>Known</td>\n",
       "      <td>Yes</td>\n",
       "      <td>Yes</td>\n",
       "      <td>Yes</td>\n",
       "      <td>0</td>\n",
       "      <td>...</td>\n",
       "      <td>0.012658</td>\n",
       "      <td>0.000000</td>\n",
       "      <td>0.024051</td>\n",
       "      <td>0.000000</td>\n",
       "      <td>0.002954</td>\n",
       "      <td>0.146414</td>\n",
       "      <td>0.126582</td>\n",
       "      <td>0.015612</td>\n",
       "      <td>0.180169</td>\n",
       "      <td>0.205485</td>\n",
       "    </tr>\n",
       "    <tr>\n",
       "      <th>1159</th>\n",
       "      <td>2</td>\n",
       "      <td>1</td>\n",
       "      <td>3.0</td>\n",
       "      <td>No</td>\n",
       "      <td>Yes</td>\n",
       "      <td>Unknown</td>\n",
       "      <td>No</td>\n",
       "      <td>No</td>\n",
       "      <td>No</td>\n",
       "      <td>0</td>\n",
       "      <td>...</td>\n",
       "      <td>0.009091</td>\n",
       "      <td>0.003953</td>\n",
       "      <td>0.046245</td>\n",
       "      <td>0.000000</td>\n",
       "      <td>0.000000</td>\n",
       "      <td>0.039921</td>\n",
       "      <td>0.026482</td>\n",
       "      <td>0.007905</td>\n",
       "      <td>0.139526</td>\n",
       "      <td>0.056522</td>\n",
       "    </tr>\n",
       "    <tr>\n",
       "      <th>8870</th>\n",
       "      <td>1</td>\n",
       "      <td>1</td>\n",
       "      <td>1.0</td>\n",
       "      <td>No</td>\n",
       "      <td>No</td>\n",
       "      <td>Unknown</td>\n",
       "      <td>No</td>\n",
       "      <td>No</td>\n",
       "      <td>No</td>\n",
       "      <td>0</td>\n",
       "      <td>...</td>\n",
       "      <td>0.004228</td>\n",
       "      <td>0.006342</td>\n",
       "      <td>0.034461</td>\n",
       "      <td>0.002114</td>\n",
       "      <td>0.000000</td>\n",
       "      <td>0.257928</td>\n",
       "      <td>0.057082</td>\n",
       "      <td>0.026850</td>\n",
       "      <td>0.154968</td>\n",
       "      <td>0.089429</td>\n",
       "    </tr>\n",
       "  </tbody>\n",
       "</table>\n",
       "<p>5 rows × 57 columns</p>\n",
       "</div>"
      ],
      "text/plain": [
       "      UniqueSubs  ActiveSubs  HandsetModels HandsetRefurbished  \\\n",
       "1293           1           1            2.0                Yes   \n",
       "647            1           1            1.0                 No   \n",
       "3237           1           1            3.0                 No   \n",
       "1159           2           1            3.0                 No   \n",
       "8870           1           1            1.0                 No   \n",
       "\n",
       "     HandsetWebCapable Homeownership BuysViaMailOrder RespondsToMailOffers  \\\n",
       "1293               Yes         Known              Yes                  Yes   \n",
       "647                 No         Known              Yes                  Yes   \n",
       "3237               Yes         Known              Yes                  Yes   \n",
       "1159               Yes       Unknown               No                   No   \n",
       "8870                No       Unknown               No                   No   \n",
       "\n",
       "     HasCreditCard  RetentionCalls  ...  perc_DroppedCalls_min  \\\n",
       "1293           Yes               0  ...               0.006643   \n",
       "647            Yes               0  ...               0.000000   \n",
       "3237           Yes               0  ...               0.012658   \n",
       "1159            No               0  ...               0.009091   \n",
       "8870            No               0  ...               0.004228   \n",
       "\n",
       "      perc_BlockedCalls_min perc_UnansweredCalls_min  \\\n",
       "1293               0.021005                 0.057451   \n",
       "647                0.000000                 0.000000   \n",
       "3237               0.000000                 0.024051   \n",
       "1159               0.003953                 0.046245   \n",
       "8870               0.006342                 0.034461   \n",
       "\n",
       "     perc_CustomerCareCalls_min perc_ThreewayCalls_min perc_ReceivedCalls_min  \\\n",
       "1293                   0.000000               0.000000               0.141652   \n",
       "647                    0.000000               0.000000               0.000000   \n",
       "3237                   0.000000               0.002954               0.146414   \n",
       "1159                   0.000000               0.000000               0.039921   \n",
       "8870                   0.002114               0.000000               0.257928   \n",
       "\n",
       "     perc_OutboundsCalls_min  perc_InboundsCalls_min  perc_PeackCalls_InOut  \\\n",
       "1293                0.032316                0.000539               0.199820   \n",
       "647                 0.000000                0.000000               0.000000   \n",
       "3237                0.126582                0.015612               0.180169   \n",
       "1159                0.026482                0.007905               0.139526   \n",
       "8870                0.057082                0.026850               0.154968   \n",
       "\n",
       "      perc_Off_PeakCalls_InOut  \n",
       "1293                  0.168223  \n",
       "647                   0.000000  \n",
       "3237                  0.205485  \n",
       "1159                  0.056522  \n",
       "8870                  0.089429  \n",
       "\n",
       "[5 rows x 57 columns]"
      ]
     },
     "execution_count": 35,
     "metadata": {},
     "output_type": "execute_result"
    },
    {
     "data": {
      "text/html": [
       "<div>\n",
       "<style scoped>\n",
       "    .dataframe tbody tr th:only-of-type {\n",
       "        vertical-align: middle;\n",
       "    }\n",
       "\n",
       "    .dataframe tbody tr th {\n",
       "        vertical-align: top;\n",
       "    }\n",
       "\n",
       "    .dataframe thead th {\n",
       "        text-align: right;\n",
       "    }\n",
       "</style>\n",
       "<table border=\"1\" class=\"dataframe\">\n",
       "  <thead>\n",
       "    <tr style=\"text-align: right;\">\n",
       "      <th></th>\n",
       "      <th>UniqueSubs</th>\n",
       "      <th>ActiveSubs</th>\n",
       "      <th>HandsetModels</th>\n",
       "      <th>HandsetRefurbished</th>\n",
       "      <th>HandsetWebCapable</th>\n",
       "      <th>Homeownership</th>\n",
       "      <th>BuysViaMailOrder</th>\n",
       "      <th>RespondsToMailOffers</th>\n",
       "      <th>HasCreditCard</th>\n",
       "      <th>RetentionCalls</th>\n",
       "      <th>...</th>\n",
       "      <th>perc_DroppedCalls_min</th>\n",
       "      <th>perc_BlockedCalls_min</th>\n",
       "      <th>perc_UnansweredCalls_min</th>\n",
       "      <th>perc_CustomerCareCalls_min</th>\n",
       "      <th>perc_ThreewayCalls_min</th>\n",
       "      <th>perc_ReceivedCalls_min</th>\n",
       "      <th>perc_OutboundsCalls_min</th>\n",
       "      <th>perc_InboundsCalls_min</th>\n",
       "      <th>perc_PeackCalls_InOut</th>\n",
       "      <th>perc_Off_PeakCalls_InOut</th>\n",
       "    </tr>\n",
       "  </thead>\n",
       "  <tbody>\n",
       "    <tr>\n",
       "      <th>0</th>\n",
       "      <td>1</td>\n",
       "      <td>1</td>\n",
       "      <td>6</td>\n",
       "      <td>No</td>\n",
       "      <td>Yes</td>\n",
       "      <td>Unknown</td>\n",
       "      <td>Yes</td>\n",
       "      <td>Yes</td>\n",
       "      <td>Yes</td>\n",
       "      <td>0</td>\n",
       "      <td>...</td>\n",
       "      <td>0.017184</td>\n",
       "      <td>0.002070</td>\n",
       "      <td>0.126915</td>\n",
       "      <td>0.003520</td>\n",
       "      <td>0.000621</td>\n",
       "      <td>0.114493</td>\n",
       "      <td>0.095859</td>\n",
       "      <td>0.013043</td>\n",
       "      <td>0.173292</td>\n",
       "      <td>0.325052</td>\n",
       "    </tr>\n",
       "    <tr>\n",
       "      <th>1</th>\n",
       "      <td>1</td>\n",
       "      <td>1</td>\n",
       "      <td>4</td>\n",
       "      <td>No</td>\n",
       "      <td>Yes</td>\n",
       "      <td>Known</td>\n",
       "      <td>No</td>\n",
       "      <td>No</td>\n",
       "      <td>Yes</td>\n",
       "      <td>0</td>\n",
       "      <td>...</td>\n",
       "      <td>0.017018</td>\n",
       "      <td>0.001228</td>\n",
       "      <td>0.135088</td>\n",
       "      <td>0.015263</td>\n",
       "      <td>0.000000</td>\n",
       "      <td>0.186491</td>\n",
       "      <td>0.025789</td>\n",
       "      <td>0.001228</td>\n",
       "      <td>0.170702</td>\n",
       "      <td>0.158421</td>\n",
       "    </tr>\n",
       "    <tr>\n",
       "      <th>2</th>\n",
       "      <td>1</td>\n",
       "      <td>1</td>\n",
       "      <td>3</td>\n",
       "      <td>No</td>\n",
       "      <td>No</td>\n",
       "      <td>Unknown</td>\n",
       "      <td>No</td>\n",
       "      <td>No</td>\n",
       "      <td>No</td>\n",
       "      <td>0</td>\n",
       "      <td>...</td>\n",
       "      <td>0.012223</td>\n",
       "      <td>0.002887</td>\n",
       "      <td>0.169394</td>\n",
       "      <td>0.010876</td>\n",
       "      <td>0.000289</td>\n",
       "      <td>0.205871</td>\n",
       "      <td>0.099423</td>\n",
       "      <td>0.000289</td>\n",
       "      <td>0.229355</td>\n",
       "      <td>0.185082</td>\n",
       "    </tr>\n",
       "    <tr>\n",
       "      <th>3</th>\n",
       "      <td>3</td>\n",
       "      <td>2</td>\n",
       "      <td>5</td>\n",
       "      <td>No</td>\n",
       "      <td>Yes</td>\n",
       "      <td>Known</td>\n",
       "      <td>Yes</td>\n",
       "      <td>Yes</td>\n",
       "      <td>Yes</td>\n",
       "      <td>0</td>\n",
       "      <td>...</td>\n",
       "      <td>0.013072</td>\n",
       "      <td>0.004575</td>\n",
       "      <td>0.113072</td>\n",
       "      <td>0.000000</td>\n",
       "      <td>0.000000</td>\n",
       "      <td>0.216340</td>\n",
       "      <td>0.052288</td>\n",
       "      <td>0.030719</td>\n",
       "      <td>0.315686</td>\n",
       "      <td>0.045752</td>\n",
       "    </tr>\n",
       "    <tr>\n",
       "      <th>4</th>\n",
       "      <td>1</td>\n",
       "      <td>1</td>\n",
       "      <td>4</td>\n",
       "      <td>No</td>\n",
       "      <td>Yes</td>\n",
       "      <td>Known</td>\n",
       "      <td>Yes</td>\n",
       "      <td>Yes</td>\n",
       "      <td>Yes</td>\n",
       "      <td>0</td>\n",
       "      <td>...</td>\n",
       "      <td>0.002226</td>\n",
       "      <td>0.004946</td>\n",
       "      <td>0.036026</td>\n",
       "      <td>0.003545</td>\n",
       "      <td>0.000000</td>\n",
       "      <td>0.404040</td>\n",
       "      <td>0.041797</td>\n",
       "      <td>0.006843</td>\n",
       "      <td>0.156059</td>\n",
       "      <td>0.086562</td>\n",
       "    </tr>\n",
       "  </tbody>\n",
       "</table>\n",
       "<p>5 rows × 57 columns</p>\n",
       "</div>"
      ],
      "text/plain": [
       "   UniqueSubs  ActiveSubs  HandsetModels HandsetRefurbished HandsetWebCapable  \\\n",
       "0           1           1              6                 No               Yes   \n",
       "1           1           1              4                 No               Yes   \n",
       "2           1           1              3                 No                No   \n",
       "3           3           2              5                 No               Yes   \n",
       "4           1           1              4                 No               Yes   \n",
       "\n",
       "  Homeownership BuysViaMailOrder RespondsToMailOffers HasCreditCard  \\\n",
       "0       Unknown              Yes                  Yes           Yes   \n",
       "1         Known               No                   No           Yes   \n",
       "2       Unknown               No                   No            No   \n",
       "3         Known              Yes                  Yes           Yes   \n",
       "4         Known              Yes                  Yes           Yes   \n",
       "\n",
       "   RetentionCalls  ...  perc_DroppedCalls_min  perc_BlockedCalls_min  \\\n",
       "0               0  ...               0.017184               0.002070   \n",
       "1               0  ...               0.017018               0.001228   \n",
       "2               0  ...               0.012223               0.002887   \n",
       "3               0  ...               0.013072               0.004575   \n",
       "4               0  ...               0.002226               0.004946   \n",
       "\n",
       "  perc_UnansweredCalls_min perc_CustomerCareCalls_min perc_ThreewayCalls_min  \\\n",
       "0                 0.126915                   0.003520               0.000621   \n",
       "1                 0.135088                   0.015263               0.000000   \n",
       "2                 0.169394                   0.010876               0.000289   \n",
       "3                 0.113072                   0.000000               0.000000   \n",
       "4                 0.036026                   0.003545               0.000000   \n",
       "\n",
       "  perc_ReceivedCalls_min perc_OutboundsCalls_min  perc_InboundsCalls_min  \\\n",
       "0               0.114493                0.095859                0.013043   \n",
       "1               0.186491                0.025789                0.001228   \n",
       "2               0.205871                0.099423                0.000289   \n",
       "3               0.216340                0.052288                0.030719   \n",
       "4               0.404040                0.041797                0.006843   \n",
       "\n",
       "   perc_PeackCalls_InOut  perc_Off_PeakCalls_InOut  \n",
       "0               0.173292                  0.325052  \n",
       "1               0.170702                  0.158421  \n",
       "2               0.229355                  0.185082  \n",
       "3               0.315686                  0.045752  \n",
       "4               0.156059                  0.086562  \n",
       "\n",
       "[5 rows x 57 columns]"
      ]
     },
     "execution_count": 35,
     "metadata": {},
     "output_type": "execute_result"
    }
   ],
   "source": [
    "cust_df=cust_df[imp_categorical_cols+continuous_cols]\n",
    "pred_df=pred_df[imp_categorical_cols+continuous_cols]\n",
    "cust_df.shape\n",
    "pred_df.shape\n",
    "cust_df.head()\n",
    "pred_df.head()"
   ]
  },
  {
   "cell_type": "markdown",
   "metadata": {},
   "source": [
    "#### Scale Continuous variable"
   ]
  },
  {
   "cell_type": "code",
   "execution_count": 36,
   "metadata": {},
   "outputs": [],
   "source": [
    "#To Train-Tests split\n",
    "from sklearn.model_selection import train_test_split\n",
    "#Feature Scaling for cotinuous random variable\n",
    "from sklearn.preprocessing import StandardScaler\n",
    "sc = StandardScaler()\n"
   ]
  },
  {
   "cell_type": "code",
   "execution_count": 37,
   "metadata": {},
   "outputs": [],
   "source": [
    "cust_df[continuous_cols]= sc.fit_transform(cust_df[continuous_cols])"
   ]
  },
  {
   "cell_type": "code",
   "execution_count": 38,
   "metadata": {},
   "outputs": [
    {
     "data": {
      "text/plain": [
       "(19256, 57)"
      ]
     },
     "execution_count": 38,
     "metadata": {},
     "output_type": "execute_result"
    }
   ],
   "source": [
    "pred_df=pred_df.replace([np.inf,-np.inf],np.nan).dropna(axis=0)\n",
    "pred_df.shape"
   ]
  },
  {
   "cell_type": "code",
   "execution_count": 39,
   "metadata": {},
   "outputs": [],
   "source": [
    "pred_df[continuous_cols]= sc.fit_transform(pred_df[continuous_cols])"
   ]
  },
  {
   "cell_type": "code",
   "execution_count": 40,
   "metadata": {},
   "outputs": [
    {
     "data": {
      "text/plain": [
       "(88760, 57)"
      ]
     },
     "execution_count": 40,
     "metadata": {},
     "output_type": "execute_result"
    }
   ],
   "source": [
    "complete_Data=pd.concat(objs=[cust_df,pred_df],axis=0)\n",
    "complete_Data.shape"
   ]
  },
  {
   "cell_type": "code",
   "execution_count": 41,
   "metadata": {},
   "outputs": [],
   "source": [
    "#To Create dummy variables for all categorical variables.\n",
    "Data=pd.get_dummies(complete_Data)\n",
    "cust_df=Data[:len(cust_df)]\n",
    "pred_df=Data[len(cust_df):]"
   ]
  },
  {
   "cell_type": "code",
   "execution_count": 42,
   "metadata": {},
   "outputs": [
    {
     "data": {
      "text/html": [
       "<div>\n",
       "<style scoped>\n",
       "    .dataframe tbody tr th:only-of-type {\n",
       "        vertical-align: middle;\n",
       "    }\n",
       "\n",
       "    .dataframe tbody tr th {\n",
       "        vertical-align: top;\n",
       "    }\n",
       "\n",
       "    .dataframe thead th {\n",
       "        text-align: right;\n",
       "    }\n",
       "</style>\n",
       "<table border=\"1\" class=\"dataframe\">\n",
       "  <thead>\n",
       "    <tr style=\"text-align: right;\">\n",
       "      <th></th>\n",
       "      <th>UniqueSubs</th>\n",
       "      <th>ActiveSubs</th>\n",
       "      <th>HandsetModels</th>\n",
       "      <th>RetentionCalls</th>\n",
       "      <th>RetentionOffersAccepted</th>\n",
       "      <th>IncomeGroup</th>\n",
       "      <th>perc_active_subs</th>\n",
       "      <th>MonthlyRevenue</th>\n",
       "      <th>MonthlyMinutes</th>\n",
       "      <th>TotalRecurringCharge</th>\n",
       "      <th>...</th>\n",
       "      <th>CreditRating_5-Low</th>\n",
       "      <th>CreditRating_6-VeryLow</th>\n",
       "      <th>CreditRating_7-Lowest</th>\n",
       "      <th>PrizmCode_Other</th>\n",
       "      <th>PrizmCode_Rural</th>\n",
       "      <th>PrizmCode_Suburban</th>\n",
       "      <th>PrizmCode_Town</th>\n",
       "      <th>MaritalStatus_No</th>\n",
       "      <th>MaritalStatus_Unknown</th>\n",
       "      <th>MaritalStatus_Yes</th>\n",
       "    </tr>\n",
       "  </thead>\n",
       "  <tbody>\n",
       "    <tr>\n",
       "      <th>1293</th>\n",
       "      <td>1</td>\n",
       "      <td>1</td>\n",
       "      <td>2.0</td>\n",
       "      <td>0</td>\n",
       "      <td>0</td>\n",
       "      <td>9</td>\n",
       "      <td>1.0</td>\n",
       "      <td>-0.397636</td>\n",
       "      <td>0.088062</td>\n",
       "      <td>0.603589</td>\n",
       "      <td>...</td>\n",
       "      <td>0</td>\n",
       "      <td>0</td>\n",
       "      <td>0</td>\n",
       "      <td>1</td>\n",
       "      <td>0</td>\n",
       "      <td>0</td>\n",
       "      <td>0</td>\n",
       "      <td>0</td>\n",
       "      <td>0</td>\n",
       "      <td>1</td>\n",
       "    </tr>\n",
       "    <tr>\n",
       "      <th>647</th>\n",
       "      <td>1</td>\n",
       "      <td>1</td>\n",
       "      <td>1.0</td>\n",
       "      <td>0</td>\n",
       "      <td>0</td>\n",
       "      <td>5</td>\n",
       "      <td>1.0</td>\n",
       "      <td>-0.663301</td>\n",
       "      <td>-0.786508</td>\n",
       "      <td>-0.709715</td>\n",
       "      <td>...</td>\n",
       "      <td>0</td>\n",
       "      <td>0</td>\n",
       "      <td>0</td>\n",
       "      <td>0</td>\n",
       "      <td>0</td>\n",
       "      <td>1</td>\n",
       "      <td>0</td>\n",
       "      <td>1</td>\n",
       "      <td>0</td>\n",
       "      <td>0</td>\n",
       "    </tr>\n",
       "    <tr>\n",
       "      <th>3237</th>\n",
       "      <td>1</td>\n",
       "      <td>1</td>\n",
       "      <td>3.0</td>\n",
       "      <td>0</td>\n",
       "      <td>0</td>\n",
       "      <td>9</td>\n",
       "      <td>1.0</td>\n",
       "      <td>-0.049157</td>\n",
       "      <td>-0.546547</td>\n",
       "      <td>-0.709715</td>\n",
       "      <td>...</td>\n",
       "      <td>0</td>\n",
       "      <td>0</td>\n",
       "      <td>0</td>\n",
       "      <td>0</td>\n",
       "      <td>0</td>\n",
       "      <td>1</td>\n",
       "      <td>0</td>\n",
       "      <td>0</td>\n",
       "      <td>0</td>\n",
       "      <td>1</td>\n",
       "    </tr>\n",
       "    <tr>\n",
       "      <th>1159</th>\n",
       "      <td>2</td>\n",
       "      <td>1</td>\n",
       "      <td>3.0</td>\n",
       "      <td>0</td>\n",
       "      <td>0</td>\n",
       "      <td>6</td>\n",
       "      <td>0.5</td>\n",
       "      <td>-0.549815</td>\n",
       "      <td>-0.514817</td>\n",
       "      <td>-0.053063</td>\n",
       "      <td>...</td>\n",
       "      <td>0</td>\n",
       "      <td>0</td>\n",
       "      <td>0</td>\n",
       "      <td>0</td>\n",
       "      <td>0</td>\n",
       "      <td>1</td>\n",
       "      <td>0</td>\n",
       "      <td>1</td>\n",
       "      <td>0</td>\n",
       "      <td>0</td>\n",
       "    </tr>\n",
       "    <tr>\n",
       "      <th>8870</th>\n",
       "      <td>1</td>\n",
       "      <td>1</td>\n",
       "      <td>1.0</td>\n",
       "      <td>0</td>\n",
       "      <td>0</td>\n",
       "      <td>0</td>\n",
       "      <td>1.0</td>\n",
       "      <td>-0.503336</td>\n",
       "      <td>-0.078523</td>\n",
       "      <td>-0.053063</td>\n",
       "      <td>...</td>\n",
       "      <td>0</td>\n",
       "      <td>0</td>\n",
       "      <td>0</td>\n",
       "      <td>0</td>\n",
       "      <td>0</td>\n",
       "      <td>0</td>\n",
       "      <td>1</td>\n",
       "      <td>0</td>\n",
       "      <td>1</td>\n",
       "      <td>0</td>\n",
       "    </tr>\n",
       "  </tbody>\n",
       "</table>\n",
       "<p>5 rows × 90 columns</p>\n",
       "</div>"
      ],
      "text/plain": [
       "      UniqueSubs  ActiveSubs  HandsetModels  RetentionCalls  \\\n",
       "1293           1           1            2.0               0   \n",
       "647            1           1            1.0               0   \n",
       "3237           1           1            3.0               0   \n",
       "1159           2           1            3.0               0   \n",
       "8870           1           1            1.0               0   \n",
       "\n",
       "      RetentionOffersAccepted  IncomeGroup  perc_active_subs  MonthlyRevenue  \\\n",
       "1293                        0            9               1.0       -0.397636   \n",
       "647                         0            5               1.0       -0.663301   \n",
       "3237                        0            9               1.0       -0.049157   \n",
       "1159                        0            6               0.5       -0.549815   \n",
       "8870                        0            0               1.0       -0.503336   \n",
       "\n",
       "      MonthlyMinutes  TotalRecurringCharge  ...  CreditRating_5-Low  \\\n",
       "1293        0.088062              0.603589  ...                   0   \n",
       "647        -0.786508             -0.709715  ...                   0   \n",
       "3237       -0.546547             -0.709715  ...                   0   \n",
       "1159       -0.514817             -0.053063  ...                   0   \n",
       "8870       -0.078523             -0.053063  ...                   0   \n",
       "\n",
       "      CreditRating_6-VeryLow  CreditRating_7-Lowest  PrizmCode_Other  \\\n",
       "1293                       0                      0                1   \n",
       "647                        0                      0                0   \n",
       "3237                       0                      0                0   \n",
       "1159                       0                      0                0   \n",
       "8870                       0                      0                0   \n",
       "\n",
       "      PrizmCode_Rural  PrizmCode_Suburban  PrizmCode_Town  MaritalStatus_No  \\\n",
       "1293                0                   0               0                 0   \n",
       "647                 0                   1               0                 1   \n",
       "3237                0                   1               0                 0   \n",
       "1159                0                   1               0                 1   \n",
       "8870                0                   0               1                 0   \n",
       "\n",
       "      MaritalStatus_Unknown  MaritalStatus_Yes  \n",
       "1293                      0                  1  \n",
       "647                       0                  0  \n",
       "3237                      0                  1  \n",
       "1159                      0                  0  \n",
       "8870                      1                  0  \n",
       "\n",
       "[5 rows x 90 columns]"
      ]
     },
     "execution_count": 42,
     "metadata": {},
     "output_type": "execute_result"
    },
    {
     "data": {
      "text/plain": [
       "(69504, 90)"
      ]
     },
     "execution_count": 42,
     "metadata": {},
     "output_type": "execute_result"
    },
    {
     "data": {
      "text/html": [
       "<div>\n",
       "<style scoped>\n",
       "    .dataframe tbody tr th:only-of-type {\n",
       "        vertical-align: middle;\n",
       "    }\n",
       "\n",
       "    .dataframe tbody tr th {\n",
       "        vertical-align: top;\n",
       "    }\n",
       "\n",
       "    .dataframe thead th {\n",
       "        text-align: right;\n",
       "    }\n",
       "</style>\n",
       "<table border=\"1\" class=\"dataframe\">\n",
       "  <thead>\n",
       "    <tr style=\"text-align: right;\">\n",
       "      <th></th>\n",
       "      <th>UniqueSubs</th>\n",
       "      <th>ActiveSubs</th>\n",
       "      <th>HandsetModels</th>\n",
       "      <th>RetentionCalls</th>\n",
       "      <th>RetentionOffersAccepted</th>\n",
       "      <th>IncomeGroup</th>\n",
       "      <th>perc_active_subs</th>\n",
       "      <th>MonthlyRevenue</th>\n",
       "      <th>MonthlyMinutes</th>\n",
       "      <th>TotalRecurringCharge</th>\n",
       "      <th>...</th>\n",
       "      <th>CreditRating_5-Low</th>\n",
       "      <th>CreditRating_6-VeryLow</th>\n",
       "      <th>CreditRating_7-Lowest</th>\n",
       "      <th>PrizmCode_Other</th>\n",
       "      <th>PrizmCode_Rural</th>\n",
       "      <th>PrizmCode_Suburban</th>\n",
       "      <th>PrizmCode_Town</th>\n",
       "      <th>MaritalStatus_No</th>\n",
       "      <th>MaritalStatus_Unknown</th>\n",
       "      <th>MaritalStatus_Yes</th>\n",
       "    </tr>\n",
       "  </thead>\n",
       "  <tbody>\n",
       "    <tr>\n",
       "      <th>0</th>\n",
       "      <td>1</td>\n",
       "      <td>1</td>\n",
       "      <td>6.0</td>\n",
       "      <td>0</td>\n",
       "      <td>0</td>\n",
       "      <td>5</td>\n",
       "      <td>1.000000</td>\n",
       "      <td>-0.040680</td>\n",
       "      <td>-0.093713</td>\n",
       "      <td>-0.428776</td>\n",
       "      <td>...</td>\n",
       "      <td>1</td>\n",
       "      <td>0</td>\n",
       "      <td>0</td>\n",
       "      <td>1</td>\n",
       "      <td>0</td>\n",
       "      <td>0</td>\n",
       "      <td>0</td>\n",
       "      <td>1</td>\n",
       "      <td>0</td>\n",
       "      <td>0</td>\n",
       "    </tr>\n",
       "    <tr>\n",
       "      <th>1</th>\n",
       "      <td>1</td>\n",
       "      <td>1</td>\n",
       "      <td>4.0</td>\n",
       "      <td>0</td>\n",
       "      <td>0</td>\n",
       "      <td>6</td>\n",
       "      <td>1.000000</td>\n",
       "      <td>-0.092707</td>\n",
       "      <td>0.070703</td>\n",
       "      <td>1.033751</td>\n",
       "      <td>...</td>\n",
       "      <td>0</td>\n",
       "      <td>0</td>\n",
       "      <td>0</td>\n",
       "      <td>1</td>\n",
       "      <td>0</td>\n",
       "      <td>0</td>\n",
       "      <td>0</td>\n",
       "      <td>1</td>\n",
       "      <td>0</td>\n",
       "      <td>0</td>\n",
       "    </tr>\n",
       "    <tr>\n",
       "      <th>2</th>\n",
       "      <td>1</td>\n",
       "      <td>1</td>\n",
       "      <td>3.0</td>\n",
       "      <td>0</td>\n",
       "      <td>0</td>\n",
       "      <td>4</td>\n",
       "      <td>1.000000</td>\n",
       "      <td>0.876705</td>\n",
       "      <td>0.957036</td>\n",
       "      <td>0.114448</td>\n",
       "      <td>...</td>\n",
       "      <td>0</td>\n",
       "      <td>0</td>\n",
       "      <td>0</td>\n",
       "      <td>0</td>\n",
       "      <td>0</td>\n",
       "      <td>1</td>\n",
       "      <td>0</td>\n",
       "      <td>0</td>\n",
       "      <td>0</td>\n",
       "      <td>1</td>\n",
       "    </tr>\n",
       "    <tr>\n",
       "      <th>3</th>\n",
       "      <td>3</td>\n",
       "      <td>2</td>\n",
       "      <td>5.0</td>\n",
       "      <td>0</td>\n",
       "      <td>0</td>\n",
       "      <td>4</td>\n",
       "      <td>0.666667</td>\n",
       "      <td>-0.544838</td>\n",
       "      <td>-0.717358</td>\n",
       "      <td>-0.721281</td>\n",
       "      <td>...</td>\n",
       "      <td>0</td>\n",
       "      <td>0</td>\n",
       "      <td>0</td>\n",
       "      <td>1</td>\n",
       "      <td>0</td>\n",
       "      <td>0</td>\n",
       "      <td>0</td>\n",
       "      <td>1</td>\n",
       "      <td>0</td>\n",
       "      <td>0</td>\n",
       "    </tr>\n",
       "    <tr>\n",
       "      <th>4</th>\n",
       "      <td>1</td>\n",
       "      <td>1</td>\n",
       "      <td>4.0</td>\n",
       "      <td>0</td>\n",
       "      <td>0</td>\n",
       "      <td>3</td>\n",
       "      <td>1.000000</td>\n",
       "      <td>-0.091786</td>\n",
       "      <td>1.285867</td>\n",
       "      <td>0.114448</td>\n",
       "      <td>...</td>\n",
       "      <td>0</td>\n",
       "      <td>0</td>\n",
       "      <td>0</td>\n",
       "      <td>0</td>\n",
       "      <td>0</td>\n",
       "      <td>1</td>\n",
       "      <td>0</td>\n",
       "      <td>1</td>\n",
       "      <td>0</td>\n",
       "      <td>0</td>\n",
       "    </tr>\n",
       "  </tbody>\n",
       "</table>\n",
       "<p>5 rows × 90 columns</p>\n",
       "</div>"
      ],
      "text/plain": [
       "   UniqueSubs  ActiveSubs  HandsetModels  RetentionCalls  \\\n",
       "0           1           1            6.0               0   \n",
       "1           1           1            4.0               0   \n",
       "2           1           1            3.0               0   \n",
       "3           3           2            5.0               0   \n",
       "4           1           1            4.0               0   \n",
       "\n",
       "   RetentionOffersAccepted  IncomeGroup  perc_active_subs  MonthlyRevenue  \\\n",
       "0                        0            5          1.000000       -0.040680   \n",
       "1                        0            6          1.000000       -0.092707   \n",
       "2                        0            4          1.000000        0.876705   \n",
       "3                        0            4          0.666667       -0.544838   \n",
       "4                        0            3          1.000000       -0.091786   \n",
       "\n",
       "   MonthlyMinutes  TotalRecurringCharge  ...  CreditRating_5-Low  \\\n",
       "0       -0.093713             -0.428776  ...                   1   \n",
       "1        0.070703              1.033751  ...                   0   \n",
       "2        0.957036              0.114448  ...                   0   \n",
       "3       -0.717358             -0.721281  ...                   0   \n",
       "4        1.285867              0.114448  ...                   0   \n",
       "\n",
       "   CreditRating_6-VeryLow  CreditRating_7-Lowest  PrizmCode_Other  \\\n",
       "0                       0                      0                1   \n",
       "1                       0                      0                1   \n",
       "2                       0                      0                0   \n",
       "3                       0                      0                1   \n",
       "4                       0                      0                0   \n",
       "\n",
       "   PrizmCode_Rural  PrizmCode_Suburban  PrizmCode_Town  MaritalStatus_No  \\\n",
       "0                0                   0               0                 1   \n",
       "1                0                   0               0                 1   \n",
       "2                0                   1               0                 0   \n",
       "3                0                   0               0                 1   \n",
       "4                0                   1               0                 1   \n",
       "\n",
       "   MaritalStatus_Unknown  MaritalStatus_Yes  \n",
       "0                      0                  0  \n",
       "1                      0                  0  \n",
       "2                      0                  1  \n",
       "3                      0                  0  \n",
       "4                      0                  0  \n",
       "\n",
       "[5 rows x 90 columns]"
      ]
     },
     "execution_count": 42,
     "metadata": {},
     "output_type": "execute_result"
    },
    {
     "data": {
      "text/plain": [
       "(19256, 90)"
      ]
     },
     "execution_count": 42,
     "metadata": {},
     "output_type": "execute_result"
    }
   ],
   "source": [
    "cust_df.head()\n",
    "cust_df.shape\n",
    "pred_df.head()\n",
    "pred_df.shape"
   ]
  },
  {
   "cell_type": "code",
   "execution_count": 43,
   "metadata": {
    "id": "pZlh5pYilFIX"
   },
   "outputs": [],
   "source": [
    "#Defining columns to be included in X and y\n",
    "# X = Independent variables\n",
    "# Y = Dependent variable (churn flag)\n",
    "X= cust_df\n",
    "Y=y\n",
    "X_train, X_test, y_train, y_test = train_test_split(X, Y, test_size=0.3, random_state=0)"
   ]
  },
  {
   "cell_type": "code",
   "execution_count": 44,
   "metadata": {},
   "outputs": [
    {
     "data": {
      "text/plain": [
       "((48652, 90), (20852, 90), (48652,), (20852,))"
      ]
     },
     "execution_count": 44,
     "metadata": {},
     "output_type": "execute_result"
    }
   ],
   "source": [
    "X_train.shape,X_test.shape,y_train.shape,y_test.shape"
   ]
  },
  {
   "cell_type": "code",
   "execution_count": 45,
   "metadata": {},
   "outputs": [
    {
     "data": {
      "text/plain": [
       "1    24509\n",
       "0    24143\n",
       "Name: Churn, dtype: int64"
      ]
     },
     "execution_count": 45,
     "metadata": {},
     "output_type": "execute_result"
    }
   ],
   "source": [
    "y_train.value_counts()"
   ]
  },
  {
   "cell_type": "markdown",
   "metadata": {
    "id": "lj89clILlFIY"
   },
   "source": [
    "### Q4.1 Build a simple logistic regression model to predict churn and evaluate model accuracy on test data set\n"
   ]
  },
  {
   "cell_type": "code",
   "execution_count": 46,
   "metadata": {},
   "outputs": [],
   "source": [
    "from sklearn.linear_model import LogisticRegression\n",
    "from sklearn.metrics import accuracy_score,classification_report,confusion_matrix,ConfusionMatrixDisplay,roc_auc_score,f1_score"
   ]
  },
  {
   "cell_type": "code",
   "execution_count": 47,
   "metadata": {
    "id": "R3j70GX1lFIY"
   },
   "outputs": [
    {
     "data": {
      "text/plain": [
       "array([0.46109976, 0.3430607 , 0.71039525, 0.35933132, 0.60901316,\n",
       "       0.34740595, 0.33974167, 0.52900628, 0.56047737])"
      ]
     },
     "execution_count": 47,
     "metadata": {},
     "output_type": "execute_result"
    }
   ],
   "source": [
    "#-------------------------------- Model training -------------------------------#\n",
    "LGR=LogisticRegression(random_state=0)\n",
    "#To build logistic regression model on training data set.\n",
    "logistic_classifier=LGR.fit(X_train,y_train)\n",
    "logistic_pred_train_out=logistic_classifier.predict_proba(X_train)[:,1]\n",
    "logistic_pred_train_out[1:10]"
   ]
  },
  {
   "cell_type": "code",
   "execution_count": 48,
   "metadata": {
    "id": "KlCdJ472lFIZ"
   },
   "outputs": [
    {
     "data": {
      "text/plain": [
       "array([0.46995765, 0.44726245, 0.59552783, 0.57575893, 0.29318728,\n",
       "       0.5017033 , 0.41382145, 0.61692115, 0.44947231])"
      ]
     },
     "execution_count": 48,
     "metadata": {},
     "output_type": "execute_result"
    }
   ],
   "source": [
    "#-------------------------------- Model testing ---------------------------------#\n",
    "#type your code here to predict for X_test data set using the fitted model\n",
    "logistic_pred_test_out=logistic_classifier.predict_proba(X_test)[:,1]\n",
    "logistic_pred_test_out[1:10]"
   ]
  },
  {
   "cell_type": "code",
   "execution_count": 49,
   "metadata": {},
   "outputs": [],
   "source": [
    "import copy\n",
    "def efficient_cutoff (actual_value,predicted):\n",
    "    prob_cutoff= []\n",
    "    f1_score_val=[]\n",
    "    for i in range(0,101):\n",
    "        predicted_x= copy.deepcopy(predicted)\n",
    "        predicted_x[predicted_x  >= i/100]=1\n",
    "        predicted_x[predicted_x  <  i/100]=0\n",
    "        prob_cutoff.append(i/100)\n",
    "        f1_score_val.append(f1_score(actual_value,predicted_x))\n",
    "    return(prob_cutoff,f1_score_val)"
   ]
  },
  {
   "cell_type": "code",
   "execution_count": 50,
   "metadata": {},
   "outputs": [],
   "source": [
    "prob_cutoff_train ,f1_score_val_train = efficient_cutoff(y_train, logistic_pred_train_out)"
   ]
  },
  {
   "cell_type": "code",
   "execution_count": 51,
   "metadata": {},
   "outputs": [
    {
     "data": {
      "text/plain": [
       "Text(0.5, 0, 'Probability cutoff value - train-set')"
      ]
     },
     "execution_count": 51,
     "metadata": {},
     "output_type": "execute_result"
    },
    {
     "data": {
      "text/plain": [
       "<matplotlib.lines.Line2D at 0x1d23afb6340>"
      ]
     },
     "execution_count": 51,
     "metadata": {},
     "output_type": "execute_result"
    },
    {
     "data": {
      "text/plain": [
       "Text(0, 0.5, 'f1 score train')"
      ]
     },
     "execution_count": 51,
     "metadata": {},
     "output_type": "execute_result"
    },
    {
     "data": {
      "text/plain": [
       "[<matplotlib.lines.Line2D at 0x1d23cb67b20>]"
      ]
     },
     "execution_count": 51,
     "metadata": {},
     "output_type": "execute_result"
    },
    {
     "data": {
      "image/png": "[encoded data removed]",
      "text/plain": [
       "<Figure size 432x288 with 1 Axes>"
      ]
     },
     "metadata": {
      "needs_background": "light"
     },
     "output_type": "display_data"
    }
   ],
   "source": [
    "plt.xlabel(\"Probability cutoff value - train-set\")\n",
    "plt.axvline(x=0.4,color='b',label=\"avxline\")\n",
    "plt.ylabel(\"f1 score train\")\n",
    "plt.plot(prob_cutoff_train,f1_score_val_train)\n",
    "plt.show()"
   ]
  },
  {
   "cell_type": "code",
   "execution_count": 52,
   "metadata": {},
   "outputs": [],
   "source": [
    "logistic_predict_test_class=copy.deepcopy(logistic_pred_test_out)"
   ]
  },
  {
   "cell_type": "code",
   "execution_count": 53,
   "metadata": {},
   "outputs": [],
   "source": [
    "logistic_predict_test_class[logistic_pred_test_out >=0.4]=1\n",
    "logistic_predict_test_class[logistic_pred_test_out < 0.4]=0"
   ]
  },
  {
   "cell_type": "code",
   "execution_count": 54,
   "metadata": {},
   "outputs": [
    {
     "data": {
      "text/plain": [
       "45386    0\n",
       "27787    0\n",
       "43983    0\n",
       "22560    0\n",
       "40164    0\n",
       "Name: Churn, dtype: int64"
      ]
     },
     "execution_count": 54,
     "metadata": {},
     "output_type": "execute_result"
    }
   ],
   "source": [
    "y_test.head()"
   ]
  },
  {
   "cell_type": "code",
   "execution_count": 55,
   "metadata": {},
   "outputs": [
    {
     "data": {
      "text/plain": [
       "<sklearn.metrics._plot.confusion_matrix.ConfusionMatrixDisplay at 0x1d23cb85f10>"
      ]
     },
     "execution_count": 55,
     "metadata": {},
     "output_type": "execute_result"
    },
    {
     "data": {
      "image/png": "[encoded data removed]",
      "text/plain": [
       "<Figure size 432x288 with 2 Axes>"
      ]
     },
     "metadata": {
      "needs_background": "light"
     },
     "output_type": "display_data"
    }
   ],
   "source": [
    "#Confusion Matrix\n",
    "CM= confusion_matrix(y_test,logistic_predict_test_class)\n",
    "Disp = ConfusionMatrixDisplay(CM)\n",
    "Disp.plot()"
   ]
  },
  {
   "cell_type": "code",
   "execution_count": 56,
   "metadata": {},
   "outputs": [
    {
     "name": "stdout",
     "output_type": "stream",
     "text": [
      "              precision    recall  f1-score   support\n",
      "\n",
      "           0       0.67      0.22      0.33     10609\n",
      "           1       0.52      0.89      0.66     10243\n",
      "\n",
      "    accuracy                           0.55     20852\n",
      "   macro avg       0.60      0.55      0.50     20852\n",
      "weighted avg       0.60      0.55      0.49     20852\n",
      "\n"
     ]
    }
   ],
   "source": [
    "print(classification_report(y_test,logistic_predict_test_class))"
   ]
  },
  {
   "cell_type": "code",
   "execution_count": 57,
   "metadata": {},
   "outputs": [
    {
     "name": "stdout",
     "output_type": "stream",
     "text": [
      "gini:0.10711401141533994\n",
      "ROC-AUC Score0.55355700570767\n",
      "Accuracy0.547717245348168\n"
     ]
    }
   ],
   "source": [
    "test_auc_score= roc_auc_score(y_test,logistic_predict_test_class)\n",
    "print(\"gini:{}\".format(2*test_auc_score-1))\n",
    "print(\"ROC-AUC Score{}\".format(test_auc_score))\n",
    "print(\"Accuracy{}\".format(accuracy_score(y_test,logistic_predict_test_class)))"
   ]
  },
  {
   "cell_type": "markdown",
   "metadata": {
    "id": "5c_9lNnclFIZ"
   },
   "source": [
    "### Q4.2 Build Random Forest classifier to compare model accuracy over the logistic regression model\n"
   ]
  },
  {
   "cell_type": "code",
   "execution_count": 58,
   "metadata": {},
   "outputs": [],
   "source": [
    "from sklearn.ensemble import RandomForestClassifier"
   ]
  },
  {
   "cell_type": "code",
   "execution_count": 59,
   "metadata": {
    "id": "-PqkT3eRlFIa"
   },
   "outputs": [
    {
     "data": {
      "text/plain": [
       "RandomForestClassifier(criterion='entropy', max_depth=15, min_samples_split=50,\n",
       "                       n_estimators=350, n_jobs=-1, random_state=40)"
      ]
     },
     "execution_count": 59,
     "metadata": {},
     "output_type": "execute_result"
    }
   ],
   "source": [
    "#-------------------------------- Model training -------------------------------#\n",
    "clf=RandomForestClassifier(max_depth=15,min_samples_split=50,random_state=40,criterion=\"entropy\",n_estimators=350,n_jobs=-1)\n",
    "clf.fit(X_train,y_train)"
   ]
  },
  {
   "cell_type": "code",
   "execution_count": 60,
   "metadata": {
    "id": "yoMJOpkvlFIa"
   },
   "outputs": [
    {
     "data": {
      "text/plain": [
       "array([0.50465351, 0.322302  , 0.67490391, ..., 0.47517964, 0.4674368 ,\n",
       "       0.19754646])"
      ]
     },
     "execution_count": 60,
     "metadata": {},
     "output_type": "execute_result"
    },
    {
     "data": {
      "text/plain": [
       "array([0.31250791, 0.37232278, 0.29481181, ..., 0.46094725, 0.51229692,\n",
       "       0.49532913])"
      ]
     },
     "execution_count": 60,
     "metadata": {},
     "output_type": "execute_result"
    }
   ],
   "source": [
    "#-------------------------------- Model testing ---------------------------------#\n",
    "#To predict for X_test data set using the fitted RF model\n",
    "rf_train_output=clf.predict_proba(X_train)[:,1]\n",
    "rf_test_output=clf.predict_proba(X_test)[:,1]\n",
    "rf_train_output\n",
    "rf_test_output"
   ]
  },
  {
   "cell_type": "code",
   "execution_count": 61,
   "metadata": {},
   "outputs": [],
   "source": [
    "#Probability threshold to classify customers as churners and non churners (Default = 0.5)\n",
    "rf_prob_cutoff_train, rf_f1_score_val_train = efficient_cutoff(y_train, rf_train_output)\n",
    "rf_prob_cutoff_test, rf_f1_score_val_test = efficient_cutoff(y_test, rf_test_output)"
   ]
  },
  {
   "cell_type": "code",
   "execution_count": 62,
   "metadata": {},
   "outputs": [
    {
     "data": {
      "text/plain": [
       "Text(0.5, 0, 'Probability cutoff value - train-set')"
      ]
     },
     "execution_count": 62,
     "metadata": {},
     "output_type": "execute_result"
    },
    {
     "data": {
      "text/plain": [
       "<matplotlib.lines.Line2D at 0x1d23e0f7fa0>"
      ]
     },
     "execution_count": 62,
     "metadata": {},
     "output_type": "execute_result"
    },
    {
     "data": {
      "text/plain": [
       "Text(0, 0.5, 'f1 score train')"
      ]
     },
     "execution_count": 62,
     "metadata": {},
     "output_type": "execute_result"
    },
    {
     "data": {
      "text/plain": [
       "[<matplotlib.lines.Line2D at 0x1d23e129b50>]"
      ]
     },
     "execution_count": 62,
     "metadata": {},
     "output_type": "execute_result"
    },
    {
     "data": {
      "image/png": "[encoded data removed]",
      "text/plain": [
       "<Figure size 432x288 with 1 Axes>"
      ]
     },
     "metadata": {
      "needs_background": "light"
     },
     "output_type": "display_data"
    }
   ],
   "source": [
    "plt.xlabel(\"Probability cutoff value - train-set\")\n",
    "plt.axvline(x=0.51,color='b',label='avxline-full height')\n",
    "plt.ylabel(\"f1 score train\")\n",
    "plt.plot(rf_prob_cutoff_train,rf_f1_score_val_train)\n",
    "plt.show()"
   ]
  },
  {
   "cell_type": "code",
   "execution_count": 63,
   "metadata": {},
   "outputs": [],
   "source": [
    "rf_test_class=copy.deepcopy(rf_test_output)"
   ]
  },
  {
   "cell_type": "code",
   "execution_count": 64,
   "metadata": {},
   "outputs": [],
   "source": [
    "rf_test_class[rf_test_output >= 0.53]=1\n",
    "rf_test_class[rf_test_output <  0.53]=0"
   ]
  },
  {
   "cell_type": "code",
   "execution_count": 65,
   "metadata": {},
   "outputs": [
    {
     "data": {
      "text/plain": [
       "<sklearn.metrics._plot.confusion_matrix.ConfusionMatrixDisplay at 0x1d23d39e9d0>"
      ]
     },
     "execution_count": 65,
     "metadata": {},
     "output_type": "execute_result"
    },
    {
     "data": {
      "image/png": "[encoded data removed]",
      "text/plain": [
       "<Figure size 432x288 with 2 Axes>"
      ]
     },
     "metadata": {
      "needs_background": "light"
     },
     "output_type": "display_data"
    }
   ],
   "source": [
    "CM1= confusion_matrix(y_test,rf_test_class)\n",
    "Disp = ConfusionMatrixDisplay(CM1)\n",
    "Disp.plot()"
   ]
  },
  {
   "cell_type": "code",
   "execution_count": 66,
   "metadata": {},
   "outputs": [
    {
     "name": "stdout",
     "output_type": "stream",
     "text": [
      "              precision    recall  f1-score   support\n",
      "\n",
      "           0       0.71      0.77      0.74     10609\n",
      "           1       0.74      0.68      0.71     10243\n",
      "\n",
      "    accuracy                           0.73     20852\n",
      "   macro avg       0.73      0.73      0.73     20852\n",
      "weighted avg       0.73      0.73      0.73     20852\n",
      "\n"
     ]
    }
   ],
   "source": [
    "print(classification_report(y_test,rf_test_class))"
   ]
  },
  {
   "cell_type": "markdown",
   "metadata": {
    "id": "iKAR6bUolFIb"
   },
   "source": [
    "<mark>__Result:__\n",
    "Random Forest model works better here , we can see this from above confusion matrix where trupe positive and true negative count is greater than other two cases."
   ]
  },
  {
   "cell_type": "code",
   "execution_count": 68,
   "metadata": {},
   "outputs": [
    {
     "name": "stdout",
     "output_type": "stream",
     "text": [
      "gini:0.4515418418489705\n",
      "ROC-AUC Score0.7257709209244853\n",
      "Accuracy0.7265490120851716\n"
     ]
    }
   ],
   "source": [
    "test_auc_score= roc_auc_score(y_test,rf_test_class)\n",
    "print(\"gini:{}\".format(2*test_auc_score-1))\n",
    "print(\"ROC-AUC Score{}\".format(test_auc_score))\n",
    "print(\"Accuracy{}\".format(accuracy_score(y_test,rf_test_class)))"
   ]
  },
  {
   "cell_type": "markdown",
   "metadata": {
    "id": "AixoKv9GlFIb"
   },
   "source": [
    "### Q4.3 Identify most important features impacting churn"
   ]
  },
  {
   "cell_type": "code",
   "execution_count": 74,
   "metadata": {
    "id": "k4T4iPJilFIc"
   },
   "outputs": [
    {
     "data": {
      "text/plain": [
       "<Figure size 360x720 with 0 Axes>"
      ]
     },
     "execution_count": 74,
     "metadata": {},
     "output_type": "execute_result"
    },
    {
     "data": {
      "text/plain": [
       "Text(0.5, 1.0, 'feature Importance plot')"
      ]
     },
     "execution_count": 74,
     "metadata": {},
     "output_type": "execute_result"
    },
    {
     "data": {
      "text/plain": [
       "<AxesSubplot:title={'center':'feature Importance plot'}>"
      ]
     },
     "execution_count": 74,
     "metadata": {},
     "output_type": "execute_result"
    },
    {
     "data": {
      "image/png": "[encoded data removed]",
      "text/plain": [
       "<Figure size 360x720 with 1 Axes>"
      ]
     },
     "metadata": {
      "needs_background": "light"
     },
     "output_type": "display_data"
    }
   ],
   "source": [
    "# Type your code here to plot the top 20 important predictor features impacting churn using the Random Forest model created\n",
    "feat_imp=pd.Series(clf.feature_importances_, index=X_train.columns)\n",
    "plt.figure(figsize=(5,10))\n",
    "plt.title(\"feature Importance plot\")\n",
    "feat_imp.nlargest(20).sort_values(ascending=True).plot(kind='barh',)"
   ]
  },
  {
   "cell_type": "markdown",
   "metadata": {
    "id": "b34fvkuvlFId"
   },
   "source": [
    "## Q5. Use the hold out data provided to predict churners using the best model identified in step 4 "
   ]
  },
  {
   "cell_type": "code",
   "execution_count": 86,
   "metadata": {
    "id": "inhr0oBulFIe",
    "scrolled": true
   },
   "outputs": [
    {
     "data": {
      "text/plain": [
       "(19256, 90)"
      ]
     },
     "execution_count": 86,
     "metadata": {},
     "output_type": "execute_result"
    },
    {
     "data": {
      "text/html": [
       "<div>\n",
       "<style scoped>\n",
       "    .dataframe tbody tr th:only-of-type {\n",
       "        vertical-align: middle;\n",
       "    }\n",
       "\n",
       "    .dataframe tbody tr th {\n",
       "        vertical-align: top;\n",
       "    }\n",
       "\n",
       "    .dataframe thead th {\n",
       "        text-align: right;\n",
       "    }\n",
       "</style>\n",
       "<table border=\"1\" class=\"dataframe\">\n",
       "  <thead>\n",
       "    <tr style=\"text-align: right;\">\n",
       "      <th></th>\n",
       "      <th>UniqueSubs</th>\n",
       "      <th>ActiveSubs</th>\n",
       "      <th>HandsetModels</th>\n",
       "      <th>RetentionCalls</th>\n",
       "      <th>RetentionOffersAccepted</th>\n",
       "      <th>IncomeGroup</th>\n",
       "      <th>perc_active_subs</th>\n",
       "      <th>MonthlyRevenue</th>\n",
       "      <th>MonthlyMinutes</th>\n",
       "      <th>TotalRecurringCharge</th>\n",
       "      <th>...</th>\n",
       "      <th>CreditRating_5-Low</th>\n",
       "      <th>CreditRating_6-VeryLow</th>\n",
       "      <th>CreditRating_7-Lowest</th>\n",
       "      <th>PrizmCode_Other</th>\n",
       "      <th>PrizmCode_Rural</th>\n",
       "      <th>PrizmCode_Suburban</th>\n",
       "      <th>PrizmCode_Town</th>\n",
       "      <th>MaritalStatus_No</th>\n",
       "      <th>MaritalStatus_Unknown</th>\n",
       "      <th>MaritalStatus_Yes</th>\n",
       "    </tr>\n",
       "  </thead>\n",
       "  <tbody>\n",
       "    <tr>\n",
       "      <th>0</th>\n",
       "      <td>1</td>\n",
       "      <td>1</td>\n",
       "      <td>6.0</td>\n",
       "      <td>0</td>\n",
       "      <td>0</td>\n",
       "      <td>5</td>\n",
       "      <td>1.000000</td>\n",
       "      <td>-0.040680</td>\n",
       "      <td>-0.093713</td>\n",
       "      <td>-0.428776</td>\n",
       "      <td>...</td>\n",
       "      <td>1</td>\n",
       "      <td>0</td>\n",
       "      <td>0</td>\n",
       "      <td>1</td>\n",
       "      <td>0</td>\n",
       "      <td>0</td>\n",
       "      <td>0</td>\n",
       "      <td>1</td>\n",
       "      <td>0</td>\n",
       "      <td>0</td>\n",
       "    </tr>\n",
       "    <tr>\n",
       "      <th>1</th>\n",
       "      <td>1</td>\n",
       "      <td>1</td>\n",
       "      <td>4.0</td>\n",
       "      <td>0</td>\n",
       "      <td>0</td>\n",
       "      <td>6</td>\n",
       "      <td>1.000000</td>\n",
       "      <td>-0.092707</td>\n",
       "      <td>0.070703</td>\n",
       "      <td>1.033751</td>\n",
       "      <td>...</td>\n",
       "      <td>0</td>\n",
       "      <td>0</td>\n",
       "      <td>0</td>\n",
       "      <td>1</td>\n",
       "      <td>0</td>\n",
       "      <td>0</td>\n",
       "      <td>0</td>\n",
       "      <td>1</td>\n",
       "      <td>0</td>\n",
       "      <td>0</td>\n",
       "    </tr>\n",
       "    <tr>\n",
       "      <th>2</th>\n",
       "      <td>1</td>\n",
       "      <td>1</td>\n",
       "      <td>3.0</td>\n",
       "      <td>0</td>\n",
       "      <td>0</td>\n",
       "      <td>4</td>\n",
       "      <td>1.000000</td>\n",
       "      <td>0.876705</td>\n",
       "      <td>0.957036</td>\n",
       "      <td>0.114448</td>\n",
       "      <td>...</td>\n",
       "      <td>0</td>\n",
       "      <td>0</td>\n",
       "      <td>0</td>\n",
       "      <td>0</td>\n",
       "      <td>0</td>\n",
       "      <td>1</td>\n",
       "      <td>0</td>\n",
       "      <td>0</td>\n",
       "      <td>0</td>\n",
       "      <td>1</td>\n",
       "    </tr>\n",
       "    <tr>\n",
       "      <th>3</th>\n",
       "      <td>3</td>\n",
       "      <td>2</td>\n",
       "      <td>5.0</td>\n",
       "      <td>0</td>\n",
       "      <td>0</td>\n",
       "      <td>4</td>\n",
       "      <td>0.666667</td>\n",
       "      <td>-0.544838</td>\n",
       "      <td>-0.717358</td>\n",
       "      <td>-0.721281</td>\n",
       "      <td>...</td>\n",
       "      <td>0</td>\n",
       "      <td>0</td>\n",
       "      <td>0</td>\n",
       "      <td>1</td>\n",
       "      <td>0</td>\n",
       "      <td>0</td>\n",
       "      <td>0</td>\n",
       "      <td>1</td>\n",
       "      <td>0</td>\n",
       "      <td>0</td>\n",
       "    </tr>\n",
       "    <tr>\n",
       "      <th>4</th>\n",
       "      <td>1</td>\n",
       "      <td>1</td>\n",
       "      <td>4.0</td>\n",
       "      <td>0</td>\n",
       "      <td>0</td>\n",
       "      <td>3</td>\n",
       "      <td>1.000000</td>\n",
       "      <td>-0.091786</td>\n",
       "      <td>1.285867</td>\n",
       "      <td>0.114448</td>\n",
       "      <td>...</td>\n",
       "      <td>0</td>\n",
       "      <td>0</td>\n",
       "      <td>0</td>\n",
       "      <td>0</td>\n",
       "      <td>0</td>\n",
       "      <td>1</td>\n",
       "      <td>0</td>\n",
       "      <td>1</td>\n",
       "      <td>0</td>\n",
       "      <td>0</td>\n",
       "    </tr>\n",
       "  </tbody>\n",
       "</table>\n",
       "<p>5 rows × 90 columns</p>\n",
       "</div>"
      ],
      "text/plain": [
       "   UniqueSubs  ActiveSubs  HandsetModels  RetentionCalls  \\\n",
       "0           1           1            6.0               0   \n",
       "1           1           1            4.0               0   \n",
       "2           1           1            3.0               0   \n",
       "3           3           2            5.0               0   \n",
       "4           1           1            4.0               0   \n",
       "\n",
       "   RetentionOffersAccepted  IncomeGroup  perc_active_subs  MonthlyRevenue  \\\n",
       "0                        0            5          1.000000       -0.040680   \n",
       "1                        0            6          1.000000       -0.092707   \n",
       "2                        0            4          1.000000        0.876705   \n",
       "3                        0            4          0.666667       -0.544838   \n",
       "4                        0            3          1.000000       -0.091786   \n",
       "\n",
       "   MonthlyMinutes  TotalRecurringCharge  ...  CreditRating_5-Low  \\\n",
       "0       -0.093713             -0.428776  ...                   1   \n",
       "1        0.070703              1.033751  ...                   0   \n",
       "2        0.957036              0.114448  ...                   0   \n",
       "3       -0.717358             -0.721281  ...                   0   \n",
       "4        1.285867              0.114448  ...                   0   \n",
       "\n",
       "   CreditRating_6-VeryLow  CreditRating_7-Lowest  PrizmCode_Other  \\\n",
       "0                       0                      0                1   \n",
       "1                       0                      0                1   \n",
       "2                       0                      0                0   \n",
       "3                       0                      0                1   \n",
       "4                       0                      0                0   \n",
       "\n",
       "   PrizmCode_Rural  PrizmCode_Suburban  PrizmCode_Town  MaritalStatus_No  \\\n",
       "0                0                   0               0                 1   \n",
       "1                0                   0               0                 1   \n",
       "2                0                   1               0                 0   \n",
       "3                0                   0               0                 1   \n",
       "4                0                   1               0                 1   \n",
       "\n",
       "   MaritalStatus_Unknown  MaritalStatus_Yes  \n",
       "0                      0                  0  \n",
       "1                      0                  0  \n",
       "2                      0                  1  \n",
       "3                      0                  0  \n",
       "4                      0                  0  \n",
       "\n",
       "[5 rows x 90 columns]"
      ]
     },
     "execution_count": 86,
     "metadata": {},
     "output_type": "execute_result"
    },
    {
     "data": {
      "text/plain": [
       "array([0.33443669, 0.4367595 , 0.49844224, ..., 0.40996707, 0.35889351,\n",
       "       0.35411026])"
      ]
     },
     "execution_count": 86,
     "metadata": {},
     "output_type": "execute_result"
    },
    {
     "data": {
      "text/plain": [
       "array([0., 0., 0., ..., 0., 0., 0.])"
      ]
     },
     "execution_count": 86,
     "metadata": {},
     "output_type": "execute_result"
    }
   ],
   "source": [
    "pred_df.shape\n",
    "pred_df.head()\n",
    "Prediction=clf.predict_proba(pred_df)[:,1]\n",
    "Prediction\n",
    "Pred_original=copy.deepcopy(Prediction)\n",
    "Pred_original[Prediction >= 0.53]=1\n",
    "Pred_original[Prediction < 0.53]=0\n",
    "Pred_original"
   ]
  }
 ],
 "metadata": {
  "colab": {
   "name": "Project 8 Starter Code.ipynb",
   "provenance": []
  },
  "kernelspec": {
   "display_name": "Python 3",
   "language": "python",
   "name": "python3"
  },
  "language_info": {
   "codemirror_mode": {
    "name": "ipython",
    "version": 3
   },
   "file_extension": ".py",
   "mimetype": "text/x-python",
   "name": "python",
   "nbconvert_exporter": "python",
   "pygments_lexer": "ipython3",
   "version": "3.8.3"
  }
 },
 "nbformat": 4,
 "nbformat_minor": 1
}
