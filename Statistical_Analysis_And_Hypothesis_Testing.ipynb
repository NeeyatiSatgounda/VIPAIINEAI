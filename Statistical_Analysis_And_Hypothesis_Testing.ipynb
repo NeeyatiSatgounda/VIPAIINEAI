{
 "cells": [
  {
   "cell_type": "markdown",
   "metadata": {
    "id": "kv-TcsXdiSZp"
   },
   "source": [
    "# Project 7: Statistical Analysis and Hypothesis Testing"
   ]
  },
  {
   "cell_type": "markdown",
   "metadata": {
    "id": "gi9x4HR1iSZp"
   },
   "source": [
    "## Packages and setup"
   ]
  },
  {
   "cell_type": "code",
   "execution_count": 1,
   "metadata": {
    "id": "NdQrrUh3iSZq"
   },
   "outputs": [],
   "source": [
    "import numpy as np\n",
    "import pandas as pd \n",
    "import seaborn as sns\n",
    "import matplotlib.pyplot as plt\n",
    "import os\n",
    "\n",
    "from scipy.stats import shapiro\n",
    "import scipy.stats as stats\n",
    "\n",
    "#parameter settings\n",
    "from IPython.core.interactiveshell import InteractiveShell\n",
    "InteractiveShell.ast_node_interactivity = \"all\"\n",
    "import warnings\n",
    "warnings.filterwarnings(\"ignore\")\n",
    "warnings.simplefilter(action='ignore', category=FutureWarning)"
   ]
  },
  {
   "cell_type": "markdown",
   "metadata": {
    "id": "qqf_XDwZiSZq"
   },
   "source": [
    "### Reading data and initial processing"
   ]
  },
  {
   "cell_type": "code",
   "execution_count": 2,
   "metadata": {
    "id": "OE839ZtOiSZr"
   },
   "outputs": [
    {
     "name": "stdout",
     "output_type": "stream",
     "text": [
      "Data types for the data set:\n"
     ]
    },
    {
     "data": {
      "text/plain": [
       "userid             int64\n",
       "version           object\n",
       "sum_gamerounds     int64\n",
       "retention_1         bool\n",
       "retention_7         bool\n",
       "dtype: object"
      ]
     },
     "execution_count": 2,
     "metadata": {},
     "output_type": "execute_result"
    },
    {
     "name": "stdout",
     "output_type": "stream",
     "text": [
      "Shape of the data i.e. no. of rows and columns\n"
     ]
    },
    {
     "data": {
      "text/plain": [
       "(90189, 5)"
      ]
     },
     "execution_count": 2,
     "metadata": {},
     "output_type": "execute_result"
    },
    {
     "name": "stdout",
     "output_type": "stream",
     "text": [
      "First 5 rows of the raw data:\n"
     ]
    },
    {
     "data": {
      "text/html": [
       "<div>\n",
       "<style scoped>\n",
       "    .dataframe tbody tr th:only-of-type {\n",
       "        vertical-align: middle;\n",
       "    }\n",
       "\n",
       "    .dataframe tbody tr th {\n",
       "        vertical-align: top;\n",
       "    }\n",
       "\n",
       "    .dataframe thead th {\n",
       "        text-align: right;\n",
       "    }\n",
       "</style>\n",
       "<table border=\"1\" class=\"dataframe\">\n",
       "  <thead>\n",
       "    <tr style=\"text-align: right;\">\n",
       "      <th></th>\n",
       "      <th>userid</th>\n",
       "      <th>version</th>\n",
       "      <th>sum_gamerounds</th>\n",
       "      <th>retention_1</th>\n",
       "      <th>retention_7</th>\n",
       "    </tr>\n",
       "  </thead>\n",
       "  <tbody>\n",
       "    <tr>\n",
       "      <th>0</th>\n",
       "      <td>116</td>\n",
       "      <td>gate_30</td>\n",
       "      <td>3</td>\n",
       "      <td>False</td>\n",
       "      <td>False</td>\n",
       "    </tr>\n",
       "    <tr>\n",
       "      <th>1</th>\n",
       "      <td>337</td>\n",
       "      <td>gate_30</td>\n",
       "      <td>38</td>\n",
       "      <td>True</td>\n",
       "      <td>False</td>\n",
       "    </tr>\n",
       "    <tr>\n",
       "      <th>2</th>\n",
       "      <td>377</td>\n",
       "      <td>gate_40</td>\n",
       "      <td>165</td>\n",
       "      <td>True</td>\n",
       "      <td>False</td>\n",
       "    </tr>\n",
       "    <tr>\n",
       "      <th>3</th>\n",
       "      <td>483</td>\n",
       "      <td>gate_40</td>\n",
       "      <td>1</td>\n",
       "      <td>False</td>\n",
       "      <td>False</td>\n",
       "    </tr>\n",
       "    <tr>\n",
       "      <th>4</th>\n",
       "      <td>488</td>\n",
       "      <td>gate_40</td>\n",
       "      <td>179</td>\n",
       "      <td>True</td>\n",
       "      <td>True</td>\n",
       "    </tr>\n",
       "  </tbody>\n",
       "</table>\n",
       "</div>"
      ],
      "text/plain": [
       "   userid  version  sum_gamerounds  retention_1  retention_7\n",
       "0     116  gate_30               3        False        False\n",
       "1     337  gate_30              38         True        False\n",
       "2     377  gate_40             165         True        False\n",
       "3     483  gate_40               1        False        False\n",
       "4     488  gate_40             179         True         True"
      ]
     },
     "execution_count": 2,
     "metadata": {},
     "output_type": "execute_result"
    }
   ],
   "source": [
    "#Read data using pandas\n",
    "user_df=pd.read_csv(\"F:/Neeyati/VIP_Internship/cookie_cats.csv\")\n",
    "\n",
    "#Check data types of each column using \"dtypes\" function\n",
    "print(\"Data types for the data set:\")\n",
    "user_df.dtypes\n",
    "\n",
    "#Check dimension of data i.e. # of rows and #column using pandas \"shape\" funtion\n",
    "print(\"Shape of the data i.e. no. of rows and columns\")\n",
    "user_df.shape\n",
    "\n",
    "#display first 5 rows of the data using \"head\" function\n",
    "print(\"First 5 rows of the raw data:\")\n",
    "user_df.head(5)"
   ]
  },
  {
   "cell_type": "markdown",
   "metadata": {
    "id": "hMuveQlXiSZr"
   },
   "source": [
    "## Exercise"
   ]
  },
  {
   "cell_type": "markdown",
   "metadata": {
    "id": "iN8-hwHDiSZs"
   },
   "source": [
    "## Q1. Detect and resolve problems in the data (Missing value, Outliers, etc.)"
   ]
  },
  {
   "cell_type": "markdown",
   "metadata": {
    "id": "h_ZnLazliSZs"
   },
   "source": [
    "### Q1.1 Identify missing value"
   ]
  },
  {
   "cell_type": "markdown",
   "metadata": {
    "id": "g0YE1IjfiSZs"
   },
   "source": [
    "#Check for any missing values in the data using isnull() function\n",
    "user_df.isnull().sum()\n"
   ]
  },
  {
   "cell_type": "code",
   "execution_count": 3,
   "metadata": {},
   "outputs": [
    {
     "name": "stdout",
     "output_type": "stream",
     "text": [
      "List has no duplicate elements.\n"
     ]
    }
   ],
   "source": [
    "#check dulicates values using user define fuction.\n",
    "def check_duplicate(l):\n",
    "    mySet = set(l)\n",
    "    if len(mySet) == len(l):\n",
    "        print(\"List has no duplicate elements.\")\n",
    "    else:\n",
    "        print(\"The list contains duplicate elements\")\n",
    "check_duplicate(user_df.userid)"
   ]
  },
  {
   "cell_type": "markdown",
   "metadata": {
    "id": "tMU_kjsiiSZs"
   },
   "source": [
    "### Q1.2 Identify outliers"
   ]
  },
  {
   "cell_type": "code",
   "execution_count": 4,
   "metadata": {
    "id": "IMwNE8XBiSZt"
   },
   "outputs": [
    {
     "data": {
      "text/plain": [
       "Text(0.5, 1.0, 'Total gamerounds played')"
      ]
     },
     "execution_count": 4,
     "metadata": {},
     "output_type": "execute_result"
    },
    {
     "data": {
      "text/plain": [
       "Text(0.5, 0, 'Index')"
      ]
     },
     "execution_count": 4,
     "metadata": {},
     "output_type": "execute_result"
    },
    {
     "data": {
      "text/plain": [
       "Text(0, 0.5, 'sum_gamerounds')"
      ]
     },
     "execution_count": 4,
     "metadata": {},
     "output_type": "execute_result"
    },
    {
     "data": {
      "text/plain": [
       "[<matplotlib.lines.Line2D at 0x243b6c4f250>]"
      ]
     },
     "execution_count": 4,
     "metadata": {},
     "output_type": "execute_result"
    },
    {
     "data": {
      "image/png": "[encoded data removed]",
      "text/plain": [
       "<Figure size 432x288 with 1 Axes>"
      ]
     },
     "metadata": {
      "needs_background": "light"
     },
     "output_type": "display_data"
    }
   ],
   "source": [
    "#Check for outlier values in sum_gamerounds column\n",
    "plt.title(\"Total gamerounds played\")\n",
    "plt.xlabel(\"Index\")\n",
    "plt.ylabel(\"sum_gamerounds\")\n",
    "plt.plot(user_df.sum_gamerounds)"
   ]
  },
  {
   "cell_type": "code",
   "execution_count": 5,
   "metadata": {
    "id": "XOdf6IaOiSZt"
   },
   "outputs": [
    {
     "data": {
      "text/plain": [
       "49854"
      ]
     },
     "execution_count": 5,
     "metadata": {},
     "output_type": "execute_result"
    }
   ],
   "source": [
    "#Based on the plot, filter out the outlier from sum_gamerounds played; Use max() fucntion to find the index of the outlier\n",
    "max_value = max(user_df.sum_gamerounds)\n",
    "max_value\n",
    "index = user_df[user_df.sum_gamerounds.isin([max_value])].index.tolist()\n",
    "\n",
    "#To drop Outlier.\n",
    "user_df.drop(user_df.index[index],inplace=True)\n"
   ]
  },
  {
   "cell_type": "code",
   "execution_count": 6,
   "metadata": {
    "id": "7_9eQe7riSZt"
   },
   "outputs": [
    {
     "data": {
      "text/plain": [
       "Text(0.5, 1.0, 'Total gamerounds played')"
      ]
     },
     "execution_count": 6,
     "metadata": {},
     "output_type": "execute_result"
    },
    {
     "data": {
      "text/plain": [
       "Text(0.5, 0, 'Index')"
      ]
     },
     "execution_count": 6,
     "metadata": {},
     "output_type": "execute_result"
    },
    {
     "data": {
      "text/plain": [
       "Text(0, 0.5, 'sum_gamerounds')"
      ]
     },
     "execution_count": 6,
     "metadata": {},
     "output_type": "execute_result"
    },
    {
     "data": {
      "text/plain": [
       "[<matplotlib.lines.Line2D at 0x243b9175e80>]"
      ]
     },
     "execution_count": 6,
     "metadata": {},
     "output_type": "execute_result"
    },
    {
     "data": {
      "image/png": "[encoded data removed]",
      "text/plain": [
       "<Figure size 432x288 with 1 Axes>"
      ]
     },
     "metadata": {
      "needs_background": "light"
     },
     "output_type": "display_data"
    }
   ],
   "source": [
    "#Plot the graph for sum_gamerounds player after removing the outlier\n",
    "plt.title(\"Total gamerounds played\")\n",
    "plt.xlabel(\"Index\")\n",
    "plt.ylabel(\"sum_gamerounds\")\n",
    "plt.plot(user_df.sum_gamerounds)\n"
   ]
  },
  {
   "cell_type": "markdown",
   "metadata": {
    "id": "MRUPfPr9iSZt"
   },
   "source": [
    "## Q2. Plot summary statistics and identify trends to answer basis business questions"
   ]
  },
  {
   "cell_type": "markdown",
   "metadata": {
    "id": "4-Ah9dqQiSZt"
   },
   "source": [
    "### Q2.1 What is the overall 7-day retention rate of the game?"
   ]
  },
  {
   "cell_type": "code",
   "execution_count": 7,
   "metadata": {},
   "outputs": [
    {
     "data": {
      "text/plain": [
       "16780"
      ]
     },
     "execution_count": 7,
     "metadata": {},
     "output_type": "execute_result"
    },
    {
     "data": {
      "text/plain": [
       "90188"
      ]
     },
     "execution_count": 7,
     "metadata": {},
     "output_type": "execute_result"
    }
   ],
   "source": [
    "user_df.retention_7.sum()\n",
    "#To check total count.\n",
    "user_df.retention_7.count() "
   ]
  },
  {
   "cell_type": "code",
   "execution_count": 8,
   "metadata": {
    "id": "hHykqZ3YiSZu"
   },
   "outputs": [
    {
     "name": "stdout",
     "output_type": "stream",
     "text": [
      "Overal 7 days retention rate of the game for both versions is:  18.61 %\n"
     ]
    }
   ],
   "source": [
    "#Insert calculation for 7-day retention rate\n",
    "\n",
    "retention_rate_7=round((user_df.retention_7.sum()/user_df.shape[0])*100,2)\n",
    "print(\"Overal 7 days retention rate of the game for both versions is: \" ,retention_rate_7,\"%\")\n"
   ]
  },
  {
   "cell_type": "markdown",
   "metadata": {
    "id": "5okbyesoiSZu"
   },
   "source": [
    "### Q2.2 How many players never played the game after installing? "
   ]
  },
  {
   "cell_type": "code",
   "execution_count": 9,
   "metadata": {
    "id": "goO-ALhkiSZu"
   },
   "outputs": [
    {
     "data": {
      "text/plain": [
       "3994"
      ]
     },
     "execution_count": 9,
     "metadata": {},
     "output_type": "execute_result"
    }
   ],
   "source": [
    "# Find number of customers with sum_gamerounds is equal to zero\n",
    "user_df[user_df.sum_gamerounds == 0].shape[0]\n"
   ]
  },
  {
   "cell_type": "markdown",
   "metadata": {
    "id": "EVEICqddiSZu"
   },
   "source": [
    "### Q2.3 Does the number of users decrease as the level progresses highlighting the difficulty of the game?"
   ]
  },
  {
   "cell_type": "code",
   "execution_count": 10,
   "metadata": {
    "id": "zxwwafgFiSZu"
   },
   "outputs": [
    {
     "data": {
      "text/html": [
       "<div>\n",
       "<style scoped>\n",
       "    .dataframe tbody tr th:only-of-type {\n",
       "        vertical-align: middle;\n",
       "    }\n",
       "\n",
       "    .dataframe tbody tr th {\n",
       "        vertical-align: top;\n",
       "    }\n",
       "\n",
       "    .dataframe thead th {\n",
       "        text-align: right;\n",
       "    }\n",
       "</style>\n",
       "<table border=\"1\" class=\"dataframe\">\n",
       "  <thead>\n",
       "    <tr style=\"text-align: right;\">\n",
       "      <th></th>\n",
       "      <th>sum_gamerounds</th>\n",
       "      <th>count</th>\n",
       "    </tr>\n",
       "  </thead>\n",
       "  <tbody>\n",
       "    <tr>\n",
       "      <th>0</th>\n",
       "      <td>0</td>\n",
       "      <td>3994</td>\n",
       "    </tr>\n",
       "    <tr>\n",
       "      <th>1</th>\n",
       "      <td>1</td>\n",
       "      <td>5538</td>\n",
       "    </tr>\n",
       "    <tr>\n",
       "      <th>2</th>\n",
       "      <td>2</td>\n",
       "      <td>4606</td>\n",
       "    </tr>\n",
       "    <tr>\n",
       "      <th>3</th>\n",
       "      <td>3</td>\n",
       "      <td>3958</td>\n",
       "    </tr>\n",
       "    <tr>\n",
       "      <th>4</th>\n",
       "      <td>4</td>\n",
       "      <td>3629</td>\n",
       "    </tr>\n",
       "    <tr>\n",
       "      <th>...</th>\n",
       "      <td>...</td>\n",
       "      <td>...</td>\n",
       "    </tr>\n",
       "    <tr>\n",
       "      <th>196</th>\n",
       "      <td>196</td>\n",
       "      <td>46</td>\n",
       "    </tr>\n",
       "    <tr>\n",
       "      <th>197</th>\n",
       "      <td>197</td>\n",
       "      <td>39</td>\n",
       "    </tr>\n",
       "    <tr>\n",
       "      <th>198</th>\n",
       "      <td>198</td>\n",
       "      <td>37</td>\n",
       "    </tr>\n",
       "    <tr>\n",
       "      <th>199</th>\n",
       "      <td>199</td>\n",
       "      <td>46</td>\n",
       "    </tr>\n",
       "    <tr>\n",
       "      <th>200</th>\n",
       "      <td>200</td>\n",
       "      <td>49</td>\n",
       "    </tr>\n",
       "  </tbody>\n",
       "</table>\n",
       "<p>201 rows × 2 columns</p>\n",
       "</div>"
      ],
      "text/plain": [
       "     sum_gamerounds  count\n",
       "0                 0   3994\n",
       "1                 1   5538\n",
       "2                 2   4606\n",
       "3                 3   3958\n",
       "4                 4   3629\n",
       "..              ...    ...\n",
       "196             196     46\n",
       "197             197     39\n",
       "198             198     37\n",
       "199             199     46\n",
       "200             200     49\n",
       "\n",
       "[201 rows x 2 columns]"
      ]
     },
     "execution_count": 10,
     "metadata": {},
     "output_type": "execute_result"
    }
   ],
   "source": [
    "#Group by sum_gamerounds and count the number of users for the first 200 gamerounds\n",
    "#Use plot() function on the summarized stats to visualize the chart\n",
    "new_df = user_df[[\"userid\",\"sum_gamerounds\"]].groupby(\"sum_gamerounds\").count().reset_index().rename(columns={\"userid\":\"count\"})[0:201]\n",
    "new_df"
   ]
  },
  {
   "cell_type": "code",
   "execution_count": 13,
   "metadata": {},
   "outputs": [
    {
     "data": {
      "text/plain": [
       "Text(0.5, 0, 'sum_gamerounds')"
      ]
     },
     "execution_count": 13,
     "metadata": {},
     "output_type": "execute_result"
    },
    {
     "data": {
      "text/plain": [
       "Text(0, 0.5, 'count of players')"
      ]
     },
     "execution_count": 13,
     "metadata": {},
     "output_type": "execute_result"
    },
    {
     "data": {
      "text/plain": [
       "Text(0.5, 1.0, 'Count of players Vs Sum_Gamerounds')"
      ]
     },
     "execution_count": 13,
     "metadata": {},
     "output_type": "execute_result"
    },
    {
     "data": {
      "text/plain": [
       "[<matplotlib.lines.Line2D at 0x25bc0880250>]"
      ]
     },
     "execution_count": 13,
     "metadata": {},
     "output_type": "execute_result"
    },
    {
     "data": {
      "image/png": "[encoded data removed]",
      "text/plain": [
       "<Figure size 432x288 with 1 Axes>"
      ]
     },
     "metadata": {
      "needs_background": "light"
     },
     "output_type": "display_data"
    }
   ],
   "source": [
    "plt.xlabel(\"sum_gamerounds\")\n",
    "plt.ylabel(\"count of players\")\n",
    "plt.title(\"Count of players Vs Sum_Gamerounds\")\n",
    "plt.plot(new_df[\"sum_gamerounds\"],new_df[\"count\"])"
   ]
  },
  {
   "cell_type": "markdown",
   "metadata": {
    "id": "DcyQYU-tiSZu"
   },
   "source": [
    "## Q3. Generate crosstab for two groups of players to understand if there is a difference in 7 days retention rate & total number of game rounds played"
   ]
  },
  {
   "cell_type": "markdown",
   "metadata": {
    "id": "2w7GpBd8iSZu"
   },
   "source": [
    "### Q3.1 Seven days retention rate summary for different game versions"
   ]
  },
  {
   "cell_type": "code",
   "execution_count": 11,
   "metadata": {
    "id": "-t8DdMxBiSZu",
    "outputId": "7400ae07-5180-4b58-fd59-9360779e8b57"
   },
   "outputs": [
    {
     "data": {
      "text/html": [
       "<div>\n",
       "<style scoped>\n",
       "    .dataframe tbody tr th:only-of-type {\n",
       "        vertical-align: middle;\n",
       "    }\n",
       "\n",
       "    .dataframe tbody tr th {\n",
       "        vertical-align: top;\n",
       "    }\n",
       "\n",
       "    .dataframe thead th {\n",
       "        text-align: right;\n",
       "    }\n",
       "</style>\n",
       "<table border=\"1\" class=\"dataframe\">\n",
       "  <thead>\n",
       "    <tr style=\"text-align: right;\">\n",
       "      <th>retention_7</th>\n",
       "      <th>False</th>\n",
       "      <th>True</th>\n",
       "    </tr>\n",
       "    <tr>\n",
       "      <th>version</th>\n",
       "      <th></th>\n",
       "      <th></th>\n",
       "    </tr>\n",
       "  </thead>\n",
       "  <tbody>\n",
       "    <tr>\n",
       "      <th>gate_30</th>\n",
       "      <td>36198</td>\n",
       "      <td>8501</td>\n",
       "    </tr>\n",
       "    <tr>\n",
       "      <th>gate_40</th>\n",
       "      <td>37210</td>\n",
       "      <td>8279</td>\n",
       "    </tr>\n",
       "  </tbody>\n",
       "</table>\n",
       "</div>"
      ],
      "text/plain": [
       "retention_7  False  True \n",
       "version                  \n",
       "gate_30      36198   8501\n",
       "gate_40      37210   8279"
      ]
     },
     "execution_count": 11,
     "metadata": {},
     "output_type": "execute_result"
    },
    {
     "data": {
      "text/html": [
       "<div>\n",
       "<style scoped>\n",
       "    .dataframe tbody tr th:only-of-type {\n",
       "        vertical-align: middle;\n",
       "    }\n",
       "\n",
       "    .dataframe tbody tr th {\n",
       "        vertical-align: top;\n",
       "    }\n",
       "\n",
       "    .dataframe thead th {\n",
       "        text-align: right;\n",
       "    }\n",
       "</style>\n",
       "<table border=\"1\" class=\"dataframe\">\n",
       "  <thead>\n",
       "    <tr style=\"text-align: right;\">\n",
       "      <th>retention_7</th>\n",
       "      <th>False</th>\n",
       "      <th>True</th>\n",
       "    </tr>\n",
       "    <tr>\n",
       "      <th>version</th>\n",
       "      <th></th>\n",
       "      <th></th>\n",
       "    </tr>\n",
       "  </thead>\n",
       "  <tbody>\n",
       "    <tr>\n",
       "      <th>gate_30</th>\n",
       "      <td>0.809817</td>\n",
       "      <td>0.190183</td>\n",
       "    </tr>\n",
       "    <tr>\n",
       "      <th>gate_40</th>\n",
       "      <td>0.818000</td>\n",
       "      <td>0.182000</td>\n",
       "    </tr>\n",
       "  </tbody>\n",
       "</table>\n",
       "</div>"
      ],
      "text/plain": [
       "retention_7     False     True \n",
       "version                        \n",
       "gate_30      0.809817  0.190183\n",
       "gate_40      0.818000  0.182000"
      ]
     },
     "execution_count": 11,
     "metadata": {},
     "output_type": "execute_result"
    }
   ],
   "source": [
    "#Create cross tab for game version and retention_7 flag counting number of users for each possible categories\n",
    "#The crosstab() function is used to compute a simple cross tabulation of two (or more) factors.\n",
    "#By default computes a frequency table of the factors unless an array of values and an aggregation function are passed.\n",
    "\n",
    "pd.crosstab(user_df.version, user_df.retention_7)\n",
    "pd.crosstab(user_df.version, user_df.retention_7).apply(lambda r: r/r.sum(),axis=1) # lambda is anonymous to defined funtion"
   ]
  },
  {
   "cell_type": "markdown",
   "metadata": {
    "id": "aL9bwkcpiSZv"
   },
   "source": [
    "<mark>__Analsysis Results:__\n",
    "    \n",
    "From above crosstab we can conclude that only 19.02% players are active after 7 days in gate_30 type and 18.20% players are active in gate_40 type."
   ]
  },
  {
   "cell_type": "markdown",
   "metadata": {
    "id": "62ZIlfh1iSZv"
   },
   "source": [
    "### Q3.2 Gamerounds summary for different game versions"
   ]
  },
  {
   "cell_type": "code",
   "execution_count": 12,
   "metadata": {
    "id": "BCyf0Q5eiSZv"
   },
   "outputs": [
    {
     "data": {
      "text/html": [
       "<div>\n",
       "<style scoped>\n",
       "    .dataframe tbody tr th:only-of-type {\n",
       "        vertical-align: middle;\n",
       "    }\n",
       "\n",
       "    .dataframe tbody tr th {\n",
       "        vertical-align: top;\n",
       "    }\n",
       "\n",
       "    .dataframe thead th {\n",
       "        text-align: right;\n",
       "    }\n",
       "</style>\n",
       "<table border=\"1\" class=\"dataframe\">\n",
       "  <thead>\n",
       "    <tr style=\"text-align: right;\">\n",
       "      <th></th>\n",
       "      <th>sum_gamerounds</th>\n",
       "    </tr>\n",
       "    <tr>\n",
       "      <th>version</th>\n",
       "      <th></th>\n",
       "    </tr>\n",
       "  </thead>\n",
       "  <tbody>\n",
       "    <tr>\n",
       "      <th>gate_30</th>\n",
       "      <td>51.342111</td>\n",
       "    </tr>\n",
       "    <tr>\n",
       "      <th>gate_40</th>\n",
       "      <td>51.298776</td>\n",
       "    </tr>\n",
       "  </tbody>\n",
       "</table>\n",
       "</div>"
      ],
      "text/plain": [
       "         sum_gamerounds\n",
       "version                \n",
       "gate_30       51.342111\n",
       "gate_40       51.298776"
      ]
     },
     "execution_count": 12,
     "metadata": {},
     "output_type": "execute_result"
    }
   ],
   "source": [
    "#use pandas group by to calculate average game rounds played summarized by different versions\n",
    "user_df[[\"version\",\"sum_gamerounds\"]].groupby(\"version\").agg(\"mean\")\n"
   ]
  },
  {
   "cell_type": "markdown",
   "metadata": {
    "id": "DP5BIJZyiSZv"
   },
   "source": [
    "<mark>__Analsysis Results:__\n",
    "    \n",
    "Do total number of gamerounds played in total by each player differ based on  different versions of the game?\n",
    "    \n",
    "    From above table we canclude that, there is not much diffrence in both type of games most of the players on an average     played 51 gamerounds in both type."
   ]
  },
  {
   "cell_type": "markdown",
   "metadata": {
    "id": "HdEYjtfpiSZv"
   },
   "source": [
    "## Q4. Perform two-sample test for groups A and B to test statistical significance amongst the groups in the sum of game rounds played i.e., if groups A and B are statistically different"
   ]
  },
  {
   "cell_type": "markdown",
   "metadata": {
    "id": "3ydc-t8WiSZw"
   },
   "source": [
    "### Initial data processing"
   ]
  },
  {
   "cell_type": "code",
   "execution_count": 13,
   "metadata": {
    "id": "YtgXXq93iSZw"
   },
   "outputs": [],
   "source": [
    "#Define A/B groups for hypothesis testing\n",
    "#user_df[\"version\"] = np.where(user_df.version == \"gate_30\", \"A\", \"B\")\n",
    "user_df[\"version\"] = user_df[\"version\"].replace([\"gate_30\",\"gate_40\"],[\"A\",\"B\"])\n",
    "group_A=pd.DataFrame(user_df[user_df.version==\"A\"]['sum_gamerounds'])\n",
    "group_B=pd.DataFrame(user_df[user_df.version==\"B\"]['sum_gamerounds'])\n"
   ]
  },
  {
   "cell_type": "code",
   "execution_count": 18,
   "metadata": {},
   "outputs": [
    {
     "data": {
      "text/plain": [
       "userid            44699\n",
       "version           44699\n",
       "sum_gamerounds    44699\n",
       "retention_1       44699\n",
       "retention_7       44699\n",
       "dtype: int64"
      ]
     },
     "execution_count": 18,
     "metadata": {},
     "output_type": "execute_result"
    },
    {
     "data": {
      "text/plain": [
       "userid            45489\n",
       "version           45489\n",
       "sum_gamerounds    45489\n",
       "retention_1       45489\n",
       "retention_7       45489\n",
       "dtype: int64"
      ]
     },
     "execution_count": 18,
     "metadata": {},
     "output_type": "execute_result"
    }
   ],
   "source": [
    "user_df[user_df.version == \"A\"].count()\n",
    "user_df[user_df.version == \"B\"].count()"
   ]
  },
  {
   "cell_type": "markdown",
   "metadata": {},
   "source": [
    "From count we are able to say that there is difference in sample size. Let's check this diiference is significant or not using statistical test.\n"
   ]
  },
  {
   "cell_type": "markdown",
   "metadata": {
    "id": "zlyeTKiTiSZw"
   },
   "source": [
    "### Q4.1 Shapiro test of Normality"
   ]
  },
  {
   "cell_type": "code",
   "execution_count": 14,
   "metadata": {
    "id": "tXsSQmHdiSZw"
   },
   "outputs": [
    {
     "data": {
      "text/plain": [
       "ShapiroResult(statistic=0.48864424228668213, pvalue=0.0)"
      ]
     },
     "execution_count": 14,
     "metadata": {},
     "output_type": "execute_result"
    },
    {
     "data": {
      "text/plain": [
       "ShapiroResult(statistic=0.48256540298461914, pvalue=0.0)"
      ]
     },
     "execution_count": 14,
     "metadata": {},
     "output_type": "execute_result"
    }
   ],
   "source": [
    "#---------------------- Shapiro Test ----------------------\n",
    "# NULL Hypothesis H0: Distribution is normal\n",
    "# ALTERNATE Hypothesis H1: Distribution is not normal    \n",
    "\n",
    "#test for group_A\n",
    "shapiro(group_A)\n",
    "\n",
    "#test for group_B\n",
    "shapiro(group_B)"
   ]
  },
  {
   "cell_type": "markdown",
   "metadata": {
    "id": "AOQIRsuAiSZw"
   },
   "source": [
    "<mark>__Analsysis Results:__\n",
    "    \n",
    "__Type your answer here:__ Analyze and interpret the results of shapiro test of normality i.e. are the two groups normally distributed?\n",
    "    \n",
    "    As p- value is less than 0.05 we have sufficient evidience to reject H0, i.e, bothe samples distribution is not Normal."
   ]
  },
  {
   "cell_type": "markdown",
   "metadata": {
    "id": "q4o9AOd7iSZx"
   },
   "source": [
    "### Q4.2 Test of homegienity of variance"
   ]
  },
  {
   "cell_type": "code",
   "execution_count": 15,
   "metadata": {
    "id": "mrziVdBNiSZx"
   },
   "outputs": [
    {
     "data": {
      "text/plain": [
       "LeveneResult(statistic=0.07510153837481241, pvalue=0.7840494387892463)"
      ]
     },
     "execution_count": 15,
     "metadata": {},
     "output_type": "execute_result"
    }
   ],
   "source": [
    "#---------------------- Leven's Test ----------------------\n",
    "# NULL Hypothesis H0: Two groups have equal variances\n",
    "# ALTERNATE Hypothesis H1: Two groups do not have equal variances\n",
    "\n",
    "#perform levene's test and accept or reject the null hypothesis based on the results\n",
    "\n",
    "stats.levene(group_A.sum_gamerounds,group_B.sum_gamerounds)\n"
   ]
  },
  {
   "cell_type": "markdown",
   "metadata": {
    "id": "LwTNd1VPiSZx"
   },
   "source": [
    "<mark>__Analsysis Results:__\n",
    "    \n",
    " Results of Levene's test:\n",
    "    As p-value is greater than 0.05, we are fails to reject H0 , i.e, Both game type have equal variance."
   ]
  },
  {
   "cell_type": "markdown",
   "metadata": {
    "id": "uWPsJfKPiSZy"
   },
   "source": [
    "### Q4.3 Test of significance: Two sample test"
   ]
  },
  {
   "cell_type": "code",
   "execution_count": 16,
   "metadata": {
    "id": "l7nqj4X5iSZz"
   },
   "outputs": [
    {
     "data": {
      "text/plain": [
       "MannwhitneyuResult(statistic=1009027049.5, pvalue=0.02544577639572688)"
      ]
     },
     "execution_count": 16,
     "metadata": {},
     "output_type": "execute_result"
    }
   ],
   "source": [
    "#---------------------- Two samples test ----------------------\n",
    "# NULL Hypothesis H0: Two samples are equal\n",
    "# ALTERNATE Hypothesis H1: Two samples are different\n",
    "\n",
    "#Apply relevant two sample test to accept or reject the NULL hypothesis\n",
    "stats.mannwhitneyu(group_A.sum_gamerounds,group_B.sum_gamerounds)\n"
   ]
  },
  {
   "cell_type": "markdown",
   "metadata": {
    "id": "kE7uFYGSiSZz"
   },
   "source": [
    "<mark>__Analsysis Results:__\n",
    "    \n",
    " Results of Mann Whitney U Test:\n",
    "    As p-value is less than 0.05 we have sufficient evidience to reject H0. Which implies bothe samples have different distribution.Here we are able to prove that ,staistical both samples differ from each other.\n",
    "    "
   ]
  },
  {
   "cell_type": "markdown",
   "metadata": {
    "id": "AJRShYQFiSZz"
   },
   "source": [
    "## Q5. Based on significance testing results, if groups A and B are statistically different, which level has more advantage in terms of player retention and number of game rounds played"
   ]
  },
  {
   "cell_type": "code",
   "execution_count": 17,
   "metadata": {
    "id": "1d_q6KSxiSZz"
   },
   "outputs": [
    {
     "data": {
      "text/html": [
       "<div>\n",
       "<style scoped>\n",
       "    .dataframe tbody tr th:only-of-type {\n",
       "        vertical-align: middle;\n",
       "    }\n",
       "\n",
       "    .dataframe tbody tr th {\n",
       "        vertical-align: top;\n",
       "    }\n",
       "\n",
       "    .dataframe thead th {\n",
       "        text-align: right;\n",
       "    }\n",
       "</style>\n",
       "<table border=\"1\" class=\"dataframe\">\n",
       "  <thead>\n",
       "    <tr style=\"text-align: right;\">\n",
       "      <th></th>\n",
       "      <th>retention_1</th>\n",
       "      <th>retention_7</th>\n",
       "    </tr>\n",
       "    <tr>\n",
       "      <th>version</th>\n",
       "      <th></th>\n",
       "      <th></th>\n",
       "    </tr>\n",
       "  </thead>\n",
       "  <tbody>\n",
       "    <tr>\n",
       "      <th>A</th>\n",
       "      <td>0.448198</td>\n",
       "      <td>0.190183</td>\n",
       "    </tr>\n",
       "    <tr>\n",
       "      <th>B</th>\n",
       "      <td>0.442283</td>\n",
       "      <td>0.182000</td>\n",
       "    </tr>\n",
       "  </tbody>\n",
       "</table>\n",
       "</div>"
      ],
      "text/plain": [
       "         retention_1  retention_7\n",
       "version                          \n",
       "A           0.448198     0.190183\n",
       "B           0.442283     0.182000"
      ]
     },
     "execution_count": 17,
     "metadata": {},
     "output_type": "execute_result"
    }
   ],
   "source": [
    "#Analyze the 1 day and 7 days retention rate for two different groups using group by function\n",
    "user_df[[\"version\",\"retention_1\",\"retention_7\"]].groupby(\"version\").agg(\"mean\")\n",
    "#user_df[[\"version\",\"retension_1\",\"retension_7\"]].groupby(\"version\").apply(lambda r: r/r.sum(),axis=1)\n",
    "\n"
   ]
  },
  {
   "cell_type": "markdown",
   "metadata": {
    "id": "eNFy8DxGiSZz"
   },
   "source": [
    "<mark>__Analsysis Results:__\n",
    "    \n",
    "Final recommendation to the company regarding which level works best as the first gate  - Level 30 or Level 40\n",
    "    From above table we can reccommand to company CEO that keep gate at Level 30 as retension rate for Group A i,e Level  30 is more than Group B."
   ]
  },
  {
   "cell_type": "markdown",
   "metadata": {
    "id": "GFeU6V0kiSZ0"
   },
   "source": [
    "## Q6. [Bonus Question]  Using bootstrap resampling, plot the retention rate distribution for both the groups inorder to visualize effect of different version of the game on retention."
   ]
  },
  {
   "cell_type": "code",
   "execution_count": 18,
   "metadata": {},
   "outputs": [
    {
     "data": {
      "text/html": [
       "<div>\n",
       "<style scoped>\n",
       "    .dataframe tbody tr th:only-of-type {\n",
       "        vertical-align: middle;\n",
       "    }\n",
       "\n",
       "    .dataframe tbody tr th {\n",
       "        vertical-align: top;\n",
       "    }\n",
       "\n",
       "    .dataframe thead th {\n",
       "        text-align: right;\n",
       "    }\n",
       "</style>\n",
       "<table border=\"1\" class=\"dataframe\">\n",
       "  <thead>\n",
       "    <tr style=\"text-align: right;\">\n",
       "      <th></th>\n",
       "      <th>userid</th>\n",
       "      <th>version</th>\n",
       "      <th>sum_gamerounds</th>\n",
       "      <th>retention_1</th>\n",
       "      <th>retention_7</th>\n",
       "    </tr>\n",
       "  </thead>\n",
       "  <tbody>\n",
       "    <tr>\n",
       "      <th>0</th>\n",
       "      <td>116</td>\n",
       "      <td>A</td>\n",
       "      <td>3</td>\n",
       "      <td>False</td>\n",
       "      <td>False</td>\n",
       "    </tr>\n",
       "    <tr>\n",
       "      <th>1</th>\n",
       "      <td>337</td>\n",
       "      <td>A</td>\n",
       "      <td>38</td>\n",
       "      <td>True</td>\n",
       "      <td>False</td>\n",
       "    </tr>\n",
       "    <tr>\n",
       "      <th>6</th>\n",
       "      <td>1066</td>\n",
       "      <td>A</td>\n",
       "      <td>0</td>\n",
       "      <td>False</td>\n",
       "      <td>False</td>\n",
       "    </tr>\n",
       "    <tr>\n",
       "      <th>11</th>\n",
       "      <td>2101</td>\n",
       "      <td>A</td>\n",
       "      <td>0</td>\n",
       "      <td>False</td>\n",
       "      <td>False</td>\n",
       "    </tr>\n",
       "    <tr>\n",
       "      <th>13</th>\n",
       "      <td>2179</td>\n",
       "      <td>A</td>\n",
       "      <td>39</td>\n",
       "      <td>True</td>\n",
       "      <td>False</td>\n",
       "    </tr>\n",
       "    <tr>\n",
       "      <th>...</th>\n",
       "      <td>...</td>\n",
       "      <td>...</td>\n",
       "      <td>...</td>\n",
       "      <td>...</td>\n",
       "      <td>...</td>\n",
       "    </tr>\n",
       "    <tr>\n",
       "      <th>90179</th>\n",
       "      <td>9998576</td>\n",
       "      <td>A</td>\n",
       "      <td>14</td>\n",
       "      <td>True</td>\n",
       "      <td>False</td>\n",
       "    </tr>\n",
       "    <tr>\n",
       "      <th>90180</th>\n",
       "      <td>9998623</td>\n",
       "      <td>A</td>\n",
       "      <td>7</td>\n",
       "      <td>False</td>\n",
       "      <td>False</td>\n",
       "    </tr>\n",
       "    <tr>\n",
       "      <th>90182</th>\n",
       "      <td>9999178</td>\n",
       "      <td>A</td>\n",
       "      <td>21</td>\n",
       "      <td>True</td>\n",
       "      <td>False</td>\n",
       "    </tr>\n",
       "    <tr>\n",
       "      <th>90183</th>\n",
       "      <td>9999349</td>\n",
       "      <td>A</td>\n",
       "      <td>10</td>\n",
       "      <td>False</td>\n",
       "      <td>False</td>\n",
       "    </tr>\n",
       "    <tr>\n",
       "      <th>90186</th>\n",
       "      <td>9999710</td>\n",
       "      <td>A</td>\n",
       "      <td>28</td>\n",
       "      <td>True</td>\n",
       "      <td>False</td>\n",
       "    </tr>\n",
       "  </tbody>\n",
       "</table>\n",
       "<p>44699 rows × 5 columns</p>\n",
       "</div>"
      ],
      "text/plain": [
       "        userid version  sum_gamerounds  retention_1  retention_7\n",
       "0          116       A               3        False        False\n",
       "1          337       A              38         True        False\n",
       "6         1066       A               0        False        False\n",
       "11        2101       A               0        False        False\n",
       "13        2179       A              39         True        False\n",
       "...        ...     ...             ...          ...          ...\n",
       "90179  9998576       A              14         True        False\n",
       "90180  9998623       A               7        False        False\n",
       "90182  9999178       A              21         True        False\n",
       "90183  9999349       A              10        False        False\n",
       "90186  9999710       A              28         True        False\n",
       "\n",
       "[44699 rows x 5 columns]"
      ]
     },
     "execution_count": 18,
     "metadata": {},
     "output_type": "execute_result"
    },
    {
     "data": {
      "text/html": [
       "<div>\n",
       "<style scoped>\n",
       "    .dataframe tbody tr th:only-of-type {\n",
       "        vertical-align: middle;\n",
       "    }\n",
       "\n",
       "    .dataframe tbody tr th {\n",
       "        vertical-align: top;\n",
       "    }\n",
       "\n",
       "    .dataframe thead th {\n",
       "        text-align: right;\n",
       "    }\n",
       "</style>\n",
       "<table border=\"1\" class=\"dataframe\">\n",
       "  <thead>\n",
       "    <tr style=\"text-align: right;\">\n",
       "      <th></th>\n",
       "      <th>userid</th>\n",
       "      <th>version</th>\n",
       "      <th>sum_gamerounds</th>\n",
       "      <th>retention_1</th>\n",
       "      <th>retention_7</th>\n",
       "    </tr>\n",
       "  </thead>\n",
       "  <tbody>\n",
       "    <tr>\n",
       "      <th>2</th>\n",
       "      <td>377</td>\n",
       "      <td>B</td>\n",
       "      <td>165</td>\n",
       "      <td>True</td>\n",
       "      <td>False</td>\n",
       "    </tr>\n",
       "    <tr>\n",
       "      <th>3</th>\n",
       "      <td>483</td>\n",
       "      <td>B</td>\n",
       "      <td>1</td>\n",
       "      <td>False</td>\n",
       "      <td>False</td>\n",
       "    </tr>\n",
       "    <tr>\n",
       "      <th>4</th>\n",
       "      <td>488</td>\n",
       "      <td>B</td>\n",
       "      <td>179</td>\n",
       "      <td>True</td>\n",
       "      <td>True</td>\n",
       "    </tr>\n",
       "    <tr>\n",
       "      <th>5</th>\n",
       "      <td>540</td>\n",
       "      <td>B</td>\n",
       "      <td>187</td>\n",
       "      <td>True</td>\n",
       "      <td>True</td>\n",
       "    </tr>\n",
       "    <tr>\n",
       "      <th>7</th>\n",
       "      <td>1444</td>\n",
       "      <td>B</td>\n",
       "      <td>2</td>\n",
       "      <td>False</td>\n",
       "      <td>False</td>\n",
       "    </tr>\n",
       "    <tr>\n",
       "      <th>...</th>\n",
       "      <td>...</td>\n",
       "      <td>...</td>\n",
       "      <td>...</td>\n",
       "      <td>...</td>\n",
       "      <td>...</td>\n",
       "    </tr>\n",
       "    <tr>\n",
       "      <th>90181</th>\n",
       "      <td>9998733</td>\n",
       "      <td>B</td>\n",
       "      <td>10</td>\n",
       "      <td>True</td>\n",
       "      <td>False</td>\n",
       "    </tr>\n",
       "    <tr>\n",
       "      <th>90184</th>\n",
       "      <td>9999441</td>\n",
       "      <td>B</td>\n",
       "      <td>97</td>\n",
       "      <td>True</td>\n",
       "      <td>False</td>\n",
       "    </tr>\n",
       "    <tr>\n",
       "      <th>90185</th>\n",
       "      <td>9999479</td>\n",
       "      <td>B</td>\n",
       "      <td>30</td>\n",
       "      <td>False</td>\n",
       "      <td>False</td>\n",
       "    </tr>\n",
       "    <tr>\n",
       "      <th>90187</th>\n",
       "      <td>9999768</td>\n",
       "      <td>B</td>\n",
       "      <td>51</td>\n",
       "      <td>True</td>\n",
       "      <td>False</td>\n",
       "    </tr>\n",
       "    <tr>\n",
       "      <th>90188</th>\n",
       "      <td>9999861</td>\n",
       "      <td>B</td>\n",
       "      <td>16</td>\n",
       "      <td>False</td>\n",
       "      <td>False</td>\n",
       "    </tr>\n",
       "  </tbody>\n",
       "</table>\n",
       "<p>45489 rows × 5 columns</p>\n",
       "</div>"
      ],
      "text/plain": [
       "        userid version  sum_gamerounds  retention_1  retention_7\n",
       "2          377       B             165         True        False\n",
       "3          483       B               1        False        False\n",
       "4          488       B             179         True         True\n",
       "5          540       B             187         True         True\n",
       "7         1444       B               2        False        False\n",
       "...        ...     ...             ...          ...          ...\n",
       "90181  9998733       B              10         True        False\n",
       "90184  9999441       B              97         True        False\n",
       "90185  9999479       B              30        False        False\n",
       "90187  9999768       B              51         True        False\n",
       "90188  9999861       B              16        False        False\n",
       "\n",
       "[45489 rows x 5 columns]"
      ]
     },
     "execution_count": 18,
     "metadata": {},
     "output_type": "execute_result"
    }
   ],
   "source": [
    "df_A=user_df[user_df.version == \"A\"]\n",
    "df_A\n",
    "df_B=user_df[user_df.version == \"B\"]\n",
    "df_B"
   ]
  },
  {
   "cell_type": "code",
   "execution_count": 19,
   "metadata": {},
   "outputs": [],
   "source": [
    "import statistics\n",
    "import random"
   ]
  },
  {
   "cell_type": "code",
   "execution_count": 20,
   "metadata": {},
   "outputs": [
    {
     "data": {
      "text/plain": [
       "array([ 3, 38,  0, ..., 21, 10, 28], dtype=int64)"
      ]
     },
     "execution_count": 20,
     "metadata": {},
     "output_type": "execute_result"
    },
    {
     "data": {
      "text/plain": [
       "array([ 3, 38,  0, ..., 21, 10, 28], dtype=int64)"
      ]
     },
     "execution_count": 20,
     "metadata": {},
     "output_type": "execute_result"
    }
   ],
   "source": [
    "#COnvert data column to numeric array.\n",
    "sample_A=df_A['sum_gamerounds'].to_numpy()\n",
    "sample_A\n",
    "\n",
    "sample_B=df_A['sum_gamerounds'].to_numpy()\n",
    "sample_B\n",
    "\n"
   ]
  },
  {
   "cell_type": "code",
   "execution_count": 21,
   "metadata": {},
   "outputs": [],
   "source": [
    "#User defined function for Bootstrap sampling.\n",
    "random.seed(2345)\n",
    "def myboot(mysample):\n",
    "    resample = random.choices(mysample, k = len(mysample))\n",
    "    m = statistics.mean(resample)\n",
    "    return m"
   ]
  },
  {
   "cell_type": "code",
   "execution_count": 22,
   "metadata": {},
   "outputs": [],
   "source": [
    "mymean_A = []\n",
    "for i in range(1000):\n",
    "    x = myboot(sample_A)\n",
    "    mymean_A.append(x)\n",
    "mymean_B = []\n",
    "for i in range(1000):\n",
    "    x = myboot(sample_B)\n",
    "    mymean_B.append(x)"
   ]
  },
  {
   "cell_type": "code",
   "execution_count": 23,
   "metadata": {
    "scrolled": true
   },
   "outputs": [
    {
     "data": {
      "text/plain": [
       "(array([  3.,   0.,   0., 245.,   0.,   0., 680.,   0.,   0.,  72.]),\n",
       " array([49. , 49.3, 49.6, 49.9, 50.2, 50.5, 50.8, 51.1, 51.4, 51.7, 52. ]),\n",
       " <BarContainer object of 10 artists>)"
      ]
     },
     "execution_count": 23,
     "metadata": {},
     "output_type": "execute_result"
    },
    {
     "data": {
      "text/plain": [
       "(array([  3.,   0., 230.,   0.,   0., 662.,   0., 104.,   0.,   1.]),\n",
       " array([49. , 49.4, 49.8, 50.2, 50.6, 51. , 51.4, 51.8, 52.2, 52.6, 53. ]),\n",
       " <BarContainer object of 10 artists>)"
      ]
     },
     "execution_count": 23,
     "metadata": {},
     "output_type": "execute_result"
    },
    {
     "data": {
      "image/png": "[encoded data removed]",
      "text/plain": [
       "<Figure size 432x288 with 1 Axes>"
      ]
     },
     "metadata": {
      "needs_background": "light"
     },
     "output_type": "display_data"
    }
   ],
   "source": [
    "plt.hist(mymean_A)\n",
    "plt.hist(mymean_B)"
   ]
  },
  {
   "cell_type": "code",
   "execution_count": 24,
   "metadata": {},
   "outputs": [
    {
     "data": {
      "text/plain": [
       "<AxesSubplot:ylabel='Density'>"
      ]
     },
     "execution_count": 24,
     "metadata": {},
     "output_type": "execute_result"
    },
    {
     "data": {
      "text/plain": [
       "<AxesSubplot:ylabel='Density'>"
      ]
     },
     "execution_count": 24,
     "metadata": {},
     "output_type": "execute_result"
    },
    {
     "data": {
      "image/png": "[encoded data removed]",
      "text/plain": [
       "<Figure size 432x288 with 1 Axes>"
      ]
     },
     "metadata": {
      "needs_background": "light"
     },
     "output_type": "display_data"
    }
   ],
   "source": [
    "sns.distplot(mymean_A, hist=False)\n",
    "sns.distplot(mymean_B, hist=False)"
   ]
  }
 ],
 "metadata": {
  "colab": {
   "collapsed_sections": [],
   "name": "Project 7 Starter Code.ipynb",
   "provenance": []
  },
  "kernelspec": {
   "display_name": "Python 3",
   "language": "python",
   "name": "python3"
  },
  "language_info": {
   "codemirror_mode": {
    "name": "ipython",
    "version": 3
   },
   "file_extension": ".py",
   "mimetype": "text/x-python",
   "name": "python",
   "nbconvert_exporter": "python",
   "pygments_lexer": "ipython3",
   "version": "3.8.3"
  }
 },
 "nbformat": 4,
 "nbformat_minor": 1
}
